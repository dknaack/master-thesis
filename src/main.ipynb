{
 "cells": [
  {
   "cell_type": "code",
   "execution_count": 34,
   "id": "50144a0e-af61-4b8f-8913-588c30c8f10d",
   "metadata": {},
   "outputs": [],
   "source": [
    "%display latex\n",
    "from utils import *"
   ]
  },
  {
   "cell_type": "markdown",
   "id": "caa40164-ed5f-49fb-b644-b48d4a2446e5",
   "metadata": {},
   "source": [
    "The modified update rule does not use a negative for the other indices.\n",
    "$$\n",
    "  x_i = \n",
    "  \\begin{cases}\n",
    "    \\frac{1}{x_i}, & \\text{ if } i = \\ell, \\\\\n",
    "    \\frac{x_i}{x_\\ell}, & \\text{ otherwise.} \\\\\n",
    "  \\end{cases}\n",
    "$$"
   ]
  },
  {
   "cell_type": "code",
   "execution_count": 36,
   "id": "8cdabe1a-9316-4903-9501-2deb510edf1d",
   "metadata": {},
   "outputs": [
    {
     "data": {
      "text/html": [
       "<html>\\(\\displaystyle \\left(\\begin{array}{rr}\n",
       "-3 & 2\n",
       "\\end{array}\\right)\\)</html>"
      ],
      "text/latex": [
       "$\\displaystyle \\left(\\begin{array}{rr}\n",
       "-3 & 2\n",
       "\\end{array}\\right)$"
      ],
      "text/plain": [
       "[-3  2]"
      ]
     },
     "execution_count": 36,
     "metadata": {},
     "output_type": "execute_result"
    }
   ],
   "source": [
    "x = var('x')\n",
    "K.<alpha> = NumberField(x^2 - x - 1, embedding=RR(1))\n",
    "xs = (alpha,)\n",
    "ys = get_convergent(xs, [0, 0])\n",
    "matrix([(yi.denominator() * abs(xi - yi)).list() for xi, yi in zip(xs, ys)])"
   ]
  },
  {
   "cell_type": "code",
   "execution_count": 39,
   "id": "420d2b0c-3c11-4405-b724-c7aadbaa2bef",
   "metadata": {},
   "outputs": [
    {
     "data": {
      "text/html": [
       "<html>\\(\\displaystyle \\left(\\begin{array}{rr}\n",
       "2 & 1 \\\\\n",
       "1 & 1 \\\\\n",
       "0 & 1\n",
       "\\end{array}\\right)\\)</html>"
      ],
      "text/latex": [
       "$\\displaystyle \\left(\\begin{array}{rr}\n",
       "2 & 1 \\\\\n",
       "1 & 1 \\\\\n",
       "0 & 1\n",
       "\\end{array}\\right)$"
      ],
      "text/plain": [
       "[2 1]\n",
       "[1 1]\n",
       "[0 1]"
      ]
     },
     "execution_count": 39,
     "metadata": {},
     "output_type": "execute_result"
    }
   ],
   "source": [
    "K.<alpha> = NumberField(x^3 - 2, embedding=RR(1))\n",
    "xs = (alpha, alpha^2)\n",
    "ys = pivot(xs, 0, 1, 0, 1, 0, 1, 0, 1)\n",
    "matrix([yi.list() for yi in ys]).T"
   ]
  },
  {
   "cell_type": "code",
   "execution_count": 41,
   "id": "2541d5ae-3c64-476b-bd3a-471469fce5b0",
   "metadata": {},
   "outputs": [
    {
     "data": {
      "text/html": [
       "<html>\\(\\displaystyle \\left[1, \\alpha\\right]\\)</html>"
      ],
      "text/latex": [
       "$\\displaystyle \\left[1, \\alpha\\right]$"
      ],
      "text/plain": [
       "[1, alpha]"
      ]
     },
     "execution_count": 41,
     "metadata": {},
     "output_type": "execute_result"
    }
   ],
   "source": [
    "x = var('x')\n",
    "rows = []\n",
    "K.<alpha> = NumberField(x^2 - 6, embedding=RR(1))\n",
    "y = alpha"
   ]
  },
  {
   "cell_type": "code",
   "execution_count": 24,
   "id": "149cb99c-15d7-4ec7-85ac-d2fac1e2dc1e",
   "metadata": {},
   "outputs": [
    {
     "data": {
      "text/html": [
       "<div class=\"notruncate\">\n",
       "<table  class=\"table_form\">\n",
       "<tbody>\n",
       "<tr class =\"row-a\">\n",
       "<td style=\"text-align:left\">\\(2\\)</td>\n",
       "<td style=\"text-align:left\">\\(\\left[0, 1\\right]\\)</td>\n",
       "<td style=\"text-align:left\">\\(2.44948974278318\\)</td>\n",
       "</tr>\n",
       "<tr class =\"row-b\">\n",
       "<td style=\"text-align:left\">\\(2\\)</td>\n",
       "<td style=\"text-align:left\">\\(\\left[1, \\frac{1}{2}\\right]\\)</td>\n",
       "<td style=\"text-align:left\">\\(2.22474487139159\\)</td>\n",
       "</tr>\n",
       "<tr class =\"row-a\">\n",
       "<td style=\"text-align:left\">\\(4\\)</td>\n",
       "<td style=\"text-align:left\">\\(\\left[2, 1\\right]\\)</td>\n",
       "<td style=\"text-align:left\">\\(4.44948974278318\\)</td>\n",
       "</tr>\n",
       "<tr class =\"row-b\">\n",
       "<td style=\"text-align:left\">\\(2\\)</td>\n",
       "<td style=\"text-align:left\">\\(\\left[1, \\frac{1}{2}\\right]\\)</td>\n",
       "<td style=\"text-align:left\">\\(2.22474487139159\\)</td>\n",
       "</tr>\n",
       "<tr class =\"row-a\">\n",
       "<td style=\"text-align:left\">\\(4\\)</td>\n",
       "<td style=\"text-align:left\">\\(\\left[2, 1\\right]\\)</td>\n",
       "<td style=\"text-align:left\">\\(4.44948974278318\\)</td>\n",
       "</tr>\n",
       "<tr class =\"row-b\">\n",
       "<td style=\"text-align:left\">\\(2\\)</td>\n",
       "<td style=\"text-align:left\">\\(\\left[1, \\frac{1}{2}\\right]\\)</td>\n",
       "<td style=\"text-align:left\">\\(2.22474487139159\\)</td>\n",
       "</tr>\n",
       "<tr class =\"row-a\">\n",
       "<td style=\"text-align:left\">\\(4\\)</td>\n",
       "<td style=\"text-align:left\">\\(\\left[2, 1\\right]\\)</td>\n",
       "<td style=\"text-align:left\">\\(4.44948974278318\\)</td>\n",
       "</tr>\n",
       "<tr class =\"row-b\">\n",
       "<td style=\"text-align:left\">\\(2\\)</td>\n",
       "<td style=\"text-align:left\">\\(\\left[1, \\frac{1}{2}\\right]\\)</td>\n",
       "<td style=\"text-align:left\">\\(2.22474487139159\\)</td>\n",
       "</tr>\n",
       "<tr class =\"row-a\">\n",
       "<td style=\"text-align:left\">\\(4\\)</td>\n",
       "<td style=\"text-align:left\">\\(\\left[2, 1\\right]\\)</td>\n",
       "<td style=\"text-align:left\">\\(4.44948974278318\\)</td>\n",
       "</tr>\n",
       "<tr class =\"row-b\">\n",
       "<td style=\"text-align:left\">\\(2\\)</td>\n",
       "<td style=\"text-align:left\">\\(\\left[1, \\frac{1}{2}\\right]\\)</td>\n",
       "<td style=\"text-align:left\">\\(2.22474487139159\\)</td>\n",
       "</tr>\n",
       "<tr class =\"row-a\">\n",
       "<td style=\"text-align:left\">\\(4\\)</td>\n",
       "<td style=\"text-align:left\">\\(\\left[2, 1\\right]\\)</td>\n",
       "<td style=\"text-align:left\">\\(4.44948974278318\\)</td>\n",
       "</tr>\n",
       "<tr class =\"row-b\">\n",
       "<td style=\"text-align:left\">\\(2\\)</td>\n",
       "<td style=\"text-align:left\">\\(\\left[1, \\frac{1}{2}\\right]\\)</td>\n",
       "<td style=\"text-align:left\">\\(2.22474487139159\\)</td>\n",
       "</tr>\n",
       "</tbody>\n",
       "</table>\n",
       "</div>"
      ],
      "text/plain": [
       "  2   [0, 1]     2.44948974278318\n",
       "  2   [1, 1/2]   2.22474487139159\n",
       "  4   [2, 1]     4.44948974278318\n",
       "  2   [1, 1/2]   2.22474487139159\n",
       "  4   [2, 1]     4.44948974278318\n",
       "  2   [1, 1/2]   2.22474487139159\n",
       "  4   [2, 1]     4.44948974278318\n",
       "  2   [1, 1/2]   2.22474487139159\n",
       "  4   [2, 1]     4.44948974278318\n",
       "  2   [1, 1/2]   2.22474487139159\n",
       "  4   [2, 1]     4.44948974278318\n",
       "  2   [1, 1/2]   2.22474487139159"
      ]
     },
     "execution_count": 24,
     "metadata": {},
     "output_type": "execute_result"
    }
   ],
   "source": [
    "x = y\n",
    "a = floor(x)\n",
    "y = 1/(x-a)\n",
    "rows.append([a, x.list(), RR(x)])\n",
    "table(rows)"
   ]
  },
  {
   "cell_type": "code",
   "execution_count": 31,
   "id": "305b2db2-321f-4db8-9901-bfffd7208d80",
   "metadata": {},
   "outputs": [
    {
     "data": {
      "text/html": [
       "<html>\\(\\displaystyle \\frac{1}{2} \\alpha + 1\\)</html>"
      ],
      "text/latex": [
       "$\\displaystyle \\frac{1}{2} \\alpha + 1$"
      ],
      "text/plain": [
       "1/2*alpha + 1"
      ]
     },
     "execution_count": 31,
     "metadata": {},
     "output_type": "execute_result"
    }
   ],
   "source": [
    "(1/(alpha-2))"
   ]
  },
  {
   "cell_type": "code",
   "execution_count": 11,
   "id": "0cc2945a-ec96-45bd-b089-9a4a2138ebb2",
   "metadata": {},
   "outputs": [
    {
     "data": {
      "text/html": [
       "<html>\\(\\displaystyle 2.44948974278318\\)</html>"
      ],
      "text/latex": [
       "$\\displaystyle 2.44948974278318$"
      ],
      "text/plain": [
       "2.44948974278318"
      ]
     },
     "metadata": {},
     "output_type": "display_data"
    },
    {
     "data": {
      "image/png": "[encoded data removed]",
      "text/plain": [
       "Graphics object consisting of 20 graphics primitives"
      ]
     },
     "execution_count": 11,
     "metadata": {},
     "output_type": "execute_result"
    }
   ],
   "source": [
    "x,y=var('x,y')\n",
    "pretty_print(RR(alpha))\n",
    "sum([implicit_plot(x==-floor(alpha*y), (x,-1,5), (y,-1,5), gridlines=True) for i in range(-10, 10)])"
   ]
  },
  {
   "cell_type": "markdown",
   "id": "a07e3823-df27-4e1f-b272-8b213636f355",
   "metadata": {},
   "source": [
    "# Brute-Force Search\n",
    "\n",
    "The brute-force search is done in a breadth-first fashion.\n",
    "We try every list of length $n$ and then every list of length $n + 1$,\n",
    "until we find a period in the representation."
   ]
  },
  {
   "cell_type": "code",
   "execution_count": 2,
   "id": "ddf7622b-688a-4b3a-8110-746ba1afab46",
   "metadata": {},
   "outputs": [],
   "source": [
    "def brute_force(xs, max_depth, exhaustive=False):\n",
    "    indices = [0]\n",
    "    result = None\n",
    "    d = len(xs)\n",
    "    while indices:\n",
    "        init, repeat = get_period(xs, indices[1:])\n",
    "        is_valid = len(repeat) > 0\n",
    "        if is_valid:\n",
    "            if not exhaustive:\n",
    "                return init, repeat\n",
    "            if not result:\n",
    "                result = []\n",
    "            result.append((init, repeat))\n",
    "        indices = increment_nary(indices, d, max_depth + 1)\n",
    "    return result\n",
    "\n",
    "def brute_force_2d(xs, max_depth, exhaustive=False):\n",
    "    \"\"\"\n",
    "    Faster version which uses an integer to determine the pivot sequence\n",
    "    \"\"\"\n",
    "    \n",
    "    def get_indices_list(indices_value):\n",
    "        result = []\n",
    "        while indices_value > 0:\n",
    "            if indices_value & 1 != 0:\n",
    "                result.append(1)\n",
    "            else:\n",
    "                result.append(0)\n",
    "            indices_value >>= 1\n",
    "        return result[:-1]\n",
    "        \n",
    "    indices = 0\n",
    "    result = None\n",
    "    d = len(xs)\n",
    "    while indices < (2 << max_depth):\n",
    "        init, repeat = get_period(xs, get_indices_list(indices))\n",
    "        if repeat:\n",
    "            if not exhaustive:\n",
    "                return init, repeat\n",
    "            if not result:\n",
    "                result = []\n",
    "            result.append((init, repeat))\n",
    "        indices += 1\n",
    "    return result"
   ]
  },
  {
   "cell_type": "markdown",
   "id": "f2ef6d7b-7928-4564-b60c-48d97a99a390",
   "metadata": {},
   "source": [
    "Here is, for example, the period for $\\sqrt[3]{4}$. Notably, this value likely doesn't have a periodic representation in the Jacobi-Perron algorithm. First, the pivots which lead to a period are shown. The period is marked with a line over the pivots. The actual representation of $\\sqrt[3]{4}$ is shown in the next block."
   ]
  },
  {
   "cell_type": "code",
   "execution_count": 3,
   "id": "fbba6175-3f37-4354-b771-e5ada41020eb",
   "metadata": {},
   "outputs": [
    {
     "data": {
      "text/html": [
       "<html>\\(\\displaystyle [0, \\overline{0, 0, 1, 1, 1, 0, 0, 0}]\\)</html>"
      ],
      "text/latex": [
       "$\\displaystyle [0, \\overline{0, 0, 1, 1, 1, 0, 0, 0}]$"
      ],
      "text/plain": [
       "[0, \\overline{0, 0, 1, 1, 1, 0, 0, 0}]"
      ]
     },
     "metadata": {},
     "output_type": "display_data"
    },
    {
     "data": {
      "text/html": [
       "<html>\\(\\displaystyle \\left[\\left(\\left(1, 2\\right), 0\\right), \\left(\\left(1, 2\\right), 0\\right), \\left(\\left(1, 1\\right), 0\\right), \\left(\\left(2, 0\\right), 1\\right), \\left(\\left(2, 1\\right), 1\\right), \\left(\\left(0, 1\\right), 1\\right), \\left(\\left(0, 1\\right), 0\\right), \\left(\\left(0, 1\\right), 0\\right), \\left(\\left(1, 0\\right), 0\\right), \\left(\\left(3, 0\\right), 0\\right), \\left(\\left(1, 1\\right), 0\\right), \\left(\\left(2, 0\\right), 1\\right), \\left(\\left(2, 1\\right), 1\\right), \\left(\\left(0, 1\\right), 1\\right), \\left(\\left(0, 1\\right), 0\\right), \\left(\\left(0, 1\\right), 0\\right), \\left(\\left(1, 0\\right), 0\\right)\\right]\\)</html>"
      ],
      "text/latex": [
       "$\\displaystyle \\left[\\left(\\left(1, 2\\right), 0\\right), \\left(\\left(1, 2\\right), 0\\right), \\left(\\left(1, 1\\right), 0\\right), \\left(\\left(2, 0\\right), 1\\right), \\left(\\left(2, 1\\right), 1\\right), \\left(\\left(0, 1\\right), 1\\right), \\left(\\left(0, 1\\right), 0\\right), \\left(\\left(0, 1\\right), 0\\right), \\left(\\left(1, 0\\right), 0\\right), \\left(\\left(3, 0\\right), 0\\right), \\left(\\left(1, 1\\right), 0\\right), \\left(\\left(2, 0\\right), 1\\right), \\left(\\left(2, 1\\right), 1\\right), \\left(\\left(0, 1\\right), 1\\right), \\left(\\left(0, 1\\right), 0\\right), \\left(\\left(0, 1\\right), 0\\right), \\left(\\left(1, 0\\right), 0\\right)\\right]$"
      ],
      "text/plain": [
       "[((1, 2), 0),\n",
       " ((1, 2), 0),\n",
       " ((1, 1), 0),\n",
       " ((2, 0), 1),\n",
       " ((2, 1), 1),\n",
       " ((0, 1), 1),\n",
       " ((0, 1), 0),\n",
       " ((0, 1), 0),\n",
       " ((1, 0), 0),\n",
       " ((3, 0), 0),\n",
       " ((1, 1), 0),\n",
       " ((2, 0), 1),\n",
       " ((2, 1), 1),\n",
       " ((0, 1), 1),\n",
       " ((0, 1), 0),\n",
       " ((0, 1), 0),\n",
       " ((1, 0), 0)]"
      ]
     },
     "metadata": {},
     "output_type": "display_data"
    },
    {
     "data": {
      "text/html": [
       "<html>\\(\\displaystyle 0.00577330410628818\\)</html>"
      ],
      "text/latex": [
       "$\\displaystyle 0.00577330410628818$"
      ],
      "text/plain": [
       "0.00577330410628818"
      ]
     },
     "metadata": {},
     "output_type": "display_data"
    },
    {
     "data": {
      "text/html": [
       "<html>\\(\\displaystyle 1.70997594667670\\)</html>"
      ],
      "text/latex": [
       "$\\displaystyle 1.70997594667670$"
      ],
      "text/plain": [
       "1.70997594667670"
      ]
     },
     "metadata": {},
     "output_type": "display_data"
    }
   ],
   "source": [
    "d = 2\n",
    "p = x^3 - 5\n",
    "K.<alpha> = NumberField(p, embedding=RR(1))\n",
    "\n",
    "xs = (alpha, alpha^2)\n",
    "init, repeat = brute_force(xs, 15)\n",
    "pretty_print(pretty_continued_fraction(init, repeat))\n",
    "pretty_print(list(zip(list(get_coeffs(xs, init + 2 * repeat)), init + 2 * repeat)))\n",
    "pretty_print(RR(get_decrease(xs, *init, *repeat)))\n",
    "pretty_print(RR(alpha))"
   ]
  },
  {
   "cell_type": "code",
   "execution_count": 4,
   "id": "92a5556d-fea0-4cac-87ab-8b66c16449c1",
   "metadata": {},
   "outputs": [
    {
     "data": {
      "text/html": [
       "<div class=\"notruncate\">\n",
       "<table  class=\"table_form\">\n",
       "<tbody>\n",
       "<tr class =\"row-a\">\n",
       "<td style=\"text-align:left\">\\(0\\)</td>\n",
       "<td style=\"text-align:left\">\\(0\\)</td>\n",
       "<td style=\"text-align:left\">\\(\\left[1.4085, 1.3015\\right]\\)</td>\n",
       "<td style=\"text-align:left\">11</td>\n",
       "<td style=\"text-align:left\">\\(0.0000196253472088237\\)</td>\n",
       "</tr>\n",
       "<tr class =\"row-b\">\n",
       "<td style=\"text-align:left\">\\(0\\)</td>\n",
       "<td style=\"text-align:left\">\\(1\\)</td>\n",
       "<td style=\"text-align:left\">\\(\\left[2.2322, 1.6474\\right]\\)</td>\n",
       "<td style=\"text-align:left\">00</td>\n",
       "<td style=\"text-align:left\">\\(9.66399561805282 \\times 10^{-8}\\)</td>\n",
       "</tr>\n",
       "<tr class =\"row-a\">\n",
       "<td style=\"text-align:left\">\\(1\\)</td>\n",
       "<td style=\"text-align:left\">\\(1\\)</td>\n",
       "<td style=\"text-align:left\">\\(\\left[0.6585, 1.836\\right]\\)</td>\n",
       "<td style=\"text-align:left\">11</td>\n",
       "<td style=\"text-align:left\">\\(1.84879517585154 \\times 10^{-8}\\)</td>\n",
       "</tr>\n",
       "<tr class =\"row-b\">\n",
       "<td style=\"text-align:left\">\\(0\\)</td>\n",
       "<td style=\"text-align:left\">\\(0\\)</td>\n",
       "<td style=\"text-align:left\">\\(\\left[1.2695, 0.2491\\right]\\)</td>\n",
       "<td style=\"text-align:left\">11</td>\n",
       "<td style=\"text-align:left\">\\(1.29259963904815 \\times 10^{-10}\\)</td>\n",
       "</tr>\n",
       "</tbody>\n",
       "</table>\n",
       "</div>"
      ],
      "text/plain": [
       "  0   0   [1.4085, 1.3015]   11   0.0000196253472088237\n",
       "  0   1   [2.2322, 1.6474]   00   9.66399561805282e-8\n",
       "  1   1   [0.6585, 1.836]    11   1.84879517585154e-8\n",
       "  0   0   [1.2695, 0.2491]   11   1.29259963904815e-10"
      ]
     },
     "execution_count": 4,
     "metadata": {},
     "output_type": "execute_result"
    }
   ],
   "source": [
    "from utils import *\n",
    "\n",
    "xs = (alpha, alpha^2)\n",
    "indices = init + repeat\n",
    "coeffs = list(get_coeffs(xs, indices))\n",
    "\n",
    "rows = []\n",
    "for i in range(1, len(indices), 2):\n",
    "    conv = [get_convergent(xs, indices[:i] + [l1, l2]) for l1 in range(d) for l2 in range(d)]\n",
    "    row = [indices[i-1], indices[i], real_list(pivot(xs, *indices[:i]))]\n",
    "    row += min([(f'{i:02b}', prod([RR(abs(rj - xj)) for j, xj, rj in zip(range(d), xs, r)])) for i, r in enumerate(conv)], key=lambda e: e[1])\n",
    "    rows.append(row)\n",
    "\n",
    "table(rows)"
   ]
  },
  {
   "cell_type": "code",
   "execution_count": 5,
   "id": "d1a2e158-0161-4f9c-8730-50940e7d231b",
   "metadata": {},
   "outputs": [],
   "source": [
    "indices = []"
   ]
  },
  {
   "cell_type": "code",
   "execution_count": 6,
   "id": "fc8b76db-0260-4bd7-a80c-6091c9d29766",
   "metadata": {},
   "outputs": [
    {
     "data": {
      "text/html": [
       "<html>\\(\\displaystyle \\left[0\\right]\\)</html>"
      ],
      "text/latex": [
       "$\\displaystyle \\left[0\\right]$"
      ],
      "text/plain": [
       "[0]"
      ]
     },
     "metadata": {},
     "output_type": "display_data"
    },
    {
     "data": {
      "text/html": [
       "<html>\\(\\displaystyle \\left[\\right]\\)</html>"
      ],
      "text/latex": [
       "$\\displaystyle \\left[\\right]$"
      ],
      "text/plain": [
       "[]"
      ]
     },
     "execution_count": 6,
     "metadata": {},
     "output_type": "execute_result"
    }
   ],
   "source": [
    "values = []\n",
    "i = 0\n",
    "for l in range(d):\n",
    "    r = get_convergent(xs, [*indices, l])\n",
    "    values.append((l, RR(sum([(ri - xi)**2 for ri, xi in zip(r, xs)]))))\n",
    "l, _ = min(values, key=lambda e: e[1])\n",
    "indices.append(l)\n",
    "pretty_print(indices)\n",
    "get_period(xs, indices)[1]"
   ]
  },
  {
   "cell_type": "code",
   "execution_count": 7,
   "id": "ed825ba0-aff1-448c-9173-69d6cf2bcf8f",
   "metadata": {},
   "outputs": [
    {
     "ename": "TypeError",
     "evalue": "object of type 'sage.rings.number_field.number_field_element.NumberFieldElement_absolute' has no len()",
     "output_type": "error",
     "traceback": [
      "\u001b[0;31m---------------------------------------------------------------------------\u001b[0m",
      "\u001b[0;31mTypeError\u001b[0m                                 Traceback (most recent call last)",
      "Cell \u001b[0;32mIn[7], line 6\u001b[0m\n\u001b[1;32m      4\u001b[0m \u001b[38;5;28;01mdef\u001b[39;00m\u001b[38;5;250m \u001b[39m\u001b[38;5;21mf\u001b[39m(zs):\n\u001b[1;32m      5\u001b[0m     \u001b[38;5;28;01mreturn\u001b[39;00m frac(prod([z\u001b[38;5;241m*\u001b[39m\u001b[38;5;241m*\u001b[39md \u001b[38;5;28;01mfor\u001b[39;00m z \u001b[38;5;129;01min\u001b[39;00m zs]))\n\u001b[0;32m----> 6\u001b[0m choices \u001b[38;5;241m=\u001b[39m [\u001b[43mpivot\u001b[49m\u001b[43m(\u001b[49m\u001b[43mys\u001b[49m\u001b[43m,\u001b[49m\u001b[43m \u001b[49m\u001b[43ml\u001b[49m\u001b[43m)\u001b[49m[Integer(\u001b[38;5;241m0\u001b[39m)] \u001b[38;5;28;01mfor\u001b[39;00m l \u001b[38;5;129;01min\u001b[39;00m \u001b[38;5;28mrange\u001b[39m(d)]\n\u001b[1;32m      7\u001b[0m row \u001b[38;5;241m=\u001b[39m [zs \u001b[38;5;28;01mfor\u001b[39;00m l, zs \u001b[38;5;129;01min\u001b[39;00m \u001b[38;5;28menumerate\u001b[39m(choices)]\n\u001b[1;32m      8\u001b[0m rows\u001b[38;5;241m.\u001b[39mappend([i, \u001b[38;5;241m*\u001b[39mys] \u001b[38;5;241m+\u001b[39m real_list(flatten(row)) \u001b[38;5;241m+\u001b[39m flatten(row))\n",
      "File \u001b[0;32m~/docs/20 Uni/ws24/thesis/src/utils.py:11\u001b[0m, in \u001b[0;36mpivot\u001b[0;34m(xs, *indices)\u001b[0m\n\u001b[1;32m      9\u001b[0m \u001b[38;5;28;01mdef\u001b[39;00m\u001b[38;5;250m \u001b[39m\u001b[38;5;21mpivot\u001b[39m(xs, \u001b[38;5;241m*\u001b[39mindices):\n\u001b[1;32m     10\u001b[0m     \u001b[38;5;28;01mfor\u001b[39;00m l \u001b[38;5;129;01min\u001b[39;00m indices:\n\u001b[0;32m---> 11\u001b[0m         ys \u001b[38;5;241m=\u001b[39m [\u001b[38;5;241m0\u001b[39m] \u001b[38;5;241m*\u001b[39m \u001b[38;5;28;43mlen\u001b[39;49m\u001b[43m(\u001b[49m\u001b[43mxs\u001b[49m\u001b[43m)\u001b[49m\n\u001b[1;32m     12\u001b[0m         xl \u001b[38;5;241m=\u001b[39m xs[l]\n\u001b[1;32m     13\u001b[0m         \u001b[38;5;28;01massert\u001b[39;00m frac(xl) \u001b[38;5;241m!=\u001b[39m \u001b[38;5;241m0\u001b[39m, \u001b[38;5;124m\"\u001b[39m\u001b[38;5;124mxl cannot be zero\u001b[39m\u001b[38;5;124m\"\u001b[39m\n",
      "\u001b[0;31mTypeError\u001b[0m: object of type 'sage.rings.number_field.number_field_element.NumberFieldElement_absolute' has no len()"
     ]
    }
   ],
   "source": [
    "ys = xs\n",
    "rows = []\n",
    "for i in init + repeat:\n",
    "    def f(zs):\n",
    "        return frac(prod([z**d for z in zs]))\n",
    "    choices = [pivot(ys, l)[0] for l in range(d)]\n",
    "    row = [zs for l, zs in enumerate(choices)]\n",
    "    rows.append([i, *ys] + real_list(flatten(row)) + flatten(row))\n",
    "    ys, _ = pivot(ys, i)\n",
    "\n",
    "table(rows)"
   ]
  },
  {
   "cell_type": "markdown",
   "id": "5fb1d8d0-0987-4582-a52b-bdff315792a6",
   "metadata": {},
   "source": [
    "Period lengths for the first 28 numbers:"
   ]
  },
  {
   "cell_type": "code",
   "execution_count": null,
   "id": "490e9a6a-77a6-4b5e-aceb-96d132c32903",
   "metadata": {},
   "outputs": [],
   "source": [
    "for i in range(2, 20):\n",
    "    try:\n",
    "        K.<alpha> = NumberField(x^(d+1) - i, embedding=RR(1))\n",
    "        xs = tuple(sum(alpha^j for j in range(1, i + 1)) for i in range(1, d + 1))\n",
    "        init, repeat = brute_force(xs, 20)[0]\n",
    "        print(i, len(repeat))\n",
    "    except KeyboardInterrupt:\n",
    "        break\n",
    "    except:\n",
    "        pass"
   ]
  },
  {
   "cell_type": "code",
   "execution_count": null,
   "id": "e777ed28-a310-4b88-be28-c0a301a16d96",
   "metadata": {},
   "outputs": [],
   "source": [
    "K.<alpha> = NumberField(x^2 - 2, embedding=RR(1))\n",
    "pivot((alpha,), 0, 0, 0, 0, 0, 0)"
   ]
  },
  {
   "cell_type": "markdown",
   "id": "ad710f83-b928-4a70-af19-3150f02db372",
   "metadata": {},
   "source": [
    "# Geometric Interpretation of the Continued Fractions"
   ]
  },
  {
   "cell_type": "code",
   "execution_count": 8,
   "id": "9ce96f5b-613a-4021-8441-43d4858361cb",
   "metadata": {},
   "outputs": [
    {
     "data": {
      "text/html": [
       "<html>\\(\\displaystyle 2\n",
       "+ \\frac{\\displaystyle 1}{\\displaystyle 1\n",
       "+ \\frac{\\displaystyle 1}{\\displaystyle 1\n",
       "+ \\frac{\\displaystyle 1}{\\displaystyle 1\n",
       "+ \\frac{\\displaystyle 1}{\\displaystyle 4\n",
       "+ \\frac{\\displaystyle 1}{\\displaystyle 1\n",
       "+ \\frac{\\displaystyle 1}{\\displaystyle 1\n",
       "+ \\frac{\\displaystyle 1}{\\displaystyle 1\n",
       "+ \\frac{\\displaystyle 1}{\\displaystyle 4\n",
       "+ \\frac{\\displaystyle 1}{\\displaystyle 1\n",
       "+ \\frac{\\displaystyle 1}{\\displaystyle \\dots}}}}}}}}}}\\)</html>"
      ],
      "text/latex": [
       "$\\displaystyle 2\n",
       "+ \\frac{\\displaystyle 1}{\\displaystyle 1\n",
       "+ \\frac{\\displaystyle 1}{\\displaystyle 1\n",
       "+ \\frac{\\displaystyle 1}{\\displaystyle 1\n",
       "+ \\frac{\\displaystyle 1}{\\displaystyle 4\n",
       "+ \\frac{\\displaystyle 1}{\\displaystyle 1\n",
       "+ \\frac{\\displaystyle 1}{\\displaystyle 1\n",
       "+ \\frac{\\displaystyle 1}{\\displaystyle 1\n",
       "+ \\frac{\\displaystyle 1}{\\displaystyle 4\n",
       "+ \\frac{\\displaystyle 1}{\\displaystyle 1\n",
       "+ \\frac{\\displaystyle 1}{\\displaystyle \\dots}}}}}}}}}}$"
      ],
      "text/plain": [
       "[2; 1, 1, 1, 4, 1, 1, 1, 4, 1, 1, 1, 4, 1, 1, 1, 4, 1, 1, 1, ...]"
      ]
     },
     "metadata": {},
     "output_type": "display_data"
    },
    {
     "data": {
      "text/html": [
       "<html>\\(\\displaystyle \\left[1, 1, 1, 1, 4, 1, 1, 1, 4, 1, 1, 1, 4, 1, 1, 1, 4, 1, 1, 1, 4, 1, 1, 1, 4, 1, 1, 1, 4, 1, 1, 1, 4, 1, 1, 1, 4, 1, 1, 1\\right]\\)</html>"
      ],
      "text/latex": [
       "$\\displaystyle \\left[1, 1, 1, 1, 4, 1, 1, 1, 4, 1, 1, 1, 4, 1, 1, 1, 4, 1, 1, 1, 4, 1, 1, 1, 4, 1, 1, 1, 4, 1, 1, 1, 4, 1, 1, 1, 4, 1, 1, 1\\right]$"
      ],
      "text/plain": [
       "[1,\n",
       " 1,\n",
       " 1,\n",
       " 1,\n",
       " 4,\n",
       " 1,\n",
       " 1,\n",
       " 1,\n",
       " 4,\n",
       " 1,\n",
       " 1,\n",
       " 1,\n",
       " 4,\n",
       " 1,\n",
       " 1,\n",
       " 1,\n",
       " 4,\n",
       " 1,\n",
       " 1,\n",
       " 1,\n",
       " 4,\n",
       " 1,\n",
       " 1,\n",
       " 1,\n",
       " 4,\n",
       " 1,\n",
       " 1,\n",
       " 1,\n",
       " 4,\n",
       " 1,\n",
       " 1,\n",
       " 1,\n",
       " 4,\n",
       " 1,\n",
       " 1,\n",
       " 1,\n",
       " 4,\n",
       " 1,\n",
       " 1,\n",
       " 1]"
      ]
     },
     "metadata": {},
     "output_type": "display_data"
    },
    {
     "data": {
      "image/png": "[encoded data removed]",
      "text/plain": [
       "Graphics object consisting of 9 graphics primitives"
      ]
     },
     "metadata": {},
     "output_type": "display_data"
    }
   ],
   "source": [
    "plot_size = 20\n",
    "\n",
    "alpha = sqrt(7)\n",
    "cf = continued_fraction(alpha)\n",
    "terms = [cf[:i+1].value() for i in range(40)]\n",
    "points = [(term.denominator(), term.numerator()) for term in terms]\n",
    "\n",
    "basis = [(0, 1), (1, 0)]\n",
    "points_even = [basis[1]] + points[0::2]\n",
    "points_odd = [basis[0]] + points[1::2]\n",
    "diff = basis + [(a[0] - b[0], a[1] - b[1]) for a, b in zip(points, points[1:])]\n",
    "\n",
    "lattice = point([(x, y) for x in range(plot_size + 1) for y in range(plot_size + 1)], color='gray')\n",
    "scene = [\n",
    "    lattice,\n",
    "    arrow((0, 0), (1, alpha), color='red'),\n",
    "    plot(alpha * x, (x, 0, 10), color='red'),\n",
    "    sum(arrow((0, 0), b, color='blue') for b in basis),\n",
    "    point(points_odd, color='red'),\n",
    "    line(points_odd, color='red'),\n",
    "    point(points_even, color='blue'),\n",
    "    line(points_even, color='blue'),\n",
    "]\n",
    "\n",
    "pretty_print(cf)\n",
    "pretty_print([abs(det(matrix([odd, even]))) for even, odd in zip(diff[:], diff[1:])])\n",
    "show(sum(scene), xmin=-0.5, xmax=plot_size, ymin=-0.5, ymax=plot_size)"
   ]
  },
  {
   "cell_type": "code",
   "execution_count": 9,
   "id": "2f90200a-8bd2-4f7c-a9b3-209d9824c44b",
   "metadata": {},
   "outputs": [
    {
     "ename": "NameError",
     "evalue": "name 'y' is not defined",
     "output_type": "error",
     "traceback": [
      "\u001b[0;31m---------------------------------------------------------------------------\u001b[0m",
      "\u001b[0;31mNameError\u001b[0m                                 Traceback (most recent call last)",
      "Cell \u001b[0;32mIn[9], line 20\u001b[0m\n\u001b[1;32m     12\u001b[0m lattice \u001b[38;5;241m=\u001b[39m point([(x, y) \u001b[38;5;28;01mfor\u001b[39;00m x \u001b[38;5;129;01min\u001b[39;00m \u001b[38;5;28mrange\u001b[39m(plot_size \u001b[38;5;241m+\u001b[39m Integer(\u001b[38;5;241m1\u001b[39m)) \u001b[38;5;28;01mfor\u001b[39;00m y \u001b[38;5;129;01min\u001b[39;00m \u001b[38;5;28mrange\u001b[39m(plot_size \u001b[38;5;241m+\u001b[39m Integer(\u001b[38;5;241m1\u001b[39m))], color\u001b[38;5;241m=\u001b[39m\u001b[38;5;124m'\u001b[39m\u001b[38;5;124mgray\u001b[39m\u001b[38;5;124m'\u001b[39m)\n\u001b[1;32m     13\u001b[0m lattice2 \u001b[38;5;241m=\u001b[39m point([(x, y \u001b[38;5;241m*\u001b[39m alpha) \u001b[38;5;28;01mfor\u001b[39;00m x \u001b[38;5;129;01min\u001b[39;00m \u001b[38;5;28mrange\u001b[39m(plot_size \u001b[38;5;241m+\u001b[39m Integer(\u001b[38;5;241m1\u001b[39m)) \u001b[38;5;28;01mfor\u001b[39;00m y \u001b[38;5;129;01min\u001b[39;00m \u001b[38;5;28mrange\u001b[39m(plot_size \u001b[38;5;241m+\u001b[39m Integer(\u001b[38;5;241m1\u001b[39m))], color\u001b[38;5;241m=\u001b[39m\u001b[38;5;124m'\u001b[39m\u001b[38;5;124mred\u001b[39m\u001b[38;5;124m'\u001b[39m)\n\u001b[1;32m     14\u001b[0m scene \u001b[38;5;241m=\u001b[39m [\n\u001b[1;32m     15\u001b[0m     lattice,\n\u001b[1;32m     16\u001b[0m     \u001b[38;5;66;03m#lattice2,\u001b[39;00m\n\u001b[1;32m     17\u001b[0m     arrow((Integer(\u001b[38;5;241m0\u001b[39m), Integer(\u001b[38;5;241m0\u001b[39m)), (Integer(\u001b[38;5;241m1\u001b[39m), alpha), color\u001b[38;5;241m=\u001b[39m\u001b[38;5;124m'\u001b[39m\u001b[38;5;124mred\u001b[39m\u001b[38;5;124m'\u001b[39m),\n\u001b[1;32m     18\u001b[0m     plot(x \u001b[38;5;241m*\u001b[39m alpha, (x, Integer(\u001b[38;5;241m0\u001b[39m), Integer(\u001b[38;5;241m10\u001b[39m)), color\u001b[38;5;241m=\u001b[39m\u001b[38;5;124m'\u001b[39m\u001b[38;5;124mred\u001b[39m\u001b[38;5;124m'\u001b[39m),\n\u001b[1;32m     19\u001b[0m     \u001b[38;5;28msum\u001b[39m(arrow((Integer(\u001b[38;5;241m0\u001b[39m), Integer(\u001b[38;5;241m0\u001b[39m)), b, color\u001b[38;5;241m=\u001b[39m\u001b[38;5;124m'\u001b[39m\u001b[38;5;124mblue\u001b[39m\u001b[38;5;124m'\u001b[39m) \u001b[38;5;28;01mfor\u001b[39;00m b \u001b[38;5;129;01min\u001b[39;00m basis),\n\u001b[0;32m---> 20\u001b[0m     implicit_plot(x\u001b[38;5;241m*\u001b[39m\u001b[38;5;241m*\u001b[39mInteger(\u001b[38;5;241m2\u001b[39m) \u001b[38;5;241m-\u001b[39m (Integer(\u001b[38;5;241m1\u001b[39m)\u001b[38;5;241m/\u001b[39malpha \u001b[38;5;241m*\u001b[39m \u001b[43my\u001b[49m)\u001b[38;5;241m*\u001b[39m\u001b[38;5;241m*\u001b[39mInteger(\u001b[38;5;241m2\u001b[39m) \u001b[38;5;241m==\u001b[39m Integer(\u001b[38;5;241m1\u001b[39m), (x, Integer(\u001b[38;5;241m0\u001b[39m), plot_size), (y, Integer(\u001b[38;5;241m0\u001b[39m), plot_size)),\n\u001b[1;32m     21\u001b[0m     implicit_plot(\u001b[38;5;241m-\u001b[39mx\u001b[38;5;241m*\u001b[39m\u001b[38;5;241m*\u001b[39mInteger(\u001b[38;5;241m2\u001b[39m) \u001b[38;5;241m+\u001b[39m (Integer(\u001b[38;5;241m1\u001b[39m)\u001b[38;5;241m/\u001b[39malpha \u001b[38;5;241m*\u001b[39m y)\u001b[38;5;241m*\u001b[39m\u001b[38;5;241m*\u001b[39mInteger(\u001b[38;5;241m2\u001b[39m) \u001b[38;5;241m==\u001b[39m Integer(\u001b[38;5;241m1\u001b[39m), (x, Integer(\u001b[38;5;241m0\u001b[39m), plot_size), (y, Integer(\u001b[38;5;241m0\u001b[39m), plot_size)),\n\u001b[1;32m     22\u001b[0m ]\n\u001b[1;32m     24\u001b[0m pretty_print(cf)\n\u001b[1;32m     25\u001b[0m show(\u001b[38;5;28msum\u001b[39m(scene), xmin\u001b[38;5;241m=\u001b[39m\u001b[38;5;241m-\u001b[39mRealNumber(\u001b[38;5;124m'\u001b[39m\u001b[38;5;124m0.5\u001b[39m\u001b[38;5;124m'\u001b[39m), xmax\u001b[38;5;241m=\u001b[39mplot_size, ymin\u001b[38;5;241m=\u001b[39m\u001b[38;5;241m-\u001b[39mRealNumber(\u001b[38;5;124m'\u001b[39m\u001b[38;5;124m0.5\u001b[39m\u001b[38;5;124m'\u001b[39m), ymax\u001b[38;5;241m=\u001b[39mplot_size, gridlines\u001b[38;5;241m=\u001b[39mInteger(\u001b[38;5;241m1\u001b[39m)\u001b[38;5;241m/\u001b[39mInteger(\u001b[38;5;241m2\u001b[39m))\n",
      "\u001b[0;31mNameError\u001b[0m: name 'y' is not defined"
     ]
    }
   ],
   "source": [
    "plot_size = 10\n",
    "\n",
    "alpha = sqrt(5)\n",
    "cf = continued_fraction(alpha)\n",
    "terms = [cf[:i+1].value() for i in range(40)]\n",
    "points = [(term.denominator(), term.numerator()) for term in terms]\n",
    "\n",
    "basis = [(0, 1), (1, 0)]\n",
    "points_even = [basis[1]] + points[0::2]\n",
    "points_odd = [basis[0]] + points[1::2]\n",
    "\n",
    "lattice = point([(x, y) for x in range(plot_size + 1) for y in range(plot_size + 1)], color='gray')\n",
    "lattice2 = point([(x, y * alpha) for x in range(plot_size + 1) for y in range(plot_size + 1)], color='red')\n",
    "scene = [\n",
    "    lattice,\n",
    "    #lattice2,\n",
    "    arrow((0, 0), (1, alpha), color='red'),\n",
    "    plot(x * alpha, (x, 0, 10), color='red'),\n",
    "    sum(arrow((0, 0), b, color='blue') for b in basis),\n",
    "    implicit_plot(x^2 - (1/alpha * y)^2 == 1, (x, 0, plot_size), (y, 0, plot_size)),\n",
    "    implicit_plot(-x^2 + (1/alpha * y)^2 == 1, (x, 0, plot_size), (y, 0, plot_size)),\n",
    "]\n",
    "\n",
    "pretty_print(cf)\n",
    "show(sum(scene), xmin=-0.5, xmax=plot_size, ymin=-0.5, ymax=plot_size, gridlines=1/2)"
   ]
  },
  {
   "cell_type": "code",
   "execution_count": null,
   "id": "d870ef8f-43ce-417f-bfc2-4552569936e3",
   "metadata": {},
   "outputs": [],
   "source": [
    "x, y = var('x, y')\n",
    "\n",
    "show(lattice + implicit_plot(sqrt(1/2*(x^2 - 1)) == y, (x, 0, 10), (y, 0, 10)),\n",
    "     xmin=-5, ymin=-5, xmax=5, ymax=5)"
   ]
  },
  {
   "cell_type": "code",
   "execution_count": null,
   "id": "24e1c6f7-a485-4eac-870f-d76101a739b8",
   "metadata": {},
   "outputs": [],
   "source": []
  },
  {
   "cell_type": "code",
   "execution_count": null,
   "id": "05b3b004-37f4-47ee-9d43-db32b6149cff",
   "metadata": {},
   "outputs": [],
   "source": [
    "def pivot_poly(p, *zs):\n",
    "    C, B, A = p.list()\n",
    "    for z in zs:\n",
    "        A, B, C = A*z^2 + B*z + C, 2*A*z + B, A\n",
    "    return A*x^2 + B*x + C\n",
    "\n",
    "p = pivot_poly(x^2 - 2, 1, 2, 2, 2, 2, 2, 2, 2, 2, 2, 2, 2, 2)\n",
    "p.list(), p.roots()"
   ]
  },
  {
   "cell_type": "markdown",
   "id": "a7ce77ba-03aa-4482-b753-3317a2067a00",
   "metadata": {
    "jp-MarkdownHeadingCollapsed": true
   },
   "source": [
    "# Equal Distance between Neighbors\n",
    "\n",
    "The first polynomial is the \"neighbor\" polynomial, which is derived from the following equation:\n",
    "$$\n",
    "  x_1 = \\frac{x_2}{x_1} - 1 = \\dots = \\frac{x_d}{x_{d-1}} - 1 = \\frac{1}{x_d} - 1.\n",
    "$$\n",
    "This results in the equation\n",
    "$$\n",
    "  x_d^{d+1} + x_d - 1 = 0, \\quad x_i = x_d^{d + 1 - i}\n",
    "$$"
   ]
  },
  {
   "cell_type": "code",
   "execution_count": null,
   "id": "d05f5763-46d9-459d-a79a-3a9361c5af4a",
   "metadata": {},
   "outputs": [],
   "source": [
    "def neighbor_distance(xs):\n",
    "    dist = []\n",
    "    for x, y in zip([*xs, 1], [1, *xs]):\n",
    "        if y == 0 or x == 0:\n",
    "            dist.append(1)\n",
    "        else:\n",
    "            dist.append(frac(x / y))\n",
    "    return dist\n",
    "\n",
    "def distance_matrix(xs):\n",
    "    D = [[0 for _ in xs] for _ in xs]\n",
    "    for i, x in enumerate(xs):\n",
    "        for j, y in enumerate(xs):\n",
    "            if x == 0 or y == 0:\n",
    "                D[i][j] = 1\n",
    "            elif i == j:\n",
    "                D[i][j] = frac(1 / x)\n",
    "            else:\n",
    "                D[i][j] = frac(x / y)\n",
    "    return D\n",
    "\n",
    "def real_distance_matrix(xs):\n",
    "    dist = distance_matrix(xs)\n",
    "    return [[RR(d) for d in row] for row in dist]\n",
    "\n",
    "# Indices are zero-based. An index of -1 indicates selecting nothing in the first iteration and selecting 0 in the next iteration.\n",
    "# Similarly, d - 1 indicates selecting d - 1 in the first iteration and nothing in the next iteration.\n",
    "def select(xs):\n",
    "    min_index = None\n",
    "    min_dist = 1\n",
    "    for i, dist in enumerate(neighbor_distance(xs)):\n",
    "        if min_dist > dist:\n",
    "            min_dist = dist\n",
    "            min_index = i - 1\n",
    "    return min_index"
   ]
  },
  {
   "cell_type": "code",
   "execution_count": null,
   "id": "8fea69c8-c05b-49e2-9d9b-3344cdd769cf",
   "metadata": {},
   "outputs": [],
   "source": [
    "def neighbor_poly(d):\n",
    "    return x ** (d+1) + x - 1\n",
    "neighbor_poly(5)"
   ]
  },
  {
   "cell_type": "markdown",
   "id": "ec814754-02be-426b-b5aa-b3badff9d0cf",
   "metadata": {},
   "source": [
    "The polynomial gives us the field $\\mathbb{Q}/ (x^{d+1} + x - 1)$."
   ]
  },
  {
   "cell_type": "code",
   "execution_count": null,
   "id": "f44037d6-f2aa-4e0c-b2dd-843cc04e9b43",
   "metadata": {},
   "outputs": [],
   "source": [
    "d = 3\n",
    "p = neighbor_poly(d)\n",
    "K.<psi> = NumberField(p, embedding=RR(0.5))\n",
    "K"
   ]
  },
  {
   "cell_type": "markdown",
   "id": "b178f796-e667-4b5a-8368-b7429ff4736f",
   "metadata": {},
   "source": [
    "For our input, we choose $x_i = \\psi^{d+1-i}$."
   ]
  },
  {
   "cell_type": "code",
   "execution_count": null,
   "id": "40294f8a-c002-4a84-aedb-2b2a0a01d345",
   "metadata": {},
   "outputs": [],
   "source": [
    "xs = tuple(sorted([psi^(d+1-i) for i in range(1,d+1)]))\n",
    "\n",
    "table([(i, x,RR(x)) for i, x in enumerate(xs)], header_row=[r'$i$', r'$x_i$'])"
   ]
  },
  {
   "cell_type": "markdown",
   "id": "7b8e6f2e-a1d6-4667-9307-6a4604c49907",
   "metadata": {},
   "source": [
    "The distance between neighbors is indeed the same."
   ]
  },
  {
   "cell_type": "code",
   "execution_count": null,
   "id": "0c8ad6fc-a36b-43c4-a30d-6dadc78b3fe6",
   "metadata": {},
   "outputs": [],
   "source": [
    "dist = neighbor_distance(xs)\n",
    "\n",
    "table([dist, [round(RR(d), 3) for d in dist]])"
   ]
  },
  {
   "cell_type": "markdown",
   "id": "746085a8-9e80-416f-b827-cb5d3c62d8b6",
   "metadata": {},
   "source": [
    "Therefore, we can expect a decrease of at least $\\psi^3$ over two iterations. However, this condition does not hold up after those two iterations when choosing any element to pivot with. It only holds up if we choose the maximum $x_d$ of those elements. Choosing any other pivot, destroys this solution."
   ]
  },
  {
   "cell_type": "code",
   "execution_count": null,
   "id": "2bba46fd-dc20-45ca-891f-c9032c299727",
   "metadata": {},
   "outputs": [],
   "source": [
    "n = 50\n",
    "d = len(xs)\n",
    "\n",
    "ys = xs\n",
    "rows = [[\n",
    "    *[f'$x_{i+1}$' for i in range(d)], \n",
    "    *[fr'$\\{{x_{{{i+2}}}/x_{{{i+1}}}\\}}$' for i in range(-1, d)], \n",
    "    r'$\\ell_1$', \n",
    "    r'$\\ell_2$',\n",
    "]]\n",
    "\n",
    "for i in range(n):\n",
    "    # select pivot\n",
    "    l = select(ys)\n",
    "    \n",
    "    # Add row to the output\n",
    "    dist   = [round(RR(d), 3) for d in neighbor_distance(ys)]\n",
    "    values = [round(RR(y), 3) for y in ys]\n",
    "    rows.append([*values, *dist, '-' if l == -1 else l, '-' if l == d - 1 else l + 1])\n",
    "\n",
    "    # pivot\n",
    "    if l == -1:\n",
    "        ys, _ = pivot(ys, 0)\n",
    "    elif l == d - 1:\n",
    "        ys, _ = pivot(ys, d - 1)\n",
    "    else:\n",
    "        ys, _ = pivot(ys, l, l + 1)\n",
    "    \n",
    "table(rows, header_row=True, align='center')"
   ]
  },
  {
   "cell_type": "markdown",
   "id": "d06edb6c-4450-4631-af47-c08322d9fa3c",
   "metadata": {
    "jp-MarkdownHeadingCollapsed": true
   },
   "source": [
    "## Other polynomials\n",
    "\n",
    "$$\n",
    "    x^{d+1} + \\sum_{k=1}^d k x^{d-k} = 1\n",
    "$$"
   ]
  },
  {
   "cell_type": "code",
   "execution_count": null,
   "id": "e609c30d-1dc6-4e92-afbf-4ba8896dec6f",
   "metadata": {},
   "outputs": [],
   "source": [
    "xs = (1, 4^(1/3), 16^(1/3))\n",
    "indices = [1, 2] + [2]*20\n",
    "table([[RR(x) for x in pivot(xs, *indices[:i+1])] for i in range(len(indices))])"
   ]
  },
  {
   "cell_type": "code",
   "execution_count": null,
   "id": "a9128ce2-9b4b-48c5-b106-43f1b272e1ed",
   "metadata": {},
   "outputs": [],
   "source": []
  },
  {
   "cell_type": "markdown",
   "id": "fd99e36d-098e-4438-bfbc-726b0ff63edd",
   "metadata": {
    "jp-MarkdownHeadingCollapsed": true
   },
   "source": [
    "# $d$-bonacci Numbers\n"
   ]
  },
  {
   "cell_type": "code",
   "execution_count": null,
   "id": "4aa3e4a7-5c36-4d9a-96ab-3a6b3759fd2b",
   "metadata": {},
   "outputs": [],
   "source": [
    "def nbonacci_poly(d):\n",
    "    i = var('i')\n",
    "    return x^(d+1) + sum(x^i, i, 1, d) - 1\n",
    "nbonacci_poly(3), *[r[0] for r in nbonacci_poly(1).roots()]"
   ]
  },
  {
   "cell_type": "code",
   "execution_count": null,
   "id": "a4a27c85-f6a5-480c-a97c-ae85dd2c98d5",
   "metadata": {},
   "outputs": [],
   "source": [
    "y = polygen(RR, 'y')\n",
    "d = 5\n",
    "\n",
    "p = nbonacci_poly(d)\n",
    "psi_real = find_root(p, 0, 1)\n",
    "K.<psi> = NumberField(p, embedding=RR(psi_real))"
   ]
  },
  {
   "cell_type": "code",
   "execution_count": null,
   "id": "58aaa3a2-01d4-4e7f-81b5-ddd7b240816f",
   "metadata": {},
   "outputs": [],
   "source": [
    "xs = tuple(sum(psi^i for i in range(1, k+1)) for k in range(1, d + 1))\n",
    "xs"
   ]
  },
  {
   "cell_type": "code",
   "execution_count": null,
   "id": "4d5821e8-55c0-4fe5-818b-c20a691c86cb",
   "metadata": {},
   "outputs": [],
   "source": [
    "ys = pivot(xs, 0)\n",
    "argmin(ys), ys"
   ]
  },
  {
   "cell_type": "code",
   "execution_count": null,
   "id": "45b4e22a-625b-4c59-9fad-e02fc1df1960",
   "metadata": {},
   "outputs": [],
   "source": [
    "q = factor(-x^6 * p(x=1/x))\n",
    "phi_real = find_root(q, 1, 2)\n",
    "L.<phi> = NumberField(q, embedding=RR(phi_real))\n",
    "q.list()"
   ]
  },
  {
   "cell_type": "markdown",
   "id": "55169f2f-ad25-4873-8d2c-42814477b6ec",
   "metadata": {
    "jp-MarkdownHeadingCollapsed": true
   },
   "source": [
    "# Worst-Case Analysis"
   ]
  },
  {
   "cell_type": "code",
   "execution_count": null,
   "id": "f89b568e-bd94-442e-8793-d5e954814c56",
   "metadata": {},
   "outputs": [],
   "source": [
    "d = 3\n",
    "xs = tuple(i / (d + 1) for i in range(1, d + 1))\n",
    "pivot(xs, 0)"
   ]
  },
  {
   "cell_type": "code",
   "execution_count": null,
   "id": "749b05cd-c18c-4490-ba0c-8f018ea476e1",
   "metadata": {},
   "outputs": [],
   "source": [
    "def unpivot(y, values, indices):\n",
    "    for a, l in zip(values, indices):\n",
    "        x = [0] * len(ys)\n",
    "        for i, (yi, ai) in enumerate(zip(y, a)):\n",
    "            if i == l:\n",
    "                x[i] = frac(1 / (ai + yi))\n",
    "            else:\n",
    "                x[i] = frac((ai + yi) / (a[l] + y[l]))\n",
    "        y = x\n",
    "    return y"
   ]
  },
  {
   "cell_type": "code",
   "execution_count": null,
   "id": "ba40be70-6e69-4465-937a-2ea688c08227",
   "metadata": {},
   "outputs": [],
   "source": [
    "ys = tuple(sorted(unpivot(xs, [(2, 1, 1)] * 5, [0] * 5)))\n",
    "table(distance_matrix(ys), header_row=ys, header_column=['', *ys])"
   ]
  },
  {
   "cell_type": "code",
   "execution_count": null,
   "id": "25eae55e-b1ce-4e3c-9903-e38c6361c655",
   "metadata": {},
   "outputs": [],
   "source": [
    "pivot(ys, 0, 1, 2)"
   ]
  },
  {
   "cell_type": "code",
   "execution_count": null,
   "id": "c8085c81-fe94-4d0b-a0db-6db1c9cd41b1",
   "metadata": {},
   "outputs": [],
   "source": [
    "K.<phi> = NumberField(x^3 - x - 1, embedding=RR(2))\n",
    "psi = 1/phi\n",
    "\n",
    "A = matrix([[1, phi, phi^2], [1, -psi]]).transpose()\n",
    "b = vector([1, 1])\n",
    "xs = A.solve_right(b)\n",
    "pivot(xs, 1, 1, *[1]*10)"
   ]
  },
  {
   "cell_type": "code",
   "execution_count": null,
   "id": "01720014-c65a-46a0-8152-bedb954945ff",
   "metadata": {},
   "outputs": [],
   "source": [
    "def min_pivot(xs, n):\n",
    "    coeffs = []\n",
    "    for _ in range(n):\n",
    "        l = None\n",
    "        for i, xi in enumerate(xs):\n",
    "            if (l is None or frac(xs[l]) > frac(xi)) and frac(xi) != 0:\n",
    "                l = i\n",
    "        if l is None:\n",
    "            break\n",
    "            \n",
    "        xs, c = pivot(xs, l)\n",
    "        coeffs += c\n",
    "    return xs, coeffs"
   ]
  }
 ],
 "metadata": {
  "kernelspec": {
   "display_name": "SageMath 10.5",
   "language": "sage",
   "name": "sagemath"
  },
  "language_info": {
   "codemirror_mode": {
    "name": "ipython",
    "version": 3
   },
   "file_extension": ".py",
   "mimetype": "text/x-python",
   "name": "python",
   "nbconvert_exporter": "python",
   "pygments_lexer": "ipython3",
   "version": "3.13.2"
  }
 },
 "nbformat": 4,
 "nbformat_minor": 5
}
