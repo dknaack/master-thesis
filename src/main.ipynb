{
 "cells": [
  {
   "cell_type": "code",
   "execution_count": null,
   "id": "50144a0e-af61-4b8f-8913-588c30c8f10d",
   "metadata": {},
   "outputs": [],
   "source": [
    "%display latex\n",
    "from utils import *"
   ]
  },
  {
   "cell_type": "code",
   "execution_count": null,
   "id": "027a7835-3062-4a46-b4a3-192b14ab5af7",
   "metadata": {},
   "outputs": [],
   "source": [
    "K.<a> = NumberField(x^3 - 2, embedding=RR(1))\n",
    "xs = vector([2^(i/3) for i in range(3)])\n",
    "x, y, z = var(x, y, z')\n",
    "\n",
    "show(sum([\n",
    "    implicit_plot3d(x.norm() == 1, (x, -5, 5), (y, -5, 5), (z, -5, 5), plot_points=10)\n",
    "]))"
   ]
  },
  {
   "cell_type": "code",
   "execution_count": null,
   "id": "12606e6a-6adc-479d-a61a-f6ddf83ce349",
   "metadata": {},
   "outputs": [],
   "source": [
    "K.<r> = NumberField(x^3 - 3, embedding=RR(20))\n",
    "xs = (r, r^2)\n",
    "\n",
    "start, period = None, None\n",
    "for L in sequences(len(xs), 15):\n",
    "    index = {xs: 0}\n",
    "    ys = xs\n",
    "    for i, l in enumerate(L):\n",
    "        ys = pivot(ys, l, l)\n",
    "        if ys in index:\n",
    "            j = index[ys]\n",
    "            start = L[:j]\n",
    "            period = L[j:i+1]\n",
    "            break\n",
    "        else:\n",
    "            index[ys] = i + 1\n",
    "pretty_print(start, period)"
   ]
  },
  {
   "cell_type": "code",
   "execution_count": null,
   "id": "1b072386-5727-4557-a080-0ed14b0b222b",
   "metadata": {},
   "outputs": [],
   "source": [
    "pivot_table(xs, dup + 10 * dup)"
   ]
  },
  {
   "cell_type": "code",
   "execution_count": null,
   "id": "0e0cb650-c30f-49df-857d-4ed1017c9b9b",
   "metadata": {},
   "outputs": [],
   "source": [
    "K.<r> = NumberField(x^5 + x^4 + x^3 + x^2 + x - 1, embedding=RR(1))\n",
    "xs = (r, r^2, r^3)\n",
    "start, period = brute_force_search(xs, 12)\n",
    "pretty_print(pretty_continued_fraction(start, period))\n",
    "list(get_coeffs(xs, start + period))"
   ]
  },
  {
   "cell_type": "code",
   "execution_count": null,
   "id": "55b37490-52cb-47c1-baac-bd225d4f75fe",
   "metadata": {},
   "outputs": [],
   "source": [
    "K.<r> = NumberField(x^3 + x^2 + x - 1, embedding=RR(1))\n",
    "xs = (r, r^2)\n",
    "start, period = brute_force_search(xs, 10)\n",
    "pretty_print(pretty_continued_fraction(start, period))\n",
    "list(get_coeffs(xs, start + period))"
   ]
  },
  {
   "cell_type": "code",
   "execution_count": null,
   "id": "a85c90dc-dc34-451a-8991-e232b28ca0ae",
   "metadata": {},
   "outputs": [],
   "source": [
    "def foo(p, ys):\n",
    "    K.<r> = NumberField(p, embedding=RR(2))\n",
    "    pretty_print(K.embeddings(RR))\n",
    "    xs = ys(r)\n",
    "    S, P = None, None\n",
    "    for start, period in periodic_sequences(xs, 30):\n",
    "        if P is None or len(period) < len(P):\n",
    "            S, P = start, period\n",
    "        break\n",
    "    pretty_print(pretty_continued_fraction(S, P))\n",
    "    pretty_print(xs, ':', pivot(xs, *S))\n",
    "\n",
    "x = var('x')\n",
    "foo(x^3 + 8*x^2 + 2*x - 3, lambda x: (x, x^2))\n",
    "#foo(x^3 + x - 1, lambda x: (x, x^2))\n",
    "#foo(x^3 + x^2 - 1, lambda x: (x, x^2))\n",
    "#foo(x^4 + 1/2*x^2 + x - 1, lambda x: (x, x^2))"
   ]
  },
  {
   "cell_type": "code",
   "execution_count": null,
   "id": "e92e67e1-ce92-4553-b812-5a6b45ff8d20",
   "metadata": {},
   "outputs": [],
   "source": [
    "def translation(d, i):\n",
    "    assert i < d\n",
    "    T = matrix.identity(d)\n",
    "    T[i, d-1] = 1\n",
    "    return T\n",
    "\n",
    "def reflection(d, i):\n",
    "    R = matrix.identity(d)\n",
    "    R[d-1, d-1] = R[i, i] = 0\n",
    "    R[i, d-1] = R[d-1, i] = 1\n",
    "    return R\n",
    "\n",
    "T = lambda i, a: translation(3, i)^a\n",
    "R = lambda i: reflection(3, i)\n",
    "\n",
    "def cmul(A, *matrices):\n",
    "    for B in matrices:\n",
    "        A = B.T * A * B\n",
    "    return A\n",
    "\n",
    "def quadric(A):\n",
    "    d = A.nrows()\n",
    "    x = var('x')\n",
    "    xs = vector([x^i for i in range(d)])\n",
    "    return expand(xs * A * xs)\n",
    "\n",
    "A = matrix([[2, 3, 0], [3, 0, -1], [0, -1, 0]])\n",
    "for l, (a, b) in coeffs:\n",
    "    pretty_print(A, LatexExpr(', '), quadric(A), LatexExpr(', '), det(A))\n",
    "    pretty_print(gcd(A.list()))\n",
    "    A = cmul(A, T(0, a), T(1, b), R(l))\n"
   ]
  },
  {
   "cell_type": "code",
   "execution_count": null,
   "id": "3a8b9ea5-ed29-4ec9-a12e-deb00451dbb1",
   "metadata": {},
   "outputs": [],
   "source": [
    "x, y = var('x, y')\n",
    "def frac(x):\n",
    "    return x - floor(x)\n",
    "xrange = (x, -2, 2)\n",
    "yrange = (y, -2, 2)\n",
    "implicit_plot(x^2 - 2 * y^2 == 0, xrange, yrange) + \\\n",
    "implicit_plot(x^2 - 2 * y^2 == 1, xrange, yrange) + \\\n",
    "density_plot(frac((x^2 - 2 * y^2)), xrange, yrange, plot_points=500)"
   ]
  },
  {
   "cell_type": "code",
   "execution_count": null,
   "id": "b9fb1805-bd13-448c-a989-59fd1dab0f32",
   "metadata": {},
   "outputs": [],
   "source": [
    "x, y, z = var('x, y, z')\n",
    "xrange, yrange, zrange = [(a, -3, 3) for a in (x, y, z)]\n",
    "\n",
    "sum([\n",
    "    implicit_plot3d(x == 1, xrange, yrange, zrange, color='red'),\n",
    "    implicit_plot3d((y/x - 2^(1/3))^2 + (z/x - 2^(2/3))^2 == 1, xrange, yrange, zrange, plot_points=200),\n",
    "    implicit_plot3d((y/x - 2^(1/3))^2 + (z/x - 2^(2/3))^2 == -1, xrange, yrange, zrange, plot_points=200),\n",
    "])"
   ]
  },
  {
   "cell_type": "code",
   "execution_count": null,
   "id": "c744fafc-e045-445e-ac83-31ef71f881a2",
   "metadata": {},
   "outputs": [],
   "source": [
    "T = matrix([[1, 1], [0, 1]])\n",
    "T^3"
   ]
  },
  {
   "cell_type": "markdown",
   "id": "811d64c1-51c7-4f28-b88a-89e1ae03a45f",
   "metadata": {},
   "source": [
    "The transformation on a cubic root preserves the discriminant:"
   ]
  },
  {
   "cell_type": "code",
   "execution_count": null,
   "id": "386bd410-cbbc-475f-abd5-0986ae001530",
   "metadata": {},
   "outputs": [],
   "source": [
    "A, B, C, D = var('A, B, C, D')\n",
    "x, a, b = var('x, a, b')\n",
    "p = A * x^3 + B * x^2 + C * x + D\n",
    "R = PolynomialRing(SR, x)\n",
    "A, B, C, D = [c for c, i in expand(x^3*p.subs(x=(a+1/x))).coefficients(x)]\n",
    "expand(B^2 * C^2 - 4*A*C^3 - 4*B^3*D - 27*A^2*D^2 + 18*A*B*C*D)"
   ]
  },
  {
   "cell_type": "markdown",
   "id": "76a31eb3-b5bf-43b3-8d89-24faa983a2ca",
   "metadata": {},
   "source": [
    "But what is the transform when a different pivot $\\ell$ is chosen?"
   ]
  },
  {
   "cell_type": "code",
   "execution_count": null,
   "id": "f9131788-d0f4-40f8-b6f0-302491ae4617",
   "metadata": {},
   "outputs": [],
   "source": [
    "A, B, C = var('A, B, C')\n",
    "p = A*x^2 + B*x + C\n",
    "p.subs(x=x^2)\n"
   ]
  },
  {
   "cell_type": "markdown",
   "id": "358a75d5-f30a-459d-8c55-f0697873de30",
   "metadata": {},
   "source": [
    "# Geometric Interpretation of Continued Fractions"
   ]
  },
  {
   "cell_type": "markdown",
   "id": "caa40164-ed5f-49fb-b644-b48d4a2446e5",
   "metadata": {},
   "source": [
    "The modified update rule does not use a negative for the other indices.\n",
    "$$\n",
    "  x_i = \n",
    "  \\begin{cases}\n",
    "    \\frac{1}{x_i}, & \\text{ if } i = \\ell, \\\\\n",
    "    \\frac{x_i}{x_\\ell}, & \\text{ otherwise.} \\\\\n",
    "  \\end{cases}\n",
    "$$"
   ]
  },
  {
   "cell_type": "code",
   "execution_count": null,
   "id": "8cdabe1a-9316-4903-9501-2deb510edf1d",
   "metadata": {},
   "outputs": [],
   "source": [
    "x = var('x')\n",
    "K.<alpha> = NumberField(x^2 - x - 1, embedding=RR(1))\n",
    "xs = (alpha,)\n",
    "ys = get_convergent(xs, [0, 0])\n",
    "matrix([(yi.denominator() * abs(xi - yi)).list() for xi, yi in zip(xs, ys)])"
   ]
  },
  {
   "cell_type": "code",
   "execution_count": null,
   "id": "420d2b0c-3c11-4405-b724-c7aadbaa2bef",
   "metadata": {},
   "outputs": [],
   "source": [
    "K.<alpha> = NumberField(x^4 - 2*x^2 - 22, embedding=RR(1))\n",
    "xs = (alpha^2 + 1, alpha^3 + alpha)\n",
    "ys = pivot(xs, 0, 1, 0, 1, 0, 1, 0, 1)\n",
    "matrix([yi.list() for yi in ys]).T"
   ]
  },
  {
   "cell_type": "code",
   "execution_count": null,
   "id": "2541d5ae-3c64-476b-bd3a-471469fce5b0",
   "metadata": {},
   "outputs": [],
   "source": [
    "x = var('x')\n",
    "rows = []\n",
    "K.<alpha> = NumberField(x^2 - 7, embedding=RR(1))\n",
    "y = alpha"
   ]
  },
  {
   "cell_type": "code",
   "execution_count": null,
   "id": "149cb99c-15d7-4ec7-85ac-d2fac1e2dc1e",
   "metadata": {},
   "outputs": [],
   "source": [
    "x = y\n",
    "a = floor(x)\n",
    "y = 1/(x-a)\n",
    "rows.append([a, x.list(), RR(x)])\n",
    "table(rows)"
   ]
  },
  {
   "cell_type": "code",
   "execution_count": null,
   "id": "305b2db2-321f-4db8-9901-bfffd7208d80",
   "metadata": {},
   "outputs": [],
   "source": [
    "(1/(alpha-2))"
   ]
  },
  {
   "cell_type": "code",
   "execution_count": null,
   "id": "0cc2945a-ec96-45bd-b089-9a4a2138ebb2",
   "metadata": {},
   "outputs": [],
   "source": [
    "x,y=var('x,y')\n",
    "pretty_print(RR(alpha))\n",
    "sum([implicit_plot(x==-floor(alpha*y), (x,-1,5), (y,-1,5), gridlines=True) for i in range(-10, 10)])"
   ]
  },
  {
   "cell_type": "markdown",
   "id": "a07e3823-df27-4e1f-b272-8b213636f355",
   "metadata": {},
   "source": [
    "# Brute-Force Search\n",
    "\n",
    "The brute-force search is done in a breadth-first fashion.\n",
    "We try every list of length $n$ and then every list of length $n + 1$,\n",
    "until we find a period in the representation."
   ]
  },
  {
   "cell_type": "code",
   "execution_count": null,
   "id": "ddf7622b-688a-4b3a-8110-746ba1afab46",
   "metadata": {},
   "outputs": [],
   "source": [
    "def brute_force(xs, max_depth, exhaustive=False):\n",
    "    indices = [0]\n",
    "    result = None\n",
    "    d = len(xs)\n",
    "    while indices:\n",
    "        init, repeat = get_period(xs, indices[1:])\n",
    "        is_valid = len(repeat) > 0\n",
    "        if is_valid:\n",
    "            if not exhaustive:\n",
    "                return init, repeat\n",
    "            if not result:\n",
    "                result = []\n",
    "            result.append((init, repeat))\n",
    "        indices = increment_nary(indices, d, max_depth + 1)\n",
    "    return result\n",
    "\n",
    "def brute_force_2d(xs, max_depth, exhaustive=False):\n",
    "    \"\"\"\n",
    "    Faster version which uses an integer to determine the pivot sequence\n",
    "    \"\"\"\n",
    "    \n",
    "    def get_indices_list(indices_value):\n",
    "        result = []\n",
    "        while indices_value > 0:\n",
    "            if indices_value & 1 != 0:\n",
    "                result.append(1)\n",
    "            else:\n",
    "                result.append(0)\n",
    "            indices_value >>= 1\n",
    "        return result[:-1]\n",
    "        \n",
    "    indices = 0\n",
    "    result = None\n",
    "    d = len(xs)\n",
    "    while indices < (2 << max_depth):\n",
    "        init, repeat = get_period(xs, get_indices_list(indices))\n",
    "        if repeat:\n",
    "            if not exhaustive:\n",
    "                return init, repeat\n",
    "            if not result:\n",
    "                result = []\n",
    "            result.append((init, repeat))\n",
    "        indices += 1\n",
    "    return result"
   ]
  },
  {
   "cell_type": "markdown",
   "id": "f2ef6d7b-7928-4564-b60c-48d97a99a390",
   "metadata": {},
   "source": [
    "Here is, for example, the period for $\\sqrt[3]{4}$. Notably, this value likely doesn't have a periodic representation in the Jacobi-Perron algorithm. First, the pivots which lead to a period are shown. The period is marked with a line over the pivots. The actual representation of $\\sqrt[3]{4}$ is shown in the next block."
   ]
  },
  {
   "cell_type": "code",
   "execution_count": null,
   "id": "fbba6175-3f37-4354-b771-e5ada41020eb",
   "metadata": {},
   "outputs": [],
   "source": [
    "d = 2\n",
    "p = x^3 - 3*x - 1\n",
    "K.<alpha> = NumberField(x^4 - 2*x^2 - 2, embedding=RR(1))\n",
    "xs = (alpha^2 + alpha, alpha^3 + alpha)\n",
    "\n",
    "init, repeat = brute_force(xs, 15)\n",
    "pretty_print(pretty_continued_fraction(init, repeat))\n",
    "coeffs = list(zip(init + 10 * repeat, get_coeffs(xs, init + 10 * repeat)))\n",
    "pretty_print(list(zip(list(get_coeffs(xs, init + 2 * repeat)), init + 2 * repeat)))\n",
    "pretty_print(RR(get_decrease(xs, *init, *repeat)))\n",
    "pretty_print(RR(alpha))"
   ]
  },
  {
   "cell_type": "code",
   "execution_count": null,
   "id": "92a5556d-fea0-4cac-87ab-8b66c16449c1",
   "metadata": {},
   "outputs": [],
   "source": [
    "from utils import *\n",
    "\n",
    "xs = (alpha, alpha^2)\n",
    "indices = init + repeat\n",
    "coeffs = list(get_coeffs(xs, indices))\n",
    "\n",
    "rows = []\n",
    "for i in range(1, len(indices), 2):\n",
    "    conv = [get_convergent(xs, indices[:i] + [l1, l2]) for l1 in range(d) for l2 in range(d)]\n",
    "    row = [indices[i-1], indices[i], real_list(pivot(xs, *indices[:i]))]\n",
    "    row += min([(f'{i:02b}', prod([RR(abs(rj - xj)) for j, xj, rj in zip(range(d), xs, r)])) for i, r in enumerate(conv)], key=lambda e: e[1])\n",
    "    rows.append(row)\n",
    "\n",
    "table(rows)"
   ]
  },
  {
   "cell_type": "code",
   "execution_count": null,
   "id": "d1a2e158-0161-4f9c-8730-50940e7d231b",
   "metadata": {},
   "outputs": [],
   "source": [
    "indices = []"
   ]
  },
  {
   "cell_type": "code",
   "execution_count": null,
   "id": "fc8b76db-0260-4bd7-a80c-6091c9d29766",
   "metadata": {},
   "outputs": [],
   "source": [
    "values = []\n",
    "i = 0\n",
    "for l in range(d):\n",
    "    r = get_convergent(xs, [*indices, l])\n",
    "    values.append((l, RR(sum([(ri - xi)**2 for ri, xi in zip(r, xs)]))))\n",
    "l, _ = min(values, key=lambda e: e[1])\n",
    "indices.append(l)\n",
    "pretty_print(indices)\n",
    "get_period(xs, indices)[1]"
   ]
  },
  {
   "cell_type": "code",
   "execution_count": null,
   "id": "ed825ba0-aff1-448c-9173-69d6cf2bcf8f",
   "metadata": {},
   "outputs": [],
   "source": [
    "ys = xs\n",
    "rows = []\n",
    "for i in init + repeat:\n",
    "    def f(zs):\n",
    "        return frac(prod([z**d for z in zs]))\n",
    "    choices = [pivot(ys, l)[0] for l in range(d)]\n",
    "    row = [zs for l, zs in enumerate(choices)]\n",
    "    rows.append([i, *ys] + real_list(flatten(row)) + flatten(row))\n",
    "    ys, _ = pivot(ys, i)\n",
    "\n",
    "table(rows)"
   ]
  },
  {
   "cell_type": "markdown",
   "id": "5fb1d8d0-0987-4582-a52b-bdff315792a6",
   "metadata": {},
   "source": [
    "Period lengths for the first 28 numbers:"
   ]
  },
  {
   "cell_type": "code",
   "execution_count": null,
   "id": "490e9a6a-77a6-4b5e-aceb-96d132c32903",
   "metadata": {},
   "outputs": [],
   "source": [
    "for i in range(2, 20):\n",
    "    try:\n",
    "        K.<alpha> = NumberField(x^(d+1) - i, embedding=RR(1))\n",
    "        xs = tuple(sum(alpha^j for j in range(1, i + 1)) for i in range(1, d + 1))\n",
    "        init, repeat = brute_force(xs, 20)[0]\n",
    "        print(i, len(repeat))\n",
    "    except KeyboardInterrupt:\n",
    "        break\n",
    "    except:\n",
    "        pass"
   ]
  },
  {
   "cell_type": "code",
   "execution_count": null,
   "id": "e777ed28-a310-4b88-be28-c0a301a16d96",
   "metadata": {},
   "outputs": [],
   "source": [
    "K.<alpha> = NumberField(x^2 - 2, embedding=RR(1))\n",
    "pivot((alpha,), 0, 0, 0, 0, 0, 0)"
   ]
  },
  {
   "cell_type": "markdown",
   "id": "ad710f83-b928-4a70-af19-3150f02db372",
   "metadata": {},
   "source": [
    "# Geometric Interpretation of the Continued Fractions"
   ]
  },
  {
   "cell_type": "code",
   "execution_count": null,
   "id": "9ce96f5b-613a-4021-8441-43d4858361cb",
   "metadata": {},
   "outputs": [],
   "source": [
    "plot_size = 20\n",
    "\n",
    "alpha = sqrt(7)\n",
    "cf = continued_fraction(alpha)\n",
    "terms = [cf[:i+1].value() for i in range(40)]\n",
    "points = [(term.denominator(), term.numerator()) for term in terms]\n",
    "\n",
    "basis = [(0, 1), (1, 0)]\n",
    "points_even = [basis[1]] + points[0::2]\n",
    "points_odd = [basis[0]] + points[1::2]\n",
    "diff = basis + [(a[0] - b[0], a[1] - b[1]) for a, b in zip(points, points[1:])]\n",
    "\n",
    "lattice = point([(x, y) for x in range(plot_size + 1) for y in range(plot_size + 1)], color='gray')\n",
    "scene = [\n",
    "    lattice,\n",
    "    arrow((0, 0), (1, alpha), color='red'),\n",
    "    plot(alpha * x, (x, 0, 10), color='red'),\n",
    "    sum(arrow((0, 0), b, color='blue') for b in basis),\n",
    "    point(points_odd, color='red'),\n",
    "    line(points_odd, color='red'),\n",
    "    point(points_even, color='blue'),\n",
    "    line(points_even, color='blue'),\n",
    "]\n",
    "\n",
    "pretty_print(cf)\n",
    "pretty_print([abs(det(matrix([odd, even]))) for even, odd in zip(diff[:], diff[1:])])\n",
    "show(sum(scene), xmin=-0.5, xmax=plot_size, ymin=-0.5, ymax=plot_size)"
   ]
  },
  {
   "cell_type": "code",
   "execution_count": null,
   "id": "2f90200a-8bd2-4f7c-a9b3-209d9824c44b",
   "metadata": {},
   "outputs": [],
   "source": [
    "plot_size = 10\n",
    "\n",
    "alpha = sqrt(5)\n",
    "cf = continued_fraction(alpha)\n",
    "terms = [cf[:i+1].value() for i in range(40)]\n",
    "points = [(term.denominator(), term.numerator()) for term in terms]\n",
    "\n",
    "basis = [(0, 1), (1, 0)]\n",
    "points_even = [basis[1]] + points[0::2]\n",
    "points_odd = [basis[0]] + points[1::2]\n",
    "\n",
    "lattice = point([(x, y) for x in range(plot_size + 1) for y in range(plot_size + 1)], color='gray')\n",
    "lattice2 = point([(x, y * alpha) for x in range(plot_size + 1) for y in range(plot_size + 1)], color='red')\n",
    "scene = [\n",
    "    lattice,\n",
    "    #lattice2,\n",
    "    arrow((0, 0), (1, alpha), color='red'),\n",
    "    plot(x * alpha, (x, 0, 10), color='red'),\n",
    "    sum(arrow((0, 0), b, color='blue') for b in basis),\n",
    "    implicit_plot(x^2 - (1/alpha * y)^2 == 1, (x, 0, plot_size), (y, 0, plot_size)),\n",
    "    implicit_plot(-x^2 + (1/alpha * y)^2 == 1, (x, 0, plot_size), (y, 0, plot_size)),\n",
    "]\n",
    "\n",
    "pretty_print(cf)\n",
    "show(sum(scene), xmin=-0.5, xmax=plot_size, ymin=-0.5, ymax=plot_size, gridlines=1/2)"
   ]
  },
  {
   "cell_type": "code",
   "execution_count": null,
   "id": "d870ef8f-43ce-417f-bfc2-4552569936e3",
   "metadata": {},
   "outputs": [],
   "source": [
    "x, y = var('x, y')\n",
    "\n",
    "show(lattice + implicit_plot(sqrt(1/2*(x^2 - 1)) == y, (x, 0, 10), (y, 0, 10)),\n",
    "     xmin=-5, ymin=-5, xmax=5, ymax=5)"
   ]
  },
  {
   "cell_type": "code",
   "execution_count": null,
   "id": "24e1c6f7-a485-4eac-870f-d76101a739b8",
   "metadata": {},
   "outputs": [],
   "source": []
  },
  {
   "cell_type": "code",
   "execution_count": null,
   "id": "05b3b004-37f4-47ee-9d43-db32b6149cff",
   "metadata": {},
   "outputs": [],
   "source": [
    "def pivot_poly(p, *zs):\n",
    "    C, B, A = p.list()\n",
    "    for z in zs:\n",
    "        A, B, C = A*z^2 + B*z + C, 2*A*z + B, A\n",
    "    return A*x^2 + B*x + C\n",
    "\n",
    "p = pivot_poly(x^2 - 2, 1, 2, 2, 2, 2, 2, 2, 2, 2, 2, 2, 2, 2)\n",
    "p.list(), p.roots()"
   ]
  },
  {
   "cell_type": "markdown",
   "id": "a7ce77ba-03aa-4482-b753-3317a2067a00",
   "metadata": {
    "jp-MarkdownHeadingCollapsed": true
   },
   "source": [
    "# Equal Distance between Neighbors\n",
    "\n",
    "The first polynomial is the \"neighbor\" polynomial, which is derived from the following equation:\n",
    "$$\n",
    "  x_1 = \\frac{x_2}{x_1} - 1 = \\dots = \\frac{x_d}{x_{d-1}} - 1 = \\frac{1}{x_d} - 1.\n",
    "$$\n",
    "This results in the equation\n",
    "$$\n",
    "  x_d^{d+1} + x_d - 1 = 0, \\quad x_i = x_d^{d + 1 - i}\n",
    "$$"
   ]
  },
  {
   "cell_type": "code",
   "execution_count": null,
   "id": "d05f5763-46d9-459d-a79a-3a9361c5af4a",
   "metadata": {},
   "outputs": [],
   "source": [
    "def neighbor_distance(xs):\n",
    "    dist = []\n",
    "    for x, y in zip([*xs, 1], [1, *xs]):\n",
    "        if y == 0 or x == 0:\n",
    "            dist.append(1)\n",
    "        else:\n",
    "            dist.append(frac(x / y))\n",
    "    return dist\n",
    "\n",
    "def distance_matrix(xs):\n",
    "    D = [[0 for _ in xs] for _ in xs]\n",
    "    for i, x in enumerate(xs):\n",
    "        for j, y in enumerate(xs):\n",
    "            if x == 0 or y == 0:\n",
    "                D[i][j] = 1\n",
    "            elif i == j:\n",
    "                D[i][j] = frac(1 / x)\n",
    "            else:\n",
    "                D[i][j] = frac(x / y)\n",
    "    return D\n",
    "\n",
    "def real_distance_matrix(xs):\n",
    "    dist = distance_matrix(xs)\n",
    "    return [[RR(d) for d in row] for row in dist]\n",
    "\n",
    "# Indices are zero-based. An index of -1 indicates selecting nothing in the first iteration and selecting 0 in the next iteration.\n",
    "# Similarly, d - 1 indicates selecting d - 1 in the first iteration and nothing in the next iteration.\n",
    "def select(xs):\n",
    "    min_index = None\n",
    "    min_dist = 1\n",
    "    for i, dist in enumerate(neighbor_distance(xs)):\n",
    "        if min_dist > dist:\n",
    "            min_dist = dist\n",
    "            min_index = i - 1\n",
    "    return min_index"
   ]
  },
  {
   "cell_type": "code",
   "execution_count": null,
   "id": "8fea69c8-c05b-49e2-9d9b-3344cdd769cf",
   "metadata": {},
   "outputs": [],
   "source": [
    "def neighbor_poly(d):\n",
    "    return x ** (d+1) + x - 1\n",
    "neighbor_poly(5)"
   ]
  },
  {
   "cell_type": "markdown",
   "id": "ec814754-02be-426b-b5aa-b3badff9d0cf",
   "metadata": {},
   "source": [
    "The polynomial gives us the field $\\mathbb{Q}/ (x^{d+1} + x - 1)$."
   ]
  },
  {
   "cell_type": "code",
   "execution_count": null,
   "id": "f44037d6-f2aa-4e0c-b2dd-843cc04e9b43",
   "metadata": {},
   "outputs": [],
   "source": [
    "d = 3\n",
    "p = neighbor_poly(d)\n",
    "K.<psi> = NumberField(p, embedding=RR(0.5))\n",
    "K"
   ]
  },
  {
   "cell_type": "markdown",
   "id": "b178f796-e667-4b5a-8368-b7429ff4736f",
   "metadata": {},
   "source": [
    "For our input, we choose $x_i = \\psi^{d+1-i}$."
   ]
  },
  {
   "cell_type": "code",
   "execution_count": null,
   "id": "40294f8a-c002-4a84-aedb-2b2a0a01d345",
   "metadata": {},
   "outputs": [],
   "source": [
    "xs = tuple(sorted([psi^(d+1-i) for i in range(1,d+1)]))\n",
    "\n",
    "table([(i, x,RR(x)) for i, x in enumerate(xs)], header_row=[r'$i$', r'$x_i$'])"
   ]
  },
  {
   "cell_type": "markdown",
   "id": "7b8e6f2e-a1d6-4667-9307-6a4604c49907",
   "metadata": {},
   "source": [
    "The distance between neighbors is indeed the same."
   ]
  },
  {
   "cell_type": "code",
   "execution_count": null,
   "id": "0c8ad6fc-a36b-43c4-a30d-6dadc78b3fe6",
   "metadata": {},
   "outputs": [],
   "source": [
    "dist = neighbor_distance(xs)\n",
    "\n",
    "table([dist, [round(RR(d), 3) for d in dist]])"
   ]
  },
  {
   "cell_type": "markdown",
   "id": "746085a8-9e80-416f-b827-cb5d3c62d8b6",
   "metadata": {},
   "source": [
    "Therefore, we can expect a decrease of at least $\\psi^3$ over two iterations. However, this condition does not hold up after those two iterations when choosing any element to pivot with. It only holds up if we choose the maximum $x_d$ of those elements. Choosing any other pivot, destroys this solution."
   ]
  },
  {
   "cell_type": "code",
   "execution_count": null,
   "id": "2bba46fd-dc20-45ca-891f-c9032c299727",
   "metadata": {},
   "outputs": [],
   "source": [
    "n = 50\n",
    "d = len(xs)\n",
    "\n",
    "ys = xs\n",
    "rows = [[\n",
    "    *[f'$x_{i+1}$' for i in range(d)], \n",
    "    *[fr'$\\{{x_{{{i+2}}}/x_{{{i+1}}}\\}}$' for i in range(-1, d)], \n",
    "    r'$\\ell_1$', \n",
    "    r'$\\ell_2$',\n",
    "]]\n",
    "\n",
    "for i in range(n):\n",
    "    # select pivot\n",
    "    l = select(ys)\n",
    "    \n",
    "    # Add row to the output\n",
    "    dist   = [round(RR(d), 3) for d in neighbor_distance(ys)]\n",
    "    values = [round(RR(y), 3) for y in ys]\n",
    "    rows.append([*values, *dist, '-' if l == -1 else l, '-' if l == d - 1 else l + 1])\n",
    "\n",
    "    # pivot\n",
    "    if l == -1:\n",
    "        ys, _ = pivot(ys, 0)\n",
    "    elif l == d - 1:\n",
    "        ys, _ = pivot(ys, d - 1)\n",
    "    else:\n",
    "        ys, _ = pivot(ys, l, l + 1)\n",
    "    \n",
    "table(rows, header_row=True, align='center')"
   ]
  },
  {
   "cell_type": "markdown",
   "id": "d06edb6c-4450-4631-af47-c08322d9fa3c",
   "metadata": {
    "jp-MarkdownHeadingCollapsed": true
   },
   "source": [
    "## Other polynomials\n",
    "\n",
    "$$\n",
    "    x^{d+1} + \\sum_{k=1}^d k x^{d-k} = 1\n",
    "$$"
   ]
  },
  {
   "cell_type": "code",
   "execution_count": null,
   "id": "e609c30d-1dc6-4e92-afbf-4ba8896dec6f",
   "metadata": {},
   "outputs": [],
   "source": [
    "xs = (1, 4^(1/3), 16^(1/3))\n",
    "indices = [1, 2] + [2]*20\n",
    "table([[RR(x) for x in pivot(xs, *indices[:i+1])] for i in range(len(indices))])"
   ]
  },
  {
   "cell_type": "code",
   "execution_count": null,
   "id": "a9128ce2-9b4b-48c5-b106-43f1b272e1ed",
   "metadata": {},
   "outputs": [],
   "source": []
  },
  {
   "cell_type": "markdown",
   "id": "fd99e36d-098e-4438-bfbc-726b0ff63edd",
   "metadata": {
    "jp-MarkdownHeadingCollapsed": true
   },
   "source": [
    "# $d$-bonacci Numbers\n"
   ]
  },
  {
   "cell_type": "code",
   "execution_count": null,
   "id": "4aa3e4a7-5c36-4d9a-96ab-3a6b3759fd2b",
   "metadata": {},
   "outputs": [],
   "source": [
    "def nbonacci_poly(d):\n",
    "    i = var('i')\n",
    "    return x^(d+1) + sum(x^i, i, 1, d) - 1\n",
    "nbonacci_poly(3), *[r[0] for r in nbonacci_poly(1).roots()]"
   ]
  },
  {
   "cell_type": "code",
   "execution_count": null,
   "id": "a4a27c85-f6a5-480c-a97c-ae85dd2c98d5",
   "metadata": {},
   "outputs": [],
   "source": [
    "y = polygen(RR, 'y')\n",
    "d = 5\n",
    "\n",
    "p = nbonacci_poly(d)\n",
    "psi_real = find_root(p, 0, 1)\n",
    "K.<psi> = NumberField(p, embedding=RR(psi_real))"
   ]
  },
  {
   "cell_type": "code",
   "execution_count": null,
   "id": "58aaa3a2-01d4-4e7f-81b5-ddd7b240816f",
   "metadata": {},
   "outputs": [],
   "source": [
    "xs = tuple(sum(psi^i for i in range(1, k+1)) for k in range(1, d + 1))\n",
    "xs"
   ]
  },
  {
   "cell_type": "code",
   "execution_count": null,
   "id": "4d5821e8-55c0-4fe5-818b-c20a691c86cb",
   "metadata": {},
   "outputs": [],
   "source": [
    "ys = pivot(xs, 0)\n",
    "argmin(ys), ys"
   ]
  },
  {
   "cell_type": "code",
   "execution_count": null,
   "id": "45b4e22a-625b-4c59-9fad-e02fc1df1960",
   "metadata": {},
   "outputs": [],
   "source": [
    "q = factor(-x^6 * p(x=1/x))\n",
    "phi_real = find_root(q, 1, 2)\n",
    "L.<phi> = NumberField(q, embedding=RR(phi_real))\n",
    "q.list()"
   ]
  },
  {
   "cell_type": "markdown",
   "id": "55169f2f-ad25-4873-8d2c-42814477b6ec",
   "metadata": {
    "jp-MarkdownHeadingCollapsed": true
   },
   "source": [
    "# Worst-Case Analysis"
   ]
  },
  {
   "cell_type": "code",
   "execution_count": null,
   "id": "f89b568e-bd94-442e-8793-d5e954814c56",
   "metadata": {},
   "outputs": [],
   "source": [
    "d = 3\n",
    "xs = tuple(i / (d + 1) for i in range(1, d + 1))\n",
    "pivot(xs, 0)"
   ]
  },
  {
   "cell_type": "code",
   "execution_count": null,
   "id": "749b05cd-c18c-4490-ba0c-8f018ea476e1",
   "metadata": {},
   "outputs": [],
   "source": [
    "def unpivot(y, values, indices):\n",
    "    for a, l in zip(values, indices):\n",
    "        x = [0] * len(ys)\n",
    "        for i, (yi, ai) in enumerate(zip(y, a)):\n",
    "            if i == l:\n",
    "                x[i] = frac(1 / (ai + yi))\n",
    "            else:\n",
    "                x[i] = frac((ai + yi) / (a[l] + y[l]))\n",
    "        y = x\n",
    "    return y"
   ]
  },
  {
   "cell_type": "code",
   "execution_count": null,
   "id": "ba40be70-6e69-4465-937a-2ea688c08227",
   "metadata": {},
   "outputs": [],
   "source": [
    "ys = tuple(sorted(unpivot(xs, [(2, 1, 1)] * 5, [0] * 5)))\n",
    "table(distance_matrix(ys), header_row=ys, header_column=['', *ys])"
   ]
  },
  {
   "cell_type": "code",
   "execution_count": null,
   "id": "25eae55e-b1ce-4e3c-9903-e38c6361c655",
   "metadata": {},
   "outputs": [],
   "source": [
    "pivot(ys, 0, 1, 2)"
   ]
  },
  {
   "cell_type": "code",
   "execution_count": null,
   "id": "c8085c81-fe94-4d0b-a0db-6db1c9cd41b1",
   "metadata": {},
   "outputs": [],
   "source": [
    "K.<phi> = NumberField(x^3 - x - 1, embedding=RR(2))\n",
    "psi = 1/phi\n",
    "\n",
    "A = matrix([[1, phi, phi^2], [1, -psi]]).transpose()\n",
    "b = vector([1, 1])\n",
    "xs = A.solve_right(b)\n",
    "pivot(xs, 1, 1, *[1]*10)"
   ]
  },
  {
   "cell_type": "code",
   "execution_count": null,
   "id": "01720014-c65a-46a0-8152-bedb954945ff",
   "metadata": {},
   "outputs": [],
   "source": [
    "def min_pivot(xs, n):\n",
    "    coeffs = []\n",
    "    for _ in range(n):\n",
    "        l = None\n",
    "        for i, xi in enumerate(xs):\n",
    "            if (l is None or frac(xs[l]) > frac(xi)) and frac(xi) != 0:\n",
    "                l = i\n",
    "        if l is None:\n",
    "            break\n",
    "            \n",
    "        xs, c = pivot(xs, l)\n",
    "        coeffs += c\n",
    "    return xs, coeffs"
   ]
  }
 ],
 "metadata": {
  "kernelspec": {
   "display_name": "SageMath 10.6",
   "language": "sage",
   "name": "sagemath"
  },
  "language_info": {
   "codemirror_mode": {
    "name": "ipython",
    "version": 3
   },
   "file_extension": ".py",
   "mimetype": "text/x-python",
   "name": "python",
   "nbconvert_exporter": "python",
   "pygments_lexer": "ipython3",
   "version": "3.13.3"
  }
 },
 "nbformat": 4,
 "nbformat_minor": 5
}
