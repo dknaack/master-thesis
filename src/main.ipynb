{
 "cells": [
  {
   "cell_type": "code",
   "execution_count": 189,
   "id": "50144a0e-af61-4b8f-8913-588c30c8f10d",
   "metadata": {},
   "outputs": [],
   "source": [
    "%display latex\n",
    "\n",
    "def frac(x):\n",
    "    return x - floor(RR(x))\n",
    "\n",
    "def pivot(xs, *indices):\n",
    "    coeffs = []\n",
    "    for l in indices:\n",
    "        a = [0] * len(xs)\n",
    "        ys = [0] * len(xs)\n",
    "        xl = xs[l]\n",
    "        assert xl != 0, \"xl cannot be zero\"\n",
    "        for i, xi in enumerate(xs):\n",
    "            a[i] = floor(RR(xi))\n",
    "            if i == l:\n",
    "                ys[i] = 1 / frac(xi)\n",
    "            else:\n",
    "                ys[i] = frac(xi) / frac(xl)\n",
    "        xs = tuple(ys)\n",
    "        coeffs.append(tuple(a))\n",
    "    return xs, coeffs\n",
    "\n",
    "def argmin(xs):\n",
    "    j = None\n",
    "    for i in range(len(xs)):\n",
    "        if j == None or xs[i] < xs[j]:\n",
    "            j = i\n",
    "    return j\n",
    "\n",
    "def pivot_table(xs, pivots):\n",
    "    ys = xs\n",
    "    rows = []\n",
    "    for l in pivots:\n",
    "        zs, coeffs = pivot(ys, l)\n",
    "        rows.append((l, *ys, *[round(RR(y), 5) for y in ys], *coeffs[-1]))\n",
    "        ys = zs\n",
    "\n",
    "    header_row = [r'$\\ell$', '$x_1$', '$x_2$', '$x_1$', '$x_2$', '$a_1$', '$a_2$']\n",
    "    return table(rows, header_row=header_row)"
   ]
  },
  {
   "cell_type": "markdown",
   "id": "caa40164-ed5f-49fb-b644-b48d4a2446e5",
   "metadata": {},
   "source": [
    "The modified update rule does not use a negative for the other indices.\n",
    "$$\n",
    "  x_i = \n",
    "  \\begin{cases}\n",
    "    \\frac{1}{x_i}, & \\text{ if } i = \\ell, \\\\\n",
    "    \\frac{x_i}{x_\\ell}, & \\text{ otherwise.} \\\\\n",
    "  \\end{cases}\n",
    "$$"
   ]
  },
  {
   "cell_type": "markdown",
   "id": "a07e3823-df27-4e1f-b272-8b213636f355",
   "metadata": {},
   "source": [
    "# Brute-Force Search\n",
    "\n",
    "The brute-force search is done in a breadth-first fashion.\n",
    "We try every list of length $n$ and then every list of length $n + 1$,\n",
    "until we find a period in the representation."
   ]
  },
  {
   "cell_type": "code",
   "execution_count": 190,
   "id": "ddf7622b-688a-4b3a-8110-746ba1afab46",
   "metadata": {},
   "outputs": [],
   "source": [
    "def brute_force(xs, max_depth):\n",
    "    d = len(xs)\n",
    "    queue = [([xs], [])]\n",
    "    for depth in range(max_depth + 1):\n",
    "        next_queue = []\n",
    "        while queue:\n",
    "            inputs, pivots = queue.pop(0)\n",
    "            ys = inputs[-1]\n",
    "\n",
    "            for l in range(d):\n",
    "                if frac(ys[l]) != 0:\n",
    "                    zs, _ = pivot(ys, l)\n",
    "                    try:\n",
    "                        repeat_start = inputs.index(zs)\n",
    "                        init = pivots[:repeat_start]\n",
    "                        repeat = pivots[repeat_start:] + [l]\n",
    "                        return init, repeat\n",
    "                    except ValueError:\n",
    "                        elem = (inputs + [zs], pivots + [l])\n",
    "                        next_queue.append(elem)\n",
    "        queue = next_queue\n",
    "    return []\n",
    "\n",
    "def format_period(init, repeat):\n",
    "    init_str = ', '.join([str(e) for e in init])\n",
    "    repeat_str = ', '.join([str(e) for e in repeat])\n",
    "    return LatexExpr(rf'[{init_str}, \\overline{{{repeat_str}}}]')\n",
    "\n",
    "def periodic_pivot_table(xs, init, repeat):\n",
    "    return pivot_table(xs, init + repeat + [repeat[0]])"
   ]
  },
  {
   "cell_type": "markdown",
   "id": "f2ef6d7b-7928-4564-b60c-48d97a99a390",
   "metadata": {},
   "source": [
    "Here is, for example, the period for $\\sqrt[3]{4}$. Notably, this value likely doesn't have a periodic representation in the Jacobi-Perron algorithm. First, the pivots which lead to a period are shown. The period is marked with a line over the pivots. The actual representation of $\\sqrt[3]{4}$ is shown in the next block."
   ]
  },
  {
   "cell_type": "code",
   "execution_count": 191,
   "id": "fbba6175-3f37-4354-b771-e5ada41020eb",
   "metadata": {},
   "outputs": [
    {
     "data": {
      "text/html": [
       "<html>\\(\\displaystyle [0, \\overline{0, 1, 0, 0, 1, 1, 0, 0}]\\)</html>"
      ],
      "text/latex": [
       "$\\displaystyle [0, \\overline{0, 1, 0, 0, 1, 1, 0, 0}]$"
      ],
      "text/plain": [
       "[0, \\overline{0, 1, 0, 0, 1, 1, 0, 0}]"
      ]
     },
     "execution_count": 191,
     "metadata": {},
     "output_type": "execute_result"
    }
   ],
   "source": [
    "p = x^3 - 4\n",
    "K.<psi> = NumberField(p, embedding=RR(1))\n",
    "\n",
    "xs = tuple(psi^i for i in range(1,d))\n",
    "init, repeat = brute_force(xs, 20)\n",
    "format_period(init, repeat)"
   ]
  },
  {
   "cell_type": "code",
   "execution_count": 194,
   "id": "15044042-e0d9-4d11-b001-000e2edcf698",
   "metadata": {},
   "outputs": [
    {
     "data": {
      "text/html": [
       "<div class=\"notruncate\">\n",
       "<table  class=\"table_form\">\n",
       "<tbody>\n",
       "<tr>\n",
       "<th style=\"text-align:left\">\\(\\ell\\)</th>\n",
       "<th style=\"text-align:left\">\\(x_1\\)</th>\n",
       "<th style=\"text-align:left\">\\(x_2\\)</th>\n",
       "<th style=\"text-align:left\">\\(x_1\\)</th>\n",
       "<th style=\"text-align:left\">\\(x_2\\)</th>\n",
       "<th style=\"text-align:left\">\\(a_1\\)</th>\n",
       "<th style=\"text-align:left\">\\(a_2\\)</th>\n",
       "</tr>\n",
       "<tr class =\"row-a\">\n",
       "<td style=\"text-align:left\">\\(0\\)</td>\n",
       "<td style=\"text-align:left\">\\(\\psi\\)</td>\n",
       "<td style=\"text-align:left\">\\(\\psi^{2}\\)</td>\n",
       "<td style=\"text-align:left\">\\(1.5874\\)</td>\n",
       "<td style=\"text-align:left\">\\(2.51984\\)</td>\n",
       "<td style=\"text-align:left\">\\(1\\)</td>\n",
       "<td style=\"text-align:left\">\\(2\\)</td>\n",
       "</tr>\n",
       "<tr class =\"row-b\">\n",
       "<td style=\"text-align:left\">\\(0\\)</td>\n",
       "<td style=\"text-align:left\">\\(\\frac{1}{3} \\psi^{2} + \\frac{1}{3} \\psi + \\frac{1}{3}\\)</td>\n",
       "<td style=\"text-align:left\">\\(-\\frac{1}{3} \\psi^{2} + \\frac{2}{3} \\psi + \\frac{2}{3}\\)</td>\n",
       "<td style=\"text-align:left\">\\(1.70241\\)</td>\n",
       "<td style=\"text-align:left\">\\(0.88499\\)</td>\n",
       "<td style=\"text-align:left\">\\(1\\)</td>\n",
       "<td style=\"text-align:left\">\\(0\\)</td>\n",
       "</tr>\n",
       "<tr class =\"row-a\">\n",
       "<td style=\"text-align:left\">\\(1\\)</td>\n",
       "<td style=\"text-align:left\">\\(\\frac{1}{4} \\psi^{2} + \\frac{1}{2} \\psi\\)</td>\n",
       "<td style=\"text-align:left\">\\(\\frac{1}{2} \\psi^{2}\\)</td>\n",
       "<td style=\"text-align:left\">\\(1.42366\\)</td>\n",
       "<td style=\"text-align:left\">\\(1.25992\\)</td>\n",
       "<td style=\"text-align:left\">\\(1\\)</td>\n",
       "<td style=\"text-align:left\">\\(1\\)</td>\n",
       "</tr>\n",
       "<tr class =\"row-b\">\n",
       "<td style=\"text-align:left\">\\(0\\)</td>\n",
       "<td style=\"text-align:left\">\\(\\frac{1}{4} \\psi^{2} + 1\\)</td>\n",
       "<td style=\"text-align:left\">\\(\\frac{1}{2} \\psi^{2} + \\psi + 1\\)</td>\n",
       "<td style=\"text-align:left\">\\(1.62996\\)</td>\n",
       "<td style=\"text-align:left\">\\(3.84732\\)</td>\n",
       "<td style=\"text-align:left\">\\(1\\)</td>\n",
       "<td style=\"text-align:left\">\\(3\\)</td>\n",
       "</tr>\n",
       "<tr class =\"row-a\">\n",
       "<td style=\"text-align:left\">\\(0\\)</td>\n",
       "<td style=\"text-align:left\">\\(\\psi\\)</td>\n",
       "<td style=\"text-align:left\">\\(\\psi^{2} - 2 \\psi + 2\\)</td>\n",
       "<td style=\"text-align:left\">\\(1.5874\\)</td>\n",
       "<td style=\"text-align:left\">\\(1.34504\\)</td>\n",
       "<td style=\"text-align:left\">\\(1\\)</td>\n",
       "<td style=\"text-align:left\">\\(1\\)</td>\n",
       "</tr>\n",
       "<tr class =\"row-b\">\n",
       "<td style=\"text-align:left\">\\(1\\)</td>\n",
       "<td style=\"text-align:left\">\\(\\frac{1}{3} \\psi^{2} + \\frac{1}{3} \\psi + \\frac{1}{3}\\)</td>\n",
       "<td style=\"text-align:left\">\\(\\psi - 1\\)</td>\n",
       "<td style=\"text-align:left\">\\(1.70241\\)</td>\n",
       "<td style=\"text-align:left\">\\(0.5874\\)</td>\n",
       "<td style=\"text-align:left\">\\(1\\)</td>\n",
       "<td style=\"text-align:left\">\\(0\\)</td>\n",
       "</tr>\n",
       "<tr class =\"row-a\">\n",
       "<td style=\"text-align:left\">\\(1\\)</td>\n",
       "<td style=\"text-align:left\">\\(\\frac{1}{3} \\psi + \\frac{2}{3}\\)</td>\n",
       "<td style=\"text-align:left\">\\(\\frac{1}{3} \\psi^{2} + \\frac{1}{3} \\psi + \\frac{1}{3}\\)</td>\n",
       "<td style=\"text-align:left\">\\(1.1958\\)</td>\n",
       "<td style=\"text-align:left\">\\(1.70241\\)</td>\n",
       "<td style=\"text-align:left\">\\(1\\)</td>\n",
       "<td style=\"text-align:left\">\\(1\\)</td>\n",
       "</tr>\n",
       "<tr class =\"row-b\">\n",
       "<td style=\"text-align:left\">\\(0\\)</td>\n",
       "<td style=\"text-align:left\">\\(\\frac{1}{12} \\psi^{2} - \\frac{1}{6} \\psi + \\frac{1}{3}\\)</td>\n",
       "<td style=\"text-align:left\">\\(\\frac{1}{4} \\psi^{2} + \\frac{1}{2} \\psi\\)</td>\n",
       "<td style=\"text-align:left\">\\(0.27875\\)</td>\n",
       "<td style=\"text-align:left\">\\(1.42366\\)</td>\n",
       "<td style=\"text-align:left\">\\(0\\)</td>\n",
       "<td style=\"text-align:left\">\\(1\\)</td>\n",
       "</tr>\n",
       "<tr class =\"row-a\">\n",
       "<td style=\"text-align:left\">\\(0\\)</td>\n",
       "<td style=\"text-align:left\">\\(\\psi + 2\\)</td>\n",
       "<td style=\"text-align:left\">\\(\\psi^{2} - 1\\)</td>\n",
       "<td style=\"text-align:left\">\\(3.5874\\)</td>\n",
       "<td style=\"text-align:left\">\\(1.51984\\)</td>\n",
       "<td style=\"text-align:left\">\\(3\\)</td>\n",
       "<td style=\"text-align:left\">\\(1\\)</td>\n",
       "</tr>\n",
       "<tr class =\"row-b\">\n",
       "<td style=\"text-align:left\">\\(0\\)</td>\n",
       "<td style=\"text-align:left\">\\(\\frac{1}{3} \\psi^{2} + \\frac{1}{3} \\psi + \\frac{1}{3}\\)</td>\n",
       "<td style=\"text-align:left\">\\(-\\frac{1}{3} \\psi^{2} + \\frac{2}{3} \\psi + \\frac{2}{3}\\)</td>\n",
       "<td style=\"text-align:left\">\\(1.70241\\)</td>\n",
       "<td style=\"text-align:left\">\\(0.88499\\)</td>\n",
       "<td style=\"text-align:left\">\\(1\\)</td>\n",
       "<td style=\"text-align:left\">\\(0\\)</td>\n",
       "</tr>\n",
       "</tbody>\n",
       "</table>\n",
       "</div>"
      ],
      "text/plain": [
       "  $\\ell$   $x_1$                        $x_2$                        $x_1$     $x_2$     $a_1$   $a_2$\n",
       "├────────┼────────────────────────────┼────────────────────────────┼─────────┼─────────┼───────┼───────┤\n",
       "  0        psi                          psi^2                        1.5874    2.51984   1       2\n",
       "  0        1/3*psi^2 + 1/3*psi + 1/3    -1/3*psi^2 + 2/3*psi + 2/3   1.70241   0.88499   1       0\n",
       "  1        1/4*psi^2 + 1/2*psi          1/2*psi^2                    1.42366   1.25992   1       1\n",
       "  0        1/4*psi^2 + 1                1/2*psi^2 + psi + 1          1.62996   3.84732   1       3\n",
       "  0        psi                          psi^2 - 2*psi + 2            1.5874    1.34504   1       1\n",
       "  1        1/3*psi^2 + 1/3*psi + 1/3    psi - 1                      1.70241   0.5874    1       0\n",
       "  1        1/3*psi + 2/3                1/3*psi^2 + 1/3*psi + 1/3    1.1958    1.70241   1       1\n",
       "  0        1/12*psi^2 - 1/6*psi + 1/3   1/4*psi^2 + 1/2*psi          0.27875   1.42366   0       1\n",
       "  0        psi + 2                      psi^2 - 1                    3.5874    1.51984   3       1\n",
       "  0        1/3*psi^2 + 1/3*psi + 1/3    -1/3*psi^2 + 2/3*psi + 2/3   1.70241   0.88499   1       0"
      ]
     },
     "execution_count": 194,
     "metadata": {},
     "output_type": "execute_result"
    }
   ],
   "source": [
    "periodic_pivot_table(xs, init, repeat)"
   ]
  },
  {
   "cell_type": "markdown",
   "id": "a7ce77ba-03aa-4482-b753-3317a2067a00",
   "metadata": {},
   "source": [
    "# Equal Distance between Neighbors\n",
    "\n",
    "The first polynomial is the \"neighbor\" polynomial, which is derived from the following equation:\n",
    "$$\n",
    "  x_1 = \\frac{x_2}{x_1} - 1 = \\dots = \\frac{x_d}{x_{d-1}} - 1 = \\frac{1}{x_d} - 1.\n",
    "$$\n",
    "This results in the equation\n",
    "$$\n",
    "  x_d^{d+1} + x_d - 1 = 0, \\quad x_i = x_d^{d + 1 - i}\n",
    "$$"
   ]
  },
  {
   "cell_type": "code",
   "execution_count": 159,
   "id": "d05f5763-46d9-459d-a79a-3a9361c5af4a",
   "metadata": {},
   "outputs": [],
   "source": [
    "def neighbor_distance(xs):\n",
    "    dist = []\n",
    "    for x, y in zip([*xs, 1], [1, *xs]):\n",
    "        if y == 0 or x == 0:\n",
    "            dist.append(1)\n",
    "        else:\n",
    "            dist.append(frac(x / y))\n",
    "    return dist\n",
    "\n",
    "def distance_matrix(xs):\n",
    "    D = [[0 for _ in xs] for _ in xs]\n",
    "    for i, x in enumerate(xs):\n",
    "        for j, y in enumerate(xs):\n",
    "            if x == 0 or y == 0:\n",
    "                D[i][j] = 1\n",
    "            elif i == j:\n",
    "                D[i][j] = frac(1 / x)\n",
    "            else:\n",
    "                D[i][j] = frac(x / y)\n",
    "    return D\n",
    "\n",
    "# Indices are zero-based. An index of -1 indicates selecting nothing in the first iteration and selecting 0 in the next iteration.\n",
    "# Similarly, d - 1 indicates selecting d - 1 in the first iteration and nothing in the next iteration.\n",
    "def select(xs):\n",
    "    min_index = None\n",
    "    min_dist = 1\n",
    "    for i, dist in enumerate(neighbor_distance(xs)):\n",
    "        if min_dist > dist:\n",
    "            min_dist = dist\n",
    "            min_index = i - 1\n",
    "    return min_index"
   ]
  },
  {
   "cell_type": "code",
   "execution_count": 160,
   "id": "8fea69c8-c05b-49e2-9d9b-3344cdd769cf",
   "metadata": {},
   "outputs": [
    {
     "data": {
      "text/html": [
       "<html>\\(\\displaystyle x^{6} + x - 1\\)</html>"
      ],
      "text/latex": [
       "$\\displaystyle x^{6} + x - 1$"
      ],
      "text/plain": [
       "x^6 + x - 1"
      ]
     },
     "execution_count": 160,
     "metadata": {},
     "output_type": "execute_result"
    }
   ],
   "source": [
    "def neighbor_poly(d):\n",
    "    return x ** (d+1) + x - 1\n",
    "neighbor_poly(5)"
   ]
  },
  {
   "cell_type": "markdown",
   "id": "ec814754-02be-426b-b5aa-b3badff9d0cf",
   "metadata": {},
   "source": [
    "The polynomial gives us the field $\\mathbb{Q}/ (x^{d+1} + x - 1)$."
   ]
  },
  {
   "cell_type": "code",
   "execution_count": 181,
   "id": "f44037d6-f2aa-4e0c-b2dd-843cc04e9b43",
   "metadata": {},
   "outputs": [
    {
     "data": {
      "text/html": [
       "<html>\\(\\displaystyle \\newcommand{\\Bold}[1]{\\mathbf{#1}}\\Bold{Q}[\\psi]/(\\psi^{4} + \\psi - 1)\\)</html>"
      ],
      "text/latex": [
       "$\\displaystyle \\newcommand{\\Bold}[1]{\\mathbf{#1}}\\Bold{Q}[\\psi]/(\\psi^{4} + \\psi - 1)$"
      ],
      "text/plain": [
       "Number Field in psi with defining polynomial x^4 + x - 1 with psi = 0.7244919590005156?"
      ]
     },
     "execution_count": 181,
     "metadata": {},
     "output_type": "execute_result"
    }
   ],
   "source": [
    "d = 3\n",
    "p = neighbor_poly(d)\n",
    "K.<psi> = NumberField(p, embedding=RR(0.5))\n",
    "K"
   ]
  },
  {
   "cell_type": "markdown",
   "id": "b178f796-e667-4b5a-8368-b7429ff4736f",
   "metadata": {},
   "source": [
    "For our input, we choose $x_i = \\psi^{d+1-i}$."
   ]
  },
  {
   "cell_type": "code",
   "execution_count": 182,
   "id": "40294f8a-c002-4a84-aedb-2b2a0a01d345",
   "metadata": {},
   "outputs": [
    {
     "data": {
      "text/html": [
       "<div class=\"notruncate\">\n",
       "<table  class=\"table_form\">\n",
       "<tbody>\n",
       "<tr>\n",
       "<th style=\"text-align:left\">\\(i\\)</th>\n",
       "<th style=\"text-align:left\">\\(x_i\\)</th>\n",
       "</tr>\n",
       "<tr class =\"row-a\">\n",
       "<td style=\"text-align:left\">\\(0\\)</td>\n",
       "<td style=\"text-align:left\">\\(\\psi^{3}\\)</td>\n",
       "<td style=\"text-align:left\">\\(0.380277569097614\\)</td>\n",
       "</tr>\n",
       "<tr class =\"row-b\">\n",
       "<td style=\"text-align:left\">\\(1\\)</td>\n",
       "<td style=\"text-align:left\">\\(\\psi^{2}\\)</td>\n",
       "<td style=\"text-align:left\">\\(0.524888598656405\\)</td>\n",
       "</tr>\n",
       "<tr class =\"row-a\">\n",
       "<td style=\"text-align:left\">\\(2\\)</td>\n",
       "<td style=\"text-align:left\">\\(\\psi\\)</td>\n",
       "<td style=\"text-align:left\">\\(0.724491959000516\\)</td>\n",
       "</tr>\n",
       "</tbody>\n",
       "</table>\n",
       "</div>"
      ],
      "text/plain": [
       "  $i$   $x_i$\n",
       "├─────┼───────┤\n",
       "  0     psi^3\n",
       "  1     psi^2\n",
       "  2     psi"
      ]
     },
     "execution_count": 182,
     "metadata": {},
     "output_type": "execute_result"
    }
   ],
   "source": [
    "xs = tuple(sorted([psi^(d+1-i) for i in range(1,d+1)]))\n",
    "\n",
    "table([(i, x,RR(x)) for i, x in enumerate(xs)], header_row=[r'$i$', r'$x_i$'])"
   ]
  },
  {
   "cell_type": "markdown",
   "id": "7b8e6f2e-a1d6-4667-9307-6a4604c49907",
   "metadata": {},
   "source": [
    "The distance between neighbors is indeed the same."
   ]
  },
  {
   "cell_type": "code",
   "execution_count": 183,
   "id": "0c8ad6fc-a36b-43c4-a30d-6dadc78b3fe6",
   "metadata": {},
   "outputs": [
    {
     "data": {
      "text/html": [
       "<div class=\"notruncate\">\n",
       "<table  class=\"table_form\">\n",
       "<tbody>\n",
       "<tr class =\"row-a\">\n",
       "<td style=\"text-align:left\">\\(\\psi^{3}\\)</td>\n",
       "<td style=\"text-align:left\">\\(\\psi^{3}\\)</td>\n",
       "<td style=\"text-align:left\">\\(\\psi^{3}\\)</td>\n",
       "<td style=\"text-align:left\">\\(\\psi^{3}\\)</td>\n",
       "</tr>\n",
       "<tr class =\"row-b\">\n",
       "<td style=\"text-align:left\">\\(0.38\\)</td>\n",
       "<td style=\"text-align:left\">\\(0.38\\)</td>\n",
       "<td style=\"text-align:left\">\\(0.38\\)</td>\n",
       "<td style=\"text-align:left\">\\(0.38\\)</td>\n",
       "</tr>\n",
       "</tbody>\n",
       "</table>\n",
       "</div>"
      ],
      "text/plain": [
       "  psi^3   psi^3   psi^3   psi^3\n",
       "  0.38    0.38    0.38    0.38"
      ]
     },
     "execution_count": 183,
     "metadata": {},
     "output_type": "execute_result"
    }
   ],
   "source": [
    "dist = neighbor_distance(xs)\n",
    "\n",
    "table([dist, [round(RR(d), 3) for d in dist]])"
   ]
  },
  {
   "cell_type": "markdown",
   "id": "746085a8-9e80-416f-b827-cb5d3c62d8b6",
   "metadata": {},
   "source": [
    "Therefore, we can expect a decrease of at least $\\psi^3$ over two iterations. However, this condition does not hold up after those two iterations when choosing any element to pivot with. It only holds up if we choose the maximum $x_d$ of those elements. Choosing any other pivot, destroys this solution."
   ]
  },
  {
   "cell_type": "code",
   "execution_count": 188,
   "id": "2bba46fd-dc20-45ca-891f-c9032c299727",
   "metadata": {},
   "outputs": [
    {
     "data": {
      "text/html": [
       "<div class=\"notruncate\">\n",
       "<table  class=\"table_form\">\n",
       "<tbody>\n",
       "<tr>\n",
       "<th style=\"text-align:center\">\\(x_1\\)</th>\n",
       "<th style=\"text-align:center\">\\(x_2\\)</th>\n",
       "<th style=\"text-align:center\">\\(x_3\\)</th>\n",
       "<th style=\"text-align:center\">\\(\\{x_{1}/x_{0}\\}\\)</th>\n",
       "<th style=\"text-align:center\">\\(\\{x_{2}/x_{1}\\}\\)</th>\n",
       "<th style=\"text-align:center\">\\(\\{x_{3}/x_{2}\\}\\)</th>\n",
       "<th style=\"text-align:center\">\\(\\{x_{4}/x_{3}\\}\\)</th>\n",
       "<th style=\"text-align:center\">\\(\\ell_1\\)</th>\n",
       "<th style=\"text-align:center\">\\(\\ell_2\\)</th>\n",
       "</tr>\n",
       "<tr class =\"row-a\">\n",
       "<td style=\"text-align:center\">\\(0.38\\)</td>\n",
       "<td style=\"text-align:center\">\\(0.525\\)</td>\n",
       "<td style=\"text-align:center\">\\(0.724\\)</td>\n",
       "<td style=\"text-align:center\">\\(0.38\\)</td>\n",
       "<td style=\"text-align:center\">\\(0.38\\)</td>\n",
       "<td style=\"text-align:center\">\\(0.38\\)</td>\n",
       "<td style=\"text-align:center\">\\(0.38\\)</td>\n",
       "<td style=\"text-align:center\">-</td>\n",
       "<td style=\"text-align:center\">\\(0\\)</td>\n",
       "</tr>\n",
       "<tr class =\"row-b\">\n",
       "<td style=\"text-align:center\">\\(0.63\\)</td>\n",
       "<td style=\"text-align:center\">\\(0.38\\)</td>\n",
       "<td style=\"text-align:center\">\\(0.905\\)</td>\n",
       "<td style=\"text-align:center\">\\(0.63\\)</td>\n",
       "<td style=\"text-align:center\">\\(0.604\\)</td>\n",
       "<td style=\"text-align:center\">\\(0.38\\)</td>\n",
       "<td style=\"text-align:center\">\\(0.105\\)</td>\n",
       "<td style=\"text-align:center\">\\(2\\)</td>\n",
       "<td style=\"text-align:center\">-</td>\n",
       "</tr>\n",
       "<tr class =\"row-a\">\n",
       "<td style=\"text-align:center\">\\(0.696\\)</td>\n",
       "<td style=\"text-align:center\">\\(0.42\\)</td>\n",
       "<td style=\"text-align:center\">\\(0.105\\)</td>\n",
       "<td style=\"text-align:center\">\\(0.696\\)</td>\n",
       "<td style=\"text-align:center\">\\(0.604\\)</td>\n",
       "<td style=\"text-align:center\">\\(0.249\\)</td>\n",
       "<td style=\"text-align:center\">\\(0.545\\)</td>\n",
       "<td style=\"text-align:center\">\\(1\\)</td>\n",
       "<td style=\"text-align:center\">\\(2\\)</td>\n",
       "</tr>\n",
       "<tr class =\"row-b\">\n",
       "<td style=\"text-align:center\">\\(0.63\\)</td>\n",
       "<td style=\"text-align:center\">\\(0.525\\)</td>\n",
       "<td style=\"text-align:center\">\\(0.01\\)</td>\n",
       "<td style=\"text-align:center\">\\(0.63\\)</td>\n",
       "<td style=\"text-align:center\">\\(0.834\\)</td>\n",
       "<td style=\"text-align:center\">\\(0.019\\)</td>\n",
       "<td style=\"text-align:center\">\\(0.647\\)</td>\n",
       "<td style=\"text-align:center\">\\(1\\)</td>\n",
       "<td style=\"text-align:center\">\\(2\\)</td>\n",
       "</tr>\n",
       "<tr class =\"row-a\">\n",
       "<td style=\"text-align:center\">\\(0.545\\)</td>\n",
       "<td style=\"text-align:center\">\\(0.819\\)</td>\n",
       "<td style=\"text-align:center\">\\(0.829\\)</td>\n",
       "<td style=\"text-align:center\">\\(0.545\\)</td>\n",
       "<td style=\"text-align:center\">\\(0.503\\)</td>\n",
       "<td style=\"text-align:center\">\\(0.012\\)</td>\n",
       "<td style=\"text-align:center\">\\(0.207\\)</td>\n",
       "<td style=\"text-align:center\">\\(1\\)</td>\n",
       "<td style=\"text-align:center\">\\(2\\)</td>\n",
       "</tr>\n",
       "<tr class =\"row-b\">\n",
       "<td style=\"text-align:center\">\\(0.829\\)</td>\n",
       "<td style=\"text-align:center\">\\(0.254\\)</td>\n",
       "<td style=\"text-align:center\">\\(0.393\\)</td>\n",
       "<td style=\"text-align:center\">\\(0.829\\)</td>\n",
       "<td style=\"text-align:center\">\\(0.307\\)</td>\n",
       "<td style=\"text-align:center\">\\(0.548\\)</td>\n",
       "<td style=\"text-align:center\">\\(0.543\\)</td>\n",
       "<td style=\"text-align:center\">\\(0\\)</td>\n",
       "<td style=\"text-align:center\">\\(1\\)</td>\n",
       "</tr>\n",
       "<tr class =\"row-a\">\n",
       "<td style=\"text-align:center\">\\(0.675\\)</td>\n",
       "<td style=\"text-align:center\">\\(0.262\\)</td>\n",
       "<td style=\"text-align:center\">\\(0.548\\)</td>\n",
       "<td style=\"text-align:center\">\\(0.675\\)</td>\n",
       "<td style=\"text-align:center\">\\(0.388\\)</td>\n",
       "<td style=\"text-align:center\">\\(0.091\\)</td>\n",
       "<td style=\"text-align:center\">\\(0.825\\)</td>\n",
       "<td style=\"text-align:center\">\\(1\\)</td>\n",
       "<td style=\"text-align:center\">\\(2\\)</td>\n",
       "</tr>\n",
       "<tr class =\"row-b\">\n",
       "<td style=\"text-align:center\">\\(0.307\\)</td>\n",
       "<td style=\"text-align:center\">\\(0.942\\)</td>\n",
       "<td style=\"text-align:center\">\\(0.959\\)</td>\n",
       "<td style=\"text-align:center\">\\(0.307\\)</td>\n",
       "<td style=\"text-align:center\">\\(0.073\\)</td>\n",
       "<td style=\"text-align:center\">\\(0.017\\)</td>\n",
       "<td style=\"text-align:center\">\\(0.043\\)</td>\n",
       "<td style=\"text-align:center\">\\(1\\)</td>\n",
       "<td style=\"text-align:center\">\\(2\\)</td>\n",
       "</tr>\n",
       "<tr class =\"row-a\">\n",
       "<td style=\"text-align:center\">\\(0.838\\)</td>\n",
       "<td style=\"text-align:center\">\\(0.536\\)</td>\n",
       "<td style=\"text-align:center\">\\(0.897\\)</td>\n",
       "<td style=\"text-align:center\">\\(0.838\\)</td>\n",
       "<td style=\"text-align:center\">\\(0.64\\)</td>\n",
       "<td style=\"text-align:center\">\\(0.673\\)</td>\n",
       "<td style=\"text-align:center\">\\(0.114\\)</td>\n",
       "<td style=\"text-align:center\">\\(2\\)</td>\n",
       "<td style=\"text-align:center\">-</td>\n",
       "</tr>\n",
       "<tr class =\"row-b\">\n",
       "<td style=\"text-align:center\">\\(0.934\\)</td>\n",
       "<td style=\"text-align:center\">\\(0.598\\)</td>\n",
       "<td style=\"text-align:center\">\\(0.114\\)</td>\n",
       "<td style=\"text-align:center\">\\(0.934\\)</td>\n",
       "<td style=\"text-align:center\">\\(0.64\\)</td>\n",
       "<td style=\"text-align:center\">\\(0.192\\)</td>\n",
       "<td style=\"text-align:center\">\\(0.736\\)</td>\n",
       "<td style=\"text-align:center\">\\(1\\)</td>\n",
       "<td style=\"text-align:center\">\\(2\\)</td>\n",
       "</tr>\n",
       "</tbody>\n",
       "</table>\n",
       "</div>"
      ],
      "text/plain": [
       "  $x_1$   $x_2$   $x_3$   $\\{x_{1}/x_{0}\\}$   $\\{x_{2}/x_{1}\\}$   $\\{x_{3}/x_{2}\\}$   $\\{x_{4}/x_{3}\\}$   $\\ell_1$   $\\ell_2$\n",
       "├───────┼───────┼───────┼───────────────────┼───────────────────┼───────────────────┼───────────────────┼──────────┼──────────┤\n",
       "  0.38    0.525   0.724         0.38                0.38                0.38                0.38             -          0\n",
       "  0.63    0.38    0.905         0.63                0.604               0.38                0.105            2          -\n",
       "  0.696   0.42    0.105         0.696               0.604               0.249               0.545            1          2\n",
       "  0.63    0.525   0.01          0.63                0.834               0.019               0.647            1          2\n",
       "  0.545   0.819   0.829         0.545               0.503               0.012               0.207            1          2\n",
       "  0.829   0.254   0.393         0.829               0.307               0.548               0.543            0          1\n",
       "  0.675   0.262   0.548         0.675               0.388               0.091               0.825            1          2\n",
       "  0.307   0.942   0.959         0.307               0.073               0.017               0.043            1          2\n",
       "  0.838   0.536   0.897         0.838               0.64                0.673               0.114            2          -\n",
       "  0.934   0.598   0.114         0.934               0.64                0.192               0.736            1          2"
      ]
     },
     "execution_count": 188,
     "metadata": {},
     "output_type": "execute_result"
    }
   ],
   "source": [
    "n = 10\n",
    "d = len(xs)\n",
    "\n",
    "ys = xs\n",
    "rows = [[\n",
    "    *[f'$x_{i+1}$' for i in range(d)], \n",
    "    *[fr'$\\{{x_{{{i+2}}}/x_{{{i+1}}}\\}}$' for i in range(-1, d)], \n",
    "    r'$\\ell_1$', \n",
    "    r'$\\ell_2$',\n",
    "]]\n",
    "\n",
    "for i in range(n):\n",
    "    # select pivot\n",
    "    l = select(ys)\n",
    "    \n",
    "    # Add row to the output\n",
    "    dist   = [round(RR(d), 3) for d in neighbor_distance(ys)]\n",
    "    values = [round(RR(y), 3) for y in ys]\n",
    "    rows.append([*values, *dist, '-' if l == -1 else l, '-' if l == d - 1 else l + 1])\n",
    "\n",
    "    # pivot\n",
    "    if l == -1:\n",
    "        ys, _ = pivot(ys, 0)\n",
    "    elif l == d - 1:\n",
    "        ys, _ = pivot(ys, d - 1)\n",
    "    else:\n",
    "        ys, _ = pivot(ys, l, l + 1)\n",
    "    \n",
    "table(rows, header_row=True, align='center')"
   ]
  },
  {
   "cell_type": "markdown",
   "id": "d06edb6c-4450-4631-af47-c08322d9fa3c",
   "metadata": {
    "jp-MarkdownHeadingCollapsed": true
   },
   "source": [
    "## Other polynomials\n",
    "\n",
    "$$\n",
    "    x^{d+1} + \\sum_{k=1}^d k x^{d-k} = 1\n",
    "$$"
   ]
  },
  {
   "cell_type": "code",
   "execution_count": 9,
   "id": "e609c30d-1dc6-4e92-afbf-4ba8896dec6f",
   "metadata": {},
   "outputs": [
    {
     "ename": "TypeError",
     "evalue": "unable to convert '(1/4*4^(2/3),1/4*4^(2/3),1/2*4^(2/3)*2^(1/3)-1)' to a real number",
     "output_type": "error",
     "traceback": [
      "\u001b[0;31m---------------------------------------------------------------------------\u001b[0m",
      "\u001b[0;31mTypeError\u001b[0m                                 Traceback (most recent call last)",
      "Cell \u001b[0;32mIn[9], line 3\u001b[0m\n\u001b[1;32m      1\u001b[0m xs \u001b[38;5;241m=\u001b[39m (Integer(\u001b[38;5;241m1\u001b[39m), Integer(\u001b[38;5;241m4\u001b[39m)\u001b[38;5;241m*\u001b[39m\u001b[38;5;241m*\u001b[39m(Integer(\u001b[38;5;241m1\u001b[39m)\u001b[38;5;241m/\u001b[39mInteger(\u001b[38;5;241m3\u001b[39m)), Integer(\u001b[38;5;241m16\u001b[39m)\u001b[38;5;241m*\u001b[39m\u001b[38;5;241m*\u001b[39m(Integer(\u001b[38;5;241m1\u001b[39m)\u001b[38;5;241m/\u001b[39mInteger(\u001b[38;5;241m3\u001b[39m)))\n\u001b[1;32m      2\u001b[0m indices \u001b[38;5;241m=\u001b[39m [Integer(\u001b[38;5;241m1\u001b[39m), Integer(\u001b[38;5;241m2\u001b[39m)] \u001b[38;5;241m+\u001b[39m [Integer(\u001b[38;5;241m2\u001b[39m)]\u001b[38;5;241m*\u001b[39mInteger(\u001b[38;5;241m20\u001b[39m)\n\u001b[0;32m----> 3\u001b[0m table([[\u001b[43mRR\u001b[49m\u001b[43m(\u001b[49m\u001b[43mx\u001b[49m\u001b[43m)\u001b[49m \u001b[38;5;28;01mfor\u001b[39;00m x \u001b[38;5;129;01min\u001b[39;00m pivot(xs, \u001b[38;5;241m*\u001b[39mindices[:i\u001b[38;5;241m+\u001b[39mInteger(\u001b[38;5;241m1\u001b[39m)])] \u001b[38;5;28;01mfor\u001b[39;00m i \u001b[38;5;129;01min\u001b[39;00m \u001b[38;5;28mrange\u001b[39m(\u001b[38;5;28mlen\u001b[39m(indices))])\n",
      "File \u001b[0;32m/usr/lib/python3.13/site-packages/sage/structure/parent.pyx:901\u001b[0m, in \u001b[0;36msage.structure.parent.Parent.__call__ (build/cythonized/sage/structure/parent.c:12763)\u001b[0;34m()\u001b[0m\n\u001b[1;32m    899\u001b[0m if mor is not None:\n\u001b[1;32m    900\u001b[0m     if no_extra_args:\n\u001b[0;32m--> 901\u001b[0m         return mor._call_(x)\n\u001b[1;32m    902\u001b[0m     else:\n\u001b[1;32m    903\u001b[0m         return mor._call_with_args(x, args, kwds)\n",
      "File \u001b[0;32m/usr/lib/python3.13/site-packages/sage/structure/coerce_maps.pyx:164\u001b[0m, in \u001b[0;36msage.structure.coerce_maps.DefaultConvertMap_unique._call_ (build/cythonized/sage/structure/coerce_maps.c:6980)\u001b[0;34m()\u001b[0m\n\u001b[1;32m    162\u001b[0m             print(type(C), C)\n\u001b[1;32m    163\u001b[0m             print(type(C._element_constructor), C._element_constructor)\n\u001b[0;32m--> 164\u001b[0m         raise\n\u001b[1;32m    165\u001b[0m \n\u001b[1;32m    166\u001b[0m cpdef Element _call_with_args(self, x, args=(), kwds={}):\n",
      "File \u001b[0;32m/usr/lib/python3.13/site-packages/sage/structure/coerce_maps.pyx:159\u001b[0m, in \u001b[0;36msage.structure.coerce_maps.DefaultConvertMap_unique._call_ (build/cythonized/sage/structure/coerce_maps.c:6872)\u001b[0;34m()\u001b[0m\n\u001b[1;32m    157\u001b[0m cdef Parent C = self._codomain\n\u001b[1;32m    158\u001b[0m try:\n\u001b[0;32m--> 159\u001b[0m     return C._element_constructor(x)\n\u001b[1;32m    160\u001b[0m except Exception:\n\u001b[1;32m    161\u001b[0m     if print_warnings:\n",
      "File \u001b[0;32m/usr/lib/python3.13/site-packages/sage/rings/real_mpfr.pyx:684\u001b[0m, in \u001b[0;36msage.rings.real_mpfr.RealField_class._element_constructor_ (build/cythonized/sage/rings/real_mpfr.c:16047)\u001b[0;34m()\u001b[0m\n\u001b[1;32m    682\u001b[0m cdef RealNumber z\n\u001b[1;32m    683\u001b[0m z = self._new()\n\u001b[0;32m--> 684\u001b[0m z._set(x, base)\n\u001b[1;32m    685\u001b[0m return z\n\u001b[1;32m    686\u001b[0m \n",
      "File \u001b[0;32m/usr/lib/python3.13/site-packages/sage/rings/real_mpfr.pyx:1531\u001b[0m, in \u001b[0;36msage.rings.real_mpfr.RealNumber._set (build/cythonized/sage/rings/real_mpfr.c:23289)\u001b[0;34m()\u001b[0m\n\u001b[1;32m   1529\u001b[0m             mpfr_set_inf(self.value, -1)\n\u001b[1;32m   1530\u001b[0m         else:\n\u001b[0;32m-> 1531\u001b[0m             raise TypeError(\"unable to convert {!r} to a real number\".format(s))\n\u001b[1;32m   1532\u001b[0m \n\u001b[1;32m   1533\u001b[0m def __reduce__(self):\n",
      "\u001b[0;31mTypeError\u001b[0m: unable to convert '(1/4*4^(2/3),1/4*4^(2/3),1/2*4^(2/3)*2^(1/3)-1)' to a real number"
     ]
    }
   ],
   "source": [
    "xs = (1, 4^(1/3), 16^(1/3))\n",
    "indices = [1, 2] + [2]*20\n",
    "table([[RR(x) for x in pivot(xs, *indices[:i+1])] for i in range(len(indices))])"
   ]
  },
  {
   "cell_type": "code",
   "execution_count": null,
   "id": "a9128ce2-9b4b-48c5-b106-43f1b272e1ed",
   "metadata": {},
   "outputs": [],
   "source": []
  },
  {
   "cell_type": "markdown",
   "id": "fd99e36d-098e-4438-bfbc-726b0ff63edd",
   "metadata": {
    "jp-MarkdownHeadingCollapsed": true
   },
   "source": [
    "# $d$-bonacci Numbers\n"
   ]
  },
  {
   "cell_type": "code",
   "execution_count": 145,
   "id": "4aa3e4a7-5c36-4d9a-96ab-3a6b3759fd2b",
   "metadata": {},
   "outputs": [
    {
     "data": {
      "text/html": [
       "<html>\\(\\displaystyle \\left(x^{4} + x^{3} + x^{2} + x - 1, -\\frac{1}{2} \\, \\sqrt{5} - \\frac{1}{2}, \\frac{1}{2} \\, \\sqrt{5} - \\frac{1}{2}\\right)\\)</html>"
      ],
      "text/latex": [
       "$\\displaystyle \\left(x^{4} + x^{3} + x^{2} + x - 1, -\\frac{1}{2} \\, \\sqrt{5} - \\frac{1}{2}, \\frac{1}{2} \\, \\sqrt{5} - \\frac{1}{2}\\right)$"
      ],
      "text/plain": [
       "(x^4 + x^3 + x^2 + x - 1, -1/2*sqrt(5) - 1/2, 1/2*sqrt(5) - 1/2)"
      ]
     },
     "execution_count": 145,
     "metadata": {},
     "output_type": "execute_result"
    }
   ],
   "source": [
    "def nbonacci_poly(d):\n",
    "    i = var('i')\n",
    "    return x^(d+1) + sum(x^i, i, 1, d) - 1\n",
    "nbonacci_poly(3), *[r[0] for r in nbonacci_poly(1).roots()]"
   ]
  },
  {
   "cell_type": "code",
   "execution_count": 242,
   "id": "a4a27c85-f6a5-480c-a97c-ae85dd2c98d5",
   "metadata": {},
   "outputs": [],
   "source": [
    "y = polygen(RR, 'y')\n",
    "d = 5\n",
    "\n",
    "p = nbonacci_poly(d)\n",
    "psi_real = find_root(p, 0, 1)\n",
    "K.<psi> = NumberField(p, embedding=RR(psi_real))"
   ]
  },
  {
   "cell_type": "code",
   "execution_count": 168,
   "id": "58aaa3a2-01d4-4e7f-81b5-ddd7b240816f",
   "metadata": {},
   "outputs": [
    {
     "data": {
      "text/html": [
       "<html>\\(\\displaystyle \\left(\\psi, \\psi^{2} + \\psi, \\psi^{3} + \\psi^{2} + \\psi, \\psi^{4} + \\psi^{3} + \\psi^{2} + \\psi, \\psi^{5} + \\psi^{4} + \\psi^{3} + \\psi^{2} + \\psi\\right)\\)</html>"
      ],
      "text/latex": [
       "$\\displaystyle \\left(\\psi, \\psi^{2} + \\psi, \\psi^{3} + \\psi^{2} + \\psi, \\psi^{4} + \\psi^{3} + \\psi^{2} + \\psi, \\psi^{5} + \\psi^{4} + \\psi^{3} + \\psi^{2} + \\psi\\right)$"
      ],
      "text/plain": [
       "(psi,\n",
       " psi^2 + psi,\n",
       " psi^3 + psi^2 + psi,\n",
       " psi^4 + psi^3 + psi^2 + psi,\n",
       " psi^5 + psi^4 + psi^3 + psi^2 + psi)"
      ]
     },
     "execution_count": 168,
     "metadata": {},
     "output_type": "execute_result"
    }
   ],
   "source": [
    "xs = tuple(sum(psi^i for i in range(1, k+1)) for k in range(1, d + 1))\n",
    "xs"
   ]
  },
  {
   "cell_type": "code",
   "execution_count": 216,
   "id": "4d5821e8-55c0-4fe5-818b-c20a691c86cb",
   "metadata": {},
   "outputs": [
    {
     "data": {
      "text/html": [
       "<html>\\(\\displaystyle \\left(1, \\left(\\psi^{5} + \\psi^{4} + \\psi^{3} + \\psi^{2} + \\psi, \\psi, \\psi^{2} + \\psi, \\psi^{3} + \\psi^{2} + \\psi, \\psi^{4} + \\psi^{3} + \\psi^{2} + \\psi\\right)\\right)\\)</html>"
      ],
      "text/latex": [
       "$\\displaystyle \\left(1, \\left(\\psi^{5} + \\psi^{4} + \\psi^{3} + \\psi^{2} + \\psi, \\psi, \\psi^{2} + \\psi, \\psi^{3} + \\psi^{2} + \\psi, \\psi^{4} + \\psi^{3} + \\psi^{2} + \\psi\\right)\\right)$"
      ],
      "text/plain": [
       "(1,\n",
       " (psi^5 + psi^4 + psi^3 + psi^2 + psi,\n",
       "  psi,\n",
       "  psi^2 + psi,\n",
       "  psi^3 + psi^2 + psi,\n",
       "  psi^4 + psi^3 + psi^2 + psi))"
      ]
     },
     "execution_count": 216,
     "metadata": {},
     "output_type": "execute_result"
    }
   ],
   "source": [
    "ys = pivot(xs, 0)\n",
    "argmin(ys), ys"
   ]
  },
  {
   "cell_type": "code",
   "execution_count": 254,
   "id": "45b4e22a-625b-4c59-9fad-e02fc1df1960",
   "metadata": {},
   "outputs": [
    {
     "data": {
      "text/html": [
       "<html>\\(\\displaystyle \\left[-1, -1, -1, -1, -1, -1, 1\\right]\\)</html>"
      ],
      "text/latex": [
       "$\\displaystyle \\left[-1, -1, -1, -1, -1, -1, 1\\right]$"
      ],
      "text/plain": [
       "[-1, -1, -1, -1, -1, -1, 1]"
      ]
     },
     "execution_count": 254,
     "metadata": {},
     "output_type": "execute_result"
    }
   ],
   "source": [
    "q = factor(-x^6 * p(x=1/x))\n",
    "phi_real = find_root(q, 1, 2)\n",
    "L.<phi> = NumberField(q, embedding=RR(phi_real))\n",
    "q.list()"
   ]
  },
  {
   "cell_type": "markdown",
   "id": "55169f2f-ad25-4873-8d2c-42814477b6ec",
   "metadata": {
    "jp-MarkdownHeadingCollapsed": true
   },
   "source": [
    "# Worst-Case Analysis"
   ]
  },
  {
   "cell_type": "code",
   "execution_count": 60,
   "id": "f89b568e-bd94-442e-8793-d5e954814c56",
   "metadata": {},
   "outputs": [
    {
     "data": {
      "text/html": [
       "<html>\\(\\displaystyle \\left(0, 0, 0\\right)\\)</html>"
      ],
      "text/latex": [
       "$\\displaystyle \\left(0, 0, 0\\right)$"
      ],
      "text/plain": [
       "(0, 0, 0)"
      ]
     },
     "execution_count": 60,
     "metadata": {},
     "output_type": "execute_result"
    }
   ],
   "source": [
    "d = 3\n",
    "xs = tuple(i / (d + 1) for i in range(1, d + 1))\n",
    "pivot(xs, 0)"
   ]
  },
  {
   "cell_type": "code",
   "execution_count": 133,
   "id": "749b05cd-c18c-4490-ba0c-8f018ea476e1",
   "metadata": {},
   "outputs": [],
   "source": [
    "def unpivot(y, values, indices):\n",
    "    for a, l in zip(values, indices):\n",
    "        x = [0] * len(ys)\n",
    "        for i, (yi, ai) in enumerate(zip(y, a)):\n",
    "            if i == l:\n",
    "                x[i] = frac(1 / (ai + yi))\n",
    "            else:\n",
    "                x[i] = frac((ai + yi) / (a[l] + y[l]))\n",
    "        y = x\n",
    "    return y"
   ]
  },
  {
   "cell_type": "code",
   "execution_count": 165,
   "id": "ba40be70-6e69-4465-937a-2ea688c08227",
   "metadata": {},
   "outputs": [
    {
     "data": {
      "text/html": [
       "<div class=\"notruncate\">\n",
       "<table  class=\"table_form\">\n",
       "<tbody>\n",
       "<tr>\n",
       "<th class=\"ch\"{style_attr}></th>\n",
       "<th style=\"text-align:left\">\\(\\frac{128}{309}\\)</th>\n",
       "<th style=\"text-align:left\">\\(\\frac{218}{309}\\)</th>\n",
       "<th style=\"text-align:left\">\\(\\frac{73}{103}\\)</th>\n",
       "</tr>\n",
       "<tr class =\"row-a\">\n",
       "<td class=\"ch\"{style_attr}>\\(\\frac{128}{309}\\)</td>\n",
       "<td style=\"text-align:left\">\\(\\frac{53}{128}\\)</td>\n",
       "<td style=\"text-align:left\">\\(\\frac{64}{109}\\)</td>\n",
       "<td style=\"text-align:left\">\\(\\frac{128}{219}\\)</td>\n",
       "</tr>\n",
       "<tr class =\"row-b\">\n",
       "<td class=\"ch\"{style_attr}>\\(\\frac{218}{309}\\)</td>\n",
       "<td style=\"text-align:left\">\\(\\frac{45}{64}\\)</td>\n",
       "<td style=\"text-align:left\">\\(\\frac{91}{218}\\)</td>\n",
       "<td style=\"text-align:left\">\\(\\frac{218}{219}\\)</td>\n",
       "</tr>\n",
       "<tr class =\"row-a\">\n",
       "<td class=\"ch\"{style_attr}>\\(\\frac{73}{103}\\)</td>\n",
       "<td style=\"text-align:left\">\\(\\frac{91}{128}\\)</td>\n",
       "<td style=\"text-align:left\">\\(\\frac{1}{218}\\)</td>\n",
       "<td style=\"text-align:left\">\\(\\frac{30}{73}\\)</td>\n",
       "</tr>\n",
       "</tbody>\n",
       "</table>\n",
       "</div>"
      ],
      "text/plain": [
       "          │ 128/309   218/309   73/103\n",
       "├─────────┼─────────┼─────────┼─────────┤\n",
       "  128/309 │ 53/128    64/109    128/219\n",
       "  218/309 │ 45/64     91/218    218/219\n",
       "  73/103  │ 91/128    1/218     30/73"
      ]
     },
     "execution_count": 165,
     "metadata": {},
     "output_type": "execute_result"
    }
   ],
   "source": [
    "ys = tuple(sorted(unpivot(xs, [(2, 1, 1)] * 5, [0] * 5)))\n",
    "table(distance_matrix(ys), header_row=ys, header_column=['', *ys])"
   ]
  },
  {
   "cell_type": "code",
   "execution_count": 163,
   "id": "25eae55e-b1ce-4e3c-9903-e38c6361c655",
   "metadata": {},
   "outputs": [
    {
     "data": {
      "text/html": [
       "<html>\\(\\displaystyle \\left(0, 0, 0\\right)\\)</html>"
      ],
      "text/latex": [
       "$\\displaystyle \\left(0, 0, 0\\right)$"
      ],
      "text/plain": [
       "(0, 0, 0)"
      ]
     },
     "execution_count": 163,
     "metadata": {},
     "output_type": "execute_result"
    }
   ],
   "source": [
    "pivot(ys, 0, 1, 2)"
   ]
  },
  {
   "cell_type": "code",
   "execution_count": 16,
   "id": "c8085c81-fe94-4d0b-a0db-6db1c9cd41b1",
   "metadata": {},
   "outputs": [
    {
     "data": {
      "text/html": [
       "<html>\\(\\displaystyle \\left(0, \\phi - 1\\right)\\)</html>"
      ],
      "text/latex": [
       "$\\displaystyle \\left(0, \\phi - 1\\right)$"
      ],
      "text/plain": [
       "(0, phi - 1)"
      ]
     },
     "execution_count": 16,
     "metadata": {},
     "output_type": "execute_result"
    }
   ],
   "source": [
    "K.<phi> = NumberField(x^3 - x - 1, embedding=RR(2))\n",
    "psi = 1/phi\n",
    "\n",
    "A = matrix([[1, phi, phi^2], [1, -psi]]).transpose()\n",
    "b = vector([1, 1])\n",
    "xs = A.solve_right(b)\n",
    "pivot(xs, 1, 1, *[1]*10)"
   ]
  },
  {
   "cell_type": "code",
   "execution_count": 77,
   "id": "01720014-c65a-46a0-8152-bedb954945ff",
   "metadata": {},
   "outputs": [],
   "source": [
    "def min_pivot(xs, n):\n",
    "    coeffs = []\n",
    "    for _ in range(n):\n",
    "        l = None\n",
    "        for i, xi in enumerate(xs):\n",
    "            if (l is None or frac(xs[l]) > frac(xi)) and frac(xi) != 0:\n",
    "                l = i\n",
    "        if l is None:\n",
    "            break\n",
    "            \n",
    "        xs, c = pivot(xs, l)\n",
    "        coeffs += c\n",
    "    return xs, coeffs"
   ]
  }
 ],
 "metadata": {
  "kernelspec": {
   "display_name": "SageMath 10.5",
   "language": "sage",
   "name": "sagemath"
  },
  "language_info": {
   "codemirror_mode": {
    "name": "ipython",
    "version": 3
   },
   "file_extension": ".py",
   "mimetype": "text/x-python",
   "name": "python",
   "nbconvert_exporter": "python",
   "pygments_lexer": "ipython3",
   "version": "3.13.1"
  }
 },
 "nbformat": 4,
 "nbformat_minor": 5
}
