{
 "cells": [
  {
   "cell_type": "code",
   "execution_count": 1,
   "id": "50144a0e-af61-4b8f-8913-588c30c8f10d",
   "metadata": {},
   "outputs": [],
   "source": [
    "%display latex\n",
    "from utils import *"
   ]
  },
  {
   "cell_type": "markdown",
   "id": "caa40164-ed5f-49fb-b644-b48d4a2446e5",
   "metadata": {},
   "source": [
    "The modified update rule does not use a negative for the other indices.\n",
    "$$\n",
    "  x_i = \n",
    "  \\begin{cases}\n",
    "    \\frac{1}{x_i}, & \\text{ if } i = \\ell, \\\\\n",
    "    \\frac{x_i}{x_\\ell}, & \\text{ otherwise.} \\\\\n",
    "  \\end{cases}\n",
    "$$"
   ]
  },
  {
   "cell_type": "markdown",
   "id": "a07e3823-df27-4e1f-b272-8b213636f355",
   "metadata": {},
   "source": [
    "# Brute-Force Search\n",
    "\n",
    "The brute-force search is done in a breadth-first fashion.\n",
    "We try every list of length $n$ and then every list of length $n + 1$,\n",
    "until we find a period in the representation."
   ]
  },
  {
   "cell_type": "code",
   "execution_count": 2,
   "id": "ddf7622b-688a-4b3a-8110-746ba1afab46",
   "metadata": {},
   "outputs": [],
   "source": [
    "def brute_force(xs, max_depth, exhaustive=False):\n",
    "    indices = [0]\n",
    "    result = None\n",
    "    d = len(xs)\n",
    "    while indices:\n",
    "        init, repeat = get_period(xs, indices[1:])\n",
    "        is_valid = len(repeat) > 0\n",
    "        if is_valid:\n",
    "            if not exhaustive:\n",
    "                return init, repeat\n",
    "            if not result:\n",
    "                result = []\n",
    "            result.append((init, repeat))\n",
    "        indices = increment_nary(indices, d, max_depth + 1)\n",
    "    return result\n",
    "\n",
    "def brute_force_2d(xs, max_depth, exhaustive=False):\n",
    "    \"\"\"\n",
    "    Faster version which uses an integer to determine the pivot sequence\n",
    "    \"\"\"\n",
    "    \n",
    "    def get_indices_list(indices_value):\n",
    "        result = []\n",
    "        while indices_value > 0:\n",
    "            if indices_value & 1 != 0:\n",
    "                result.append(1)\n",
    "            else:\n",
    "                result.append(0)\n",
    "            indices_value >>= 1\n",
    "        return result[:-1]\n",
    "        \n",
    "    indices = 0\n",
    "    result = None\n",
    "    d = len(xs)\n",
    "    while indices < (2 << max_depth):\n",
    "        init, repeat = get_period(xs, get_indices_list(indices))\n",
    "        if repeat:\n",
    "            if not exhaustive:\n",
    "                return init, repeat\n",
    "            if not result:\n",
    "                result = []\n",
    "            result.append((init, repeat))\n",
    "        indices += 1\n",
    "    return result"
   ]
  },
  {
   "cell_type": "markdown",
   "id": "f2ef6d7b-7928-4564-b60c-48d97a99a390",
   "metadata": {},
   "source": [
    "Here is, for example, the period for $\\sqrt[3]{4}$. Notably, this value likely doesn't have a periodic representation in the Jacobi-Perron algorithm. First, the pivots which lead to a period are shown. The period is marked with a line over the pivots. The actual representation of $\\sqrt[3]{4}$ is shown in the next block."
   ]
  },
  {
   "cell_type": "code",
   "execution_count": 3,
   "id": "fbba6175-3f37-4354-b771-e5ada41020eb",
   "metadata": {},
   "outputs": [
    {
     "data": {
      "text/html": [
       "<html>\\(\\displaystyle [0, \\overline{0, 1, 0, 0, 1, 1, 0, 0}]\\)</html>"
      ],
      "text/latex": [
       "$\\displaystyle [0, \\overline{0, 1, 0, 0, 1, 1, 0, 0}]$"
      ],
      "text/plain": [
       "[0, \\overline{0, 1, 0, 0, 1, 1, 0, 0}]"
      ]
     },
     "metadata": {},
     "output_type": "display_data"
    },
    {
     "data": {
      "text/html": [
       "<html>\\(\\displaystyle \\left[\\left(\\left(1, 2\\right), 0\\right), \\left(\\left(1, 2\\right), 0\\right), \\left(\\left(1, 0\\right), 1\\right), \\left(\\left(1, 1\\right), 0\\right), \\left(\\left(1, 3\\right), 0\\right), \\left(\\left(1, 1\\right), 1\\right), \\left(\\left(1, 0\\right), 1\\right), \\left(\\left(1, 1\\right), 0\\right), \\left(\\left(0, 1\\right), 0\\right), \\left(\\left(3, 1\\right), 0\\right), \\left(\\left(1, 0\\right), 1\\right), \\left(\\left(1, 1\\right), 0\\right), \\left(\\left(1, 3\\right), 0\\right), \\left(\\left(1, 1\\right), 1\\right), \\left(\\left(1, 0\\right), 1\\right), \\left(\\left(1, 1\\right), 0\\right), \\left(\\left(0, 1\\right), 0\\right)\\right]\\)</html>"
      ],
      "text/latex": [
       "$\\displaystyle \\left[\\left(\\left(1, 2\\right), 0\\right), \\left(\\left(1, 2\\right), 0\\right), \\left(\\left(1, 0\\right), 1\\right), \\left(\\left(1, 1\\right), 0\\right), \\left(\\left(1, 3\\right), 0\\right), \\left(\\left(1, 1\\right), 1\\right), \\left(\\left(1, 0\\right), 1\\right), \\left(\\left(1, 1\\right), 0\\right), \\left(\\left(0, 1\\right), 0\\right), \\left(\\left(3, 1\\right), 0\\right), \\left(\\left(1, 0\\right), 1\\right), \\left(\\left(1, 1\\right), 0\\right), \\left(\\left(1, 3\\right), 0\\right), \\left(\\left(1, 1\\right), 1\\right), \\left(\\left(1, 0\\right), 1\\right), \\left(\\left(1, 1\\right), 0\\right), \\left(\\left(0, 1\\right), 0\\right)\\right]$"
      ],
      "text/plain": [
       "[((1, 2), 0),\n",
       " ((1, 2), 0),\n",
       " ((1, 0), 1),\n",
       " ((1, 1), 0),\n",
       " ((1, 3), 0),\n",
       " ((1, 1), 1),\n",
       " ((1, 0), 1),\n",
       " ((1, 1), 0),\n",
       " ((0, 1), 0),\n",
       " ((3, 1), 0),\n",
       " ((1, 0), 1),\n",
       " ((1, 1), 0),\n",
       " ((1, 3), 0),\n",
       " ((1, 1), 1),\n",
       " ((1, 0), 1),\n",
       " ((1, 1), 0),\n",
       " ((0, 1), 0)]"
      ]
     },
     "metadata": {},
     "output_type": "display_data"
    },
    {
     "data": {
      "text/html": [
       "<html>\\(\\displaystyle 0.00268102294162853\\)</html>"
      ],
      "text/latex": [
       "$\\displaystyle 0.00268102294162853$"
      ],
      "text/plain": [
       "0.00268102294162853"
      ]
     },
     "metadata": {},
     "output_type": "display_data"
    },
    {
     "data": {
      "text/html": [
       "<html>\\(\\displaystyle 1.58740105196820\\)</html>"
      ],
      "text/latex": [
       "$\\displaystyle 1.58740105196820$"
      ],
      "text/plain": [
       "1.58740105196820"
      ]
     },
     "metadata": {},
     "output_type": "display_data"
    }
   ],
   "source": [
    "d = 2\n",
    "p = x^3 - 4\n",
    "K.<alpha> = NumberField(p, embedding=RR(1))\n",
    "\n",
    "xs = (alpha, alpha^2)\n",
    "init, repeat = brute_force(xs, 15)\n",
    "pretty_print(pretty_continued_fraction(init, repeat))\n",
    "pretty_print(list(zip(list(get_coeffs(xs, init + 2 * repeat)), init + 2 * repeat)))\n",
    "pretty_print(RR(get_decrease(xs, *init, *repeat)))\n",
    "pretty_print(RR(alpha))"
   ]
  },
  {
   "cell_type": "code",
   "execution_count": 13,
   "id": "92a5556d-fea0-4cac-87ab-8b66c16449c1",
   "metadata": {},
   "outputs": [
    {
     "data": {
      "text/html": [
       "<html>\\(\\displaystyle \\left[\\left(1, 2\\right), \\left(1, 2\\right), \\left(1, 0\\right), \\left(1, 1\\right), \\left(1, 3\\right), \\left(1, 1\\right), \\left(1, 0\\right), \\left(1, 1\\right), \\left(0, 1\\right), \\left(3, 1\\right), \\left(1, 0\\right), \\left(1, 1\\right), \\left(1, 3\\right), \\left(1, 1\\right), \\left(1, 0\\right), \\left(1, 1\\right), \\left(0, 1\\right), \\left(3, 1\\right), \\left(1, 0\\right), \\left(1, 1\\right), \\left(1, 3\\right), \\left(1, 1\\right), \\left(1, 0\\right), \\left(1, 1\\right), \\left(0, 1\\right), \\left(3, 1\\right)\\right]\\)</html>"
      ],
      "text/latex": [
       "$\\displaystyle \\left[\\left(1, 2\\right), \\left(1, 2\\right), \\left(1, 0\\right), \\left(1, 1\\right), \\left(1, 3\\right), \\left(1, 1\\right), \\left(1, 0\\right), \\left(1, 1\\right), \\left(0, 1\\right), \\left(3, 1\\right), \\left(1, 0\\right), \\left(1, 1\\right), \\left(1, 3\\right), \\left(1, 1\\right), \\left(1, 0\\right), \\left(1, 1\\right), \\left(0, 1\\right), \\left(3, 1\\right), \\left(1, 0\\right), \\left(1, 1\\right), \\left(1, 3\\right), \\left(1, 1\\right), \\left(1, 0\\right), \\left(1, 1\\right), \\left(0, 1\\right), \\left(3, 1\\right)\\right]$"
      ],
      "text/plain": [
       "[(1, 2),\n",
       " (1, 2),\n",
       " (1, 0),\n",
       " (1, 1),\n",
       " (1, 3),\n",
       " (1, 1),\n",
       " (1, 0),\n",
       " (1, 1),\n",
       " (0, 1),\n",
       " (3, 1),\n",
       " (1, 0),\n",
       " (1, 1),\n",
       " (1, 3),\n",
       " (1, 1),\n",
       " (1, 0),\n",
       " (1, 1),\n",
       " (0, 1),\n",
       " (3, 1),\n",
       " (1, 0),\n",
       " (1, 1),\n",
       " (1, 3),\n",
       " (1, 1),\n",
       " (1, 0),\n",
       " (1, 1),\n",
       " (0, 1),\n",
       " (3, 1)]"
      ]
     },
     "metadata": {},
     "output_type": "display_data"
    },
    {
     "data": {
      "text/html": [
       "<div class=\"notruncate\">\n",
       "<table  class=\"table_form\">\n",
       "<tbody>\n",
       "<tr>\n",
       "<th class=\"ch\"{style_attr}>\\(\\ell\\)</th>\n",
       "<th style=\"text-align:left\"></th>\n",
       "</tr>\n",
       "<tr class =\"row-a\">\n",
       "<td class=\"ch\"{style_attr}>\\(0\\)</td>\n",
       "<td style=\"text-align:left\">\\(\\left[1.5874, 2.5198\\right]\\)</td>\n",
       "<td style=\"text-align:left\">\\(0\\)</td>\n",
       "<td style=\"text-align:left\">\\(\\left[1.7024, 0.885\\right]\\)</td>\n",
       "<td style=\"text-align:left\">\\(2\\)</td>\n",
       "<td style=\"text-align:left\">\\(4\\)</td>\n",
       "<td style=\"text-align:left\">\\(0.4126\\)</td>\n",
       "<td style=\"text-align:left\">\\(1.48016\\)</td>\n",
       "<td style=\"text-align:left\">\\(1\\)</td>\n",
       "<td style=\"text-align:left\">\\(\\left[1.13, 1.9237\\right]\\)</td>\n",
       "<td style=\"text-align:left\">\\(\\frac{3}{2}\\)</td>\n",
       "<td style=\"text-align:left\">\\(\\frac{5}{2}\\)</td>\n",
       "<td style=\"text-align:left\">\\(0.0874\\)</td>\n",
       "<td style=\"text-align:left\">\\(0.01984\\)</td>\n",
       "</tr>\n",
       "<tr class =\"row-b\">\n",
       "<td class=\"ch\"{style_attr}>\\(0\\)</td>\n",
       "<td style=\"text-align:left\">\\(\\left[1.7024, 0.885\\right]\\)</td>\n",
       "<td style=\"text-align:left\">\\(0\\)</td>\n",
       "<td style=\"text-align:left\">\\(\\left[1.4237, 1.2599\\right]\\)</td>\n",
       "<td style=\"text-align:left\">\\(\\frac{3}{2}\\)</td>\n",
       "<td style=\"text-align:left\">\\(3\\)</td>\n",
       "<td style=\"text-align:left\">\\(0.0874\\)</td>\n",
       "<td style=\"text-align:left\">\\(0.48016\\)</td>\n",
       "<td style=\"text-align:left\">\\(1\\)</td>\n",
       "<td style=\"text-align:left\">\\(\\left[0.7937, 1.13\\right]\\)</td>\n",
       "<td style=\"text-align:left\">\\(2\\)</td>\n",
       "<td style=\"text-align:left\">\\(4\\)</td>\n",
       "<td style=\"text-align:left\">\\(0.4126\\)</td>\n",
       "<td style=\"text-align:left\">\\(1.48016\\)</td>\n",
       "</tr>\n",
       "<tr class =\"row-a\">\n",
       "<td class=\"ch\"{style_attr}>\\(1\\)</td>\n",
       "<td style=\"text-align:left\">\\(\\left[1.4237, 1.2599\\right]\\)</td>\n",
       "<td style=\"text-align:left\">\\(0\\)</td>\n",
       "<td style=\"text-align:left\">\\(\\left[2.3604, 0.6135\\right]\\)</td>\n",
       "<td style=\"text-align:left\">\\(\\frac{5}{3}\\)</td>\n",
       "<td style=\"text-align:left\">\\(\\frac{11}{3}\\)</td>\n",
       "<td style=\"text-align:left\">\\(0.07927\\)</td>\n",
       "<td style=\"text-align:left\">\\(1.14682\\)</td>\n",
       "<td style=\"text-align:left\">\\(1\\)</td>\n",
       "<td style=\"text-align:left\">\\(\\left[1.63, 3.8473\\right]\\)</td>\n",
       "<td style=\"text-align:left\">\\(\\frac{5}{3}\\)</td>\n",
       "<td style=\"text-align:left\">\\(\\frac{11}{3}\\)</td>\n",
       "<td style=\"text-align:left\">\\(0.07927\\)</td>\n",
       "<td style=\"text-align:left\">\\(1.14682\\)</td>\n",
       "</tr>\n",
       "<tr class =\"row-b\">\n",
       "<td class=\"ch\"{style_attr}>\\(0\\)</td>\n",
       "<td style=\"text-align:left\">\\(\\left[1.63, 3.8473\\right]\\)</td>\n",
       "<td style=\"text-align:left\">\\(0\\)</td>\n",
       "<td style=\"text-align:left\">\\(\\left[1.5874, 1.345\\right]\\)</td>\n",
       "<td style=\"text-align:left\">\\(\\frac{8}{5}\\)</td>\n",
       "<td style=\"text-align:left\">\\(\\frac{33}{10}\\)</td>\n",
       "<td style=\"text-align:left\">\\(0.0126\\)</td>\n",
       "<td style=\"text-align:left\">\\(0.78016\\)</td>\n",
       "<td style=\"text-align:left\">\\(1\\)</td>\n",
       "<td style=\"text-align:left\">\\(\\left[0.7435, 1.1802\\right]\\)</td>\n",
       "<td style=\"text-align:left\">\\(\\frac{5}{3}\\)</td>\n",
       "<td style=\"text-align:left\">\\(\\frac{43}{12}\\)</td>\n",
       "<td style=\"text-align:left\">\\(0.07927\\)</td>\n",
       "<td style=\"text-align:left\">\\(1.06349\\)</td>\n",
       "</tr>\n",
       "<tr class =\"row-a\">\n",
       "<td class=\"ch\"{style_attr}>\\(0\\)</td>\n",
       "<td style=\"text-align:left\">\\(\\left[1.5874, 1.345\\right]\\)</td>\n",
       "<td style=\"text-align:left\">\\(0\\)</td>\n",
       "<td style=\"text-align:left\">\\(\\left[1.7024, 0.5874\\right]\\)</td>\n",
       "<td style=\"text-align:left\">\\(\\frac{8}{5}\\)</td>\n",
       "<td style=\"text-align:left\">\\(\\frac{10}{3}\\)</td>\n",
       "<td style=\"text-align:left\">\\(0.0126\\)</td>\n",
       "<td style=\"text-align:left\">\\(0.81349\\)</td>\n",
       "<td style=\"text-align:left\">\\(1\\)</td>\n",
       "<td style=\"text-align:left\">\\(\\left[1.7024, 2.8982\\right]\\)</td>\n",
       "<td style=\"text-align:left\">\\(\\frac{8}{5}\\)</td>\n",
       "<td style=\"text-align:left\">\\(\\frac{10}{3}\\)</td>\n",
       "<td style=\"text-align:left\">\\(0.0126\\)</td>\n",
       "<td style=\"text-align:left\">\\(0.81349\\)</td>\n",
       "</tr>\n",
       "<tr class =\"row-b\">\n",
       "<td class=\"ch\"{style_attr}>\\(1\\)</td>\n",
       "<td style=\"text-align:left\">\\(\\left[1.7024, 0.5874\\right]\\)</td>\n",
       "<td style=\"text-align:left\">\\(0\\)</td>\n",
       "<td style=\"text-align:left\">\\(\\left[1.4237, 0.8363\\right]\\)</td>\n",
       "<td style=\"text-align:left\">\\(\\frac{8}{5}\\)</td>\n",
       "<td style=\"text-align:left\">\\(\\frac{83}{25}\\)</td>\n",
       "<td style=\"text-align:left\">\\(0.0126\\)</td>\n",
       "<td style=\"text-align:left\">\\(0.80016\\)</td>\n",
       "<td style=\"text-align:left\">\\(1\\)</td>\n",
       "<td style=\"text-align:left\">\\(\\left[1.1958, 1.7024\\right]\\)</td>\n",
       "<td style=\"text-align:left\">\\(\\frac{8}{5}\\)</td>\n",
       "<td style=\"text-align:left\">\\(\\frac{10}{3}\\)</td>\n",
       "<td style=\"text-align:left\">\\(0.0126\\)</td>\n",
       "<td style=\"text-align:left\">\\(0.81349\\)</td>\n",
       "</tr>\n",
       "<tr class =\"row-a\">\n",
       "<td class=\"ch\"{style_attr}>\\(1\\)</td>\n",
       "<td style=\"text-align:left\">\\(\\left[1.1958, 1.7024\\right]\\)</td>\n",
       "<td style=\"text-align:left\">\\(0\\)</td>\n",
       "<td style=\"text-align:left\">\\(\\left[5.1072, 3.5874\\right]\\)</td>\n",
       "<td style=\"text-align:left\">\\(\\frac{59}{37}\\)</td>\n",
       "<td style=\"text-align:left\">\\(\\frac{122}{37}\\)</td>\n",
       "<td style=\"text-align:left\">\\(0.00719\\)</td>\n",
       "<td style=\"text-align:left\">\\(0.77746\\)</td>\n",
       "<td style=\"text-align:left\">\\(1\\)</td>\n",
       "<td style=\"text-align:left\">\\(\\left[0.2788, 1.4237\\right]\\)</td>\n",
       "<td style=\"text-align:left\">\\(\\frac{59}{37}\\)</td>\n",
       "<td style=\"text-align:left\">\\(\\frac{122}{37}\\)</td>\n",
       "<td style=\"text-align:left\">\\(0.00719\\)</td>\n",
       "<td style=\"text-align:left\">\\(0.77746\\)</td>\n",
       "</tr>\n",
       "<tr class =\"row-b\">\n",
       "<td class=\"ch\"{style_attr}>\\(0\\)</td>\n",
       "<td style=\"text-align:left\">\\(\\left[0.2788, 1.4237\\right]\\)</td>\n",
       "<td style=\"text-align:left\">\\(0\\)</td>\n",
       "<td style=\"text-align:left\">\\(\\left[3.5874, 1.5198\\right]\\)</td>\n",
       "<td style=\"text-align:left\">\\(\\frac{59}{37}\\)</td>\n",
       "<td style=\"text-align:left\">\\(\\frac{122}{37}\\)</td>\n",
       "<td style=\"text-align:left\">\\(0.00719\\)</td>\n",
       "<td style=\"text-align:left\">\\(0.77746\\)</td>\n",
       "<td style=\"text-align:left\">\\(1\\)</td>\n",
       "<td style=\"text-align:left\">\\(\\left[0.658, 2.3604\\right]\\)</td>\n",
       "<td style=\"text-align:left\">\\(\\frac{78}{49}\\)</td>\n",
       "<td style=\"text-align:left\">\\(\\frac{23}{7}\\)</td>\n",
       "<td style=\"text-align:left\">\\(0.00444\\)</td>\n",
       "<td style=\"text-align:left\">\\(0.76587\\)</td>\n",
       "</tr>\n",
       "<tr class =\"row-a\">\n",
       "<td class=\"ch\"{style_attr}>\\(0\\)</td>\n",
       "<td style=\"text-align:left\">\\(\\left[3.5874, 1.5198\\right]\\)</td>\n",
       "<td style=\"text-align:left\">\\(0\\)</td>\n",
       "<td style=\"text-align:left\">\\(\\left[1.7024, 0.885\\right]\\)</td>\n",
       "<td style=\"text-align:left\">\\(\\frac{183}{115}\\)</td>\n",
       "<td style=\"text-align:left\">\\(\\frac{377}{115}\\)</td>\n",
       "<td style=\"text-align:left\">\\(0.0039\\)</td>\n",
       "<td style=\"text-align:left\">\\(0.75842\\)</td>\n",
       "<td style=\"text-align:left\">\\(1\\)</td>\n",
       "<td style=\"text-align:left\">\\(\\left[1.13, 1.9237\\right]\\)</td>\n",
       "<td style=\"text-align:left\">\\(\\frac{231}{145}\\)</td>\n",
       "<td style=\"text-align:left\">\\(\\frac{477}{145}\\)</td>\n",
       "<td style=\"text-align:left\">\\(0.0057\\)</td>\n",
       "<td style=\"text-align:left\">\\(0.76981\\)</td>\n",
       "</tr>\n",
       "<tr class =\"row-b\">\n",
       "<td class=\"ch\"{style_attr}>\\(0\\)</td>\n",
       "<td style=\"text-align:left\">\\(\\left[1.7024, 0.885\\right]\\)</td>\n",
       "<td style=\"text-align:left\">\\(0\\)</td>\n",
       "<td style=\"text-align:left\">\\(\\left[1.4237, 1.2599\\right]\\)</td>\n",
       "<td style=\"text-align:left\">\\(\\frac{218}{137}\\)</td>\n",
       "<td style=\"text-align:left\">\\(\\frac{449}{137}\\)</td>\n",
       "<td style=\"text-align:left\">\\(0.00384\\)</td>\n",
       "<td style=\"text-align:left\">\\(0.75753\\)</td>\n",
       "<td style=\"text-align:left\">\\(1\\)</td>\n",
       "<td style=\"text-align:left\">\\(\\left[0.7937, 1.13\\right]\\)</td>\n",
       "<td style=\"text-align:left\">\\(\\frac{183}{115}\\)</td>\n",
       "<td style=\"text-align:left\">\\(\\frac{377}{115}\\)</td>\n",
       "<td style=\"text-align:left\">\\(0.0039\\)</td>\n",
       "<td style=\"text-align:left\">\\(0.75842\\)</td>\n",
       "</tr>\n",
       "<tr class =\"row-a\">\n",
       "<td class=\"ch\"{style_attr}>\\(1\\)</td>\n",
       "<td style=\"text-align:left\">\\(\\left[1.4237, 1.2599\\right]\\)</td>\n",
       "<td style=\"text-align:left\">\\(0\\)</td>\n",
       "<td style=\"text-align:left\">\\(\\left[2.3604, 0.6135\\right]\\)</td>\n",
       "<td style=\"text-align:left\">\\(\\frac{35}{22}\\)</td>\n",
       "<td style=\"text-align:left\">\\(\\frac{865}{264}\\)</td>\n",
       "<td style=\"text-align:left\">\\(0.00351\\)</td>\n",
       "<td style=\"text-align:left\">\\(0.75667\\)</td>\n",
       "<td style=\"text-align:left\">\\(1\\)</td>\n",
       "<td style=\"text-align:left\">\\(\\left[1.63, 3.8473\\right]\\)</td>\n",
       "<td style=\"text-align:left\">\\(\\frac{35}{22}\\)</td>\n",
       "<td style=\"text-align:left\">\\(\\frac{865}{264}\\)</td>\n",
       "<td style=\"text-align:left\">\\(0.00351\\)</td>\n",
       "<td style=\"text-align:left\">\\(0.75667\\)</td>\n",
       "</tr>\n",
       "<tr class =\"row-b\">\n",
       "<td class=\"ch\"{style_attr}>\\(0\\)</td>\n",
       "<td style=\"text-align:left\">\\(\\left[1.63, 3.8473\\right]\\)</td>\n",
       "<td style=\"text-align:left\">\\(0\\)</td>\n",
       "<td style=\"text-align:left\">\\(\\left[1.5874, 1.345\\right]\\)</td>\n",
       "<td style=\"text-align:left\">\\(\\frac{1257}{790}\\)</td>\n",
       "<td style=\"text-align:left\">\\(\\frac{2589}{790}\\)</td>\n",
       "<td style=\"text-align:left\">\\(0.00374\\)</td>\n",
       "<td style=\"text-align:left\">\\(0.75737\\)</td>\n",
       "<td style=\"text-align:left\">\\(1\\)</td>\n",
       "<td style=\"text-align:left\">\\(\\left[0.7435, 1.1802\\right]\\)</td>\n",
       "<td style=\"text-align:left\">\\(\\frac{1661}{1044}\\)</td>\n",
       "<td style=\"text-align:left\">\\(\\frac{3421}{1044}\\)</td>\n",
       "<td style=\"text-align:left\">\\(0.0036\\)</td>\n",
       "<td style=\"text-align:left\">\\(0.75698\\)</td>\n",
       "</tr>\n",
       "<tr class =\"row-a\">\n",
       "<td class=\"ch\"{style_attr}>\\(0\\)</td>\n",
       "<td style=\"text-align:left\">\\(\\left[1.5874, 1.345\\right]\\)</td>\n",
       "<td style=\"text-align:left\">\\(0\\)</td>\n",
       "<td style=\"text-align:left\">\\(\\left[1.7024, 0.5874\\right]\\)</td>\n",
       "<td style=\"text-align:left\">\\(\\frac{1895}{1191}\\)</td>\n",
       "<td style=\"text-align:left\">\\(\\frac{1301}{397}\\)</td>\n",
       "<td style=\"text-align:left\">\\(0.0037\\)</td>\n",
       "<td style=\"text-align:left\">\\(0.75724\\)</td>\n",
       "<td style=\"text-align:left\">\\(1\\)</td>\n",
       "<td style=\"text-align:left\">\\(\\left[1.7024, 2.8982\\right]\\)</td>\n",
       "<td style=\"text-align:left\">\\(\\frac{1895}{1191}\\)</td>\n",
       "<td style=\"text-align:left\">\\(\\frac{1301}{397}\\)</td>\n",
       "<td style=\"text-align:left\">\\(0.0037\\)</td>\n",
       "<td style=\"text-align:left\">\\(0.75724\\)</td>\n",
       "</tr>\n",
       "<tr class =\"row-b\">\n",
       "<td class=\"ch\"{style_attr}>\\(1\\)</td>\n",
       "<td style=\"text-align:left\">\\(\\left[1.7024, 0.5874\\right]\\)</td>\n",
       "<td style=\"text-align:left\">\\(0\\)</td>\n",
       "<td style=\"text-align:left\">\\(\\left[1.4237, 0.8363\\right]\\)</td>\n",
       "<td style=\"text-align:left\">\\(\\frac{3152}{1981}\\)</td>\n",
       "<td style=\"text-align:left\">\\(\\frac{6492}{1981}\\)</td>\n",
       "<td style=\"text-align:left\">\\(0.00371\\)</td>\n",
       "<td style=\"text-align:left\">\\(0.75729\\)</td>\n",
       "<td style=\"text-align:left\">\\(1\\)</td>\n",
       "<td style=\"text-align:left\">\\(\\left[1.1958, 1.7024\\right]\\)</td>\n",
       "<td style=\"text-align:left\">\\(\\frac{1895}{1191}\\)</td>\n",
       "<td style=\"text-align:left\">\\(\\frac{1301}{397}\\)</td>\n",
       "<td style=\"text-align:left\">\\(0.0037\\)</td>\n",
       "<td style=\"text-align:left\">\\(0.75724\\)</td>\n",
       "</tr>\n",
       "<tr class =\"row-a\">\n",
       "<td class=\"ch\"{style_attr}>\\(1\\)</td>\n",
       "<td style=\"text-align:left\">\\(\\left[1.1958, 1.7024\\right]\\)</td>\n",
       "<td style=\"text-align:left\">\\(0\\)</td>\n",
       "<td style=\"text-align:left\">\\(\\left[5.1072, 3.5874\\right]\\)</td>\n",
       "<td style=\"text-align:left\">\\(\\frac{4627}{2908}\\)</td>\n",
       "<td style=\"text-align:left\">\\(\\frac{4765}{1454}\\)</td>\n",
       "<td style=\"text-align:left\">\\(0.00373\\)</td>\n",
       "<td style=\"text-align:left\">\\(0.75732\\)</td>\n",
       "<td style=\"text-align:left\">\\(1\\)</td>\n",
       "<td style=\"text-align:left\">\\(\\left[0.2788, 1.4237\\right]\\)</td>\n",
       "<td style=\"text-align:left\">\\(\\frac{4627}{2908}\\)</td>\n",
       "<td style=\"text-align:left\">\\(\\frac{4765}{1454}\\)</td>\n",
       "<td style=\"text-align:left\">\\(0.00373\\)</td>\n",
       "<td style=\"text-align:left\">\\(0.75732\\)</td>\n",
       "</tr>\n",
       "<tr class =\"row-b\">\n",
       "<td class=\"ch\"{style_attr}>\\(0\\)</td>\n",
       "<td style=\"text-align:left\">\\(\\left[0.2788, 1.4237\\right]\\)</td>\n",
       "<td style=\"text-align:left\">\\(0\\)</td>\n",
       "<td style=\"text-align:left\">\\(\\left[3.5874, 1.5198\\right]\\)</td>\n",
       "<td style=\"text-align:left\">\\(\\frac{4627}{2908}\\)</td>\n",
       "<td style=\"text-align:left\">\\(\\frac{4765}{1454}\\)</td>\n",
       "<td style=\"text-align:left\">\\(0.00373\\)</td>\n",
       "<td style=\"text-align:left\">\\(0.75732\\)</td>\n",
       "<td style=\"text-align:left\">\\(1\\)</td>\n",
       "<td style=\"text-align:left\">\\(\\left[0.658, 2.3604\\right]\\)</td>\n",
       "<td style=\"text-align:left\">\\(\\frac{6102}{3835}\\)</td>\n",
       "<td style=\"text-align:left\">\\(\\frac{12568}{3835}\\)</td>\n",
       "<td style=\"text-align:left\">\\(0.00373\\)</td>\n",
       "<td style=\"text-align:left\">\\(0.75734\\)</td>\n",
       "</tr>\n",
       "<tr class =\"row-a\">\n",
       "<td class=\"ch\"{style_attr}>\\(0\\)</td>\n",
       "<td style=\"text-align:left\">\\(\\left[3.5874, 1.5198\\right]\\)</td>\n",
       "<td style=\"text-align:left\">\\(0\\)</td>\n",
       "<td style=\"text-align:left\">\\(\\left[1.7024, 0.885\\right]\\)</td>\n",
       "<td style=\"text-align:left\">\\(\\frac{7149}{4493}\\)</td>\n",
       "<td style=\"text-align:left\">\\(\\frac{29449}{8986}\\)</td>\n",
       "<td style=\"text-align:left\">\\(0.00374\\)</td>\n",
       "<td style=\"text-align:left\">\\(0.75737\\)</td>\n",
       "<td style=\"text-align:left\">\\(1\\)</td>\n",
       "<td style=\"text-align:left\">\\(\\left[1.13, 1.9237\\right]\\)</td>\n",
       "<td style=\"text-align:left\">\\(\\frac{323}{203}\\)</td>\n",
       "<td style=\"text-align:left\">\\(\\frac{37255}{11368}\\)</td>\n",
       "<td style=\"text-align:left\">\\(0.00373\\)</td>\n",
       "<td style=\"text-align:left\">\\(0.75734\\)</td>\n",
       "</tr>\n",
       "<tr class =\"row-b\">\n",
       "<td class=\"ch\"{style_attr}>\\(0\\)</td>\n",
       "<td style=\"text-align:left\">\\(\\left[1.7024, 0.885\\right]\\)</td>\n",
       "<td style=\"text-align:left\">\\(0\\)</td>\n",
       "<td style=\"text-align:left\">\\(\\left[1.4237, 1.2599\\right]\\)</td>\n",
       "<td style=\"text-align:left\">\\(\\frac{17030}{10703}\\)</td>\n",
       "<td style=\"text-align:left\">\\(\\frac{35076}{10703}\\)</td>\n",
       "<td style=\"text-align:left\">\\(0.00374\\)</td>\n",
       "<td style=\"text-align:left\">\\(0.75737\\)</td>\n",
       "<td style=\"text-align:left\">\\(1\\)</td>\n",
       "<td style=\"text-align:left\">\\(\\left[0.7937, 1.13\\right]\\)</td>\n",
       "<td style=\"text-align:left\">\\(\\frac{7149}{4493}\\)</td>\n",
       "<td style=\"text-align:left\">\\(\\frac{29449}{8986}\\)</td>\n",
       "<td style=\"text-align:left\">\\(0.00374\\)</td>\n",
       "<td style=\"text-align:left\">\\(0.75737\\)</td>\n",
       "</tr>\n",
       "<tr class =\"row-a\">\n",
       "<td class=\"ch\"{style_attr}>\\(1\\)</td>\n",
       "<td style=\"text-align:left\">\\(\\left[1.4237, 1.2599\\right]\\)</td>\n",
       "<td style=\"text-align:left\">\\(0\\)</td>\n",
       "<td style=\"text-align:left\">\\(\\left[2.3604, 0.6135\\right]\\)</td>\n",
       "<td style=\"text-align:left\">\\(\\frac{32803}{20616}\\)</td>\n",
       "<td style=\"text-align:left\">\\(\\frac{22521}{6872}\\)</td>\n",
       "<td style=\"text-align:left\">\\(0.00374\\)</td>\n",
       "<td style=\"text-align:left\">\\(0.75737\\)</td>\n",
       "<td style=\"text-align:left\">\\(1\\)</td>\n",
       "<td style=\"text-align:left\">\\(\\left[1.63, 3.8473\\right]\\)</td>\n",
       "<td style=\"text-align:left\">\\(\\frac{32803}{20616}\\)</td>\n",
       "<td style=\"text-align:left\">\\(\\frac{22521}{6872}\\)</td>\n",
       "<td style=\"text-align:left\">\\(0.00374\\)</td>\n",
       "<td style=\"text-align:left\">\\(0.75737\\)</td>\n",
       "</tr>\n",
       "<tr class =\"row-b\">\n",
       "<td class=\"ch\"{style_attr}>\\(0\\)</td>\n",
       "<td style=\"text-align:left\">\\(\\left[1.63, 3.8473\\right]\\)</td>\n",
       "<td style=\"text-align:left\">\\(0\\)</td>\n",
       "<td style=\"text-align:left\">\\(\\left[1.5874, 1.345\\right]\\)</td>\n",
       "<td style=\"text-align:left\">\\(\\frac{98191}{61711}\\)</td>\n",
       "<td style=\"text-align:left\">\\(\\frac{202240}{61711}\\)</td>\n",
       "<td style=\"text-align:left\">\\(0.00374\\)</td>\n",
       "<td style=\"text-align:left\">\\(0.75737\\)</td>\n",
       "<td style=\"text-align:left\">\\(1\\)</td>\n",
       "<td style=\"text-align:left\">\\(\\left[0.7435, 1.1802\\right]\\)</td>\n",
       "<td style=\"text-align:left\">\\(\\frac{129737}{81537}\\)</td>\n",
       "<td style=\"text-align:left\">\\(\\frac{267214}{81537}\\)</td>\n",
       "<td style=\"text-align:left\">\\(0.00374\\)</td>\n",
       "<td style=\"text-align:left\">\\(0.75737\\)</td>\n",
       "</tr>\n",
       "<tr class =\"row-a\">\n",
       "<td class=\"ch\"{style_attr}>\\(0\\)</td>\n",
       "<td style=\"text-align:left\">\\(\\left[1.5874, 1.345\\right]\\)</td>\n",
       "<td style=\"text-align:left\">\\(0\\)</td>\n",
       "<td style=\"text-align:left\">\\(\\left[1.7024, 0.5874\\right]\\)</td>\n",
       "<td style=\"text-align:left\">\\(\\frac{74012}{46515}\\)</td>\n",
       "<td style=\"text-align:left\">\\(\\frac{304879}{93030}\\)</td>\n",
       "<td style=\"text-align:left\">\\(0.00374\\)</td>\n",
       "<td style=\"text-align:left\">\\(0.75737\\)</td>\n",
       "<td style=\"text-align:left\">\\(1\\)</td>\n",
       "<td style=\"text-align:left\">\\(\\left[1.7024, 2.8982\\right]\\)</td>\n",
       "<td style=\"text-align:left\">\\(\\frac{74012}{46515}\\)</td>\n",
       "<td style=\"text-align:left\">\\(\\frac{304879}{93030}\\)</td>\n",
       "<td style=\"text-align:left\">\\(0.00374\\)</td>\n",
       "<td style=\"text-align:left\">\\(0.75737\\)</td>\n",
       "</tr>\n",
       "<tr class =\"row-b\">\n",
       "<td class=\"ch\"{style_attr}>\\(1\\)</td>\n",
       "<td style=\"text-align:left\">\\(\\left[1.7024, 0.5874\\right]\\)</td>\n",
       "<td style=\"text-align:left\">\\(0\\)</td>\n",
       "<td style=\"text-align:left\">\\(\\left[1.4237, 0.8363\\right]\\)</td>\n",
       "<td style=\"text-align:left\">\\(\\frac{246215}{154741}\\)</td>\n",
       "<td style=\"text-align:left\">\\(\\frac{507119}{154741}\\)</td>\n",
       "<td style=\"text-align:left\">\\(0.00374\\)</td>\n",
       "<td style=\"text-align:left\">\\(0.75737\\)</td>\n",
       "<td style=\"text-align:left\">\\(1\\)</td>\n",
       "<td style=\"text-align:left\">\\(\\left[1.1958, 1.7024\\right]\\)</td>\n",
       "<td style=\"text-align:left\">\\(\\frac{74012}{46515}\\)</td>\n",
       "<td style=\"text-align:left\">\\(\\frac{304879}{93030}\\)</td>\n",
       "<td style=\"text-align:left\">\\(0.00374\\)</td>\n",
       "<td style=\"text-align:left\">\\(0.75737\\)</td>\n",
       "</tr>\n",
       "<tr class =\"row-a\">\n",
       "<td class=\"ch\"{style_attr}>\\(1\\)</td>\n",
       "<td style=\"text-align:left\">\\(\\left[1.1958, 1.7024\\right]\\)</td>\n",
       "<td style=\"text-align:left\">\\(0\\)</td>\n",
       "<td style=\"text-align:left\">\\(\\left[5.1072, 3.5874\\right]\\)</td>\n",
       "<td style=\"text-align:left\">\\(\\frac{361436}{227155}\\)</td>\n",
       "<td style=\"text-align:left\">\\(\\frac{148887}{45431}\\)</td>\n",
       "<td style=\"text-align:left\">\\(0.00374\\)</td>\n",
       "<td style=\"text-align:left\">\\(0.75737\\)</td>\n",
       "<td style=\"text-align:left\">\\(1\\)</td>\n",
       "<td style=\"text-align:left\">\\(\\left[0.2788, 1.4237\\right]\\)</td>\n",
       "<td style=\"text-align:left\">\\(\\frac{361436}{227155}\\)</td>\n",
       "<td style=\"text-align:left\">\\(\\frac{148887}{45431}\\)</td>\n",
       "<td style=\"text-align:left\">\\(0.00374\\)</td>\n",
       "<td style=\"text-align:left\">\\(0.75737\\)</td>\n",
       "</tr>\n",
       "<tr class =\"row-b\">\n",
       "<td class=\"ch\"{style_attr}>\\(0\\)</td>\n",
       "<td style=\"text-align:left\">\\(\\left[0.2788, 1.4237\\right]\\)</td>\n",
       "<td style=\"text-align:left\">\\(0\\)</td>\n",
       "<td style=\"text-align:left\">\\(\\left[3.5874, 1.5198\\right]\\)</td>\n",
       "<td style=\"text-align:left\">\\(\\frac{361436}{227155}\\)</td>\n",
       "<td style=\"text-align:left\">\\(\\frac{148887}{45431}\\)</td>\n",
       "<td style=\"text-align:left\">\\(0.00374\\)</td>\n",
       "<td style=\"text-align:left\">\\(0.75737\\)</td>\n",
       "<td style=\"text-align:left\">\\(1\\)</td>\n",
       "<td style=\"text-align:left\">\\(\\left[0.658, 2.3604\\right]\\)</td>\n",
       "<td style=\"text-align:left\">\\(\\frac{476657}{299569}\\)</td>\n",
       "<td style=\"text-align:left\">\\(\\frac{981751}{299569}\\)</td>\n",
       "<td style=\"text-align:left\">\\(0.00374\\)</td>\n",
       "<td style=\"text-align:left\">\\(0.75737\\)</td>\n",
       "</tr>\n",
       "<tr class =\"row-a\">\n",
       "<td class=\"ch\"{style_attr}>\\(0\\)</td>\n",
       "<td style=\"text-align:left\">\\(\\left[3.5874, 1.5198\\right]\\)</td>\n",
       "<td style=\"text-align:left\">\\(0\\)</td>\n",
       "<td style=\"text-align:left\">\\(\\left[1.7024, 0.885\\right]\\)</td>\n",
       "<td style=\"text-align:left\">\\(\\frac{1116893}{701944}\\)</td>\n",
       "<td style=\"text-align:left\">\\(\\frac{2300419}{701944}\\)</td>\n",
       "<td style=\"text-align:left\">\\(0.00374\\)</td>\n",
       "<td style=\"text-align:left\">\\(0.75737\\)</td>\n",
       "<td style=\"text-align:left\">\\(1\\)</td>\n",
       "<td style=\"text-align:left\">\\(\\left[1.13, 1.9237\\right]\\)</td>\n",
       "<td style=\"text-align:left\">\\(\\frac{1412941}{888004}\\)</td>\n",
       "<td style=\"text-align:left\">\\(\\frac{2910177}{888004}\\)</td>\n",
       "<td style=\"text-align:left\">\\(0.00374\\)</td>\n",
       "<td style=\"text-align:left\">\\(0.75737\\)</td>\n",
       "</tr>\n",
       "</tbody>\n",
       "</table>\n",
       "</div>"
      ],
      "text/plain": [
       "  $\\ell$ │\n",
       "├────────┼──────────────────┤\n",
       "  0      │ [1.5874, 2.5198]\n",
       "  0      │ [1.7024, 0.885]\n",
       "  1      │ [1.4237, 1.2599]\n",
       "  0      │ [1.63, 3.8473]\n",
       "  0      │ [1.5874, 1.345]\n",
       "  1      │ [1.7024, 0.5874]\n",
       "  1      │ [1.1958, 1.7024]\n",
       "  0      │ [0.2788, 1.4237]\n",
       "  0      │ [3.5874, 1.5198]\n",
       "  0      │ [1.7024, 0.885]\n",
       "  1      │ [1.4237, 1.2599]\n",
       "  0      │ [1.63, 3.8473]\n",
       "  0      │ [1.5874, 1.345]\n",
       "  1      │ [1.7024, 0.5874]\n",
       "  1      │ [1.1958, 1.7024]\n",
       "  0      │ [0.2788, 1.4237]\n",
       "  0      │ [3.5874, 1.5198]\n",
       "  0      │ [1.7024, 0.885]\n",
       "  1      │ [1.4237, 1.2599]\n",
       "  0      │ [1.63, 3.8473]\n",
       "  0      │ [1.5874, 1.345]\n",
       "  1      │ [1.7024, 0.5874]\n",
       "  1      │ [1.1958, 1.7024]\n",
       "  0      │ [0.2788, 1.4237]\n",
       "  0      │ [3.5874, 1.5198]"
      ]
     },
     "execution_count": 13,
     "metadata": {},
     "output_type": "execute_result"
    }
   ],
   "source": [
    "from utils import *\n",
    "\n",
    "xs = (alpha, alpha^2)\n",
    "indices = init + 3 * repeat\n",
    "coeffs = list(get_coeffs(xs, indices))\n",
    "pretty_print(coeffs)\n",
    "\n",
    "rows = []\n",
    "for i in range(len(indices)):\n",
    "    row = [real_list(pivot(xs, *indices[:i]))]\n",
    "    for l in range(d):\n",
    "        conv = get_convergent(xs, indices[:i] + [l])\n",
    "        row += [l, real_list(pivot(xs, *indices[:i], l)), *conv]\n",
    "        row += [round(abs(xi - yi), 5) for xi, yi in zip(xs, conv)]\n",
    "    rows.append(row)\n",
    "\n",
    "table(rows, header_column=[r'$\\ell$']+indices, header_row=[''])"
   ]
  },
  {
   "cell_type": "markdown",
   "id": "646adc8e-aad5-47fd-bbdf-041a69944039",
   "metadata": {},
   "source": [
    "periodic_pivot_table(xs, init, repeat)"
   ]
  },
  {
   "cell_type": "code",
   "execution_count": null,
   "id": "ed825ba0-aff1-448c-9173-69d6cf2bcf8f",
   "metadata": {},
   "outputs": [],
   "source": [
    "ys = xs\n",
    "rows = []\n",
    "for i in init + repeat:\n",
    "    def f(zs):\n",
    "        return frac(prod([z**d for z in zs]))\n",
    "    choices = [pivot(ys, l)[0] for l in range(d)]\n",
    "    row = [zs for l, zs in enumerate(choices)]\n",
    "    rows.append([i, *ys] + real_list(flatten(row)) + flatten(row))\n",
    "    ys, _ = pivot(ys, i)\n",
    "\n",
    "table(rows)"
   ]
  },
  {
   "cell_type": "markdown",
   "id": "5fb1d8d0-0987-4582-a52b-bdff315792a6",
   "metadata": {},
   "source": [
    "Period lengths for the first 28 numbers:"
   ]
  },
  {
   "cell_type": "code",
   "execution_count": null,
   "id": "490e9a6a-77a6-4b5e-aceb-96d132c32903",
   "metadata": {},
   "outputs": [],
   "source": [
    "for i in range(2, 20):\n",
    "    try:\n",
    "        K.<alpha> = NumberField(x^(d+1) - i, embedding=RR(1))\n",
    "        xs = tuple(sum(alpha^j for j in range(1, i + 1)) for i in range(1, d + 1))\n",
    "        init, repeat = brute_force(xs, 20)[0]\n",
    "        print(i, len(repeat))\n",
    "    except KeyboardInterrupt:\n",
    "        break\n",
    "    except:\n",
    "        pass"
   ]
  },
  {
   "cell_type": "code",
   "execution_count": 59,
   "id": "e777ed28-a310-4b88-be28-c0a301a16d96",
   "metadata": {},
   "outputs": [
    {
     "data": {
      "text/html": [
       "<html>\\(\\displaystyle \\left(\\alpha + 1\\right)\\)</html>"
      ],
      "text/latex": [
       "$\\displaystyle \\left(\\alpha + 1\\right)$"
      ],
      "text/plain": [
       "(alpha + 1,)"
      ]
     },
     "execution_count": 59,
     "metadata": {},
     "output_type": "execute_result"
    }
   ],
   "source": [
    "K.<alpha> = NumberField(x^2 - 2, embedding=RR(1))\n",
    "pivot((alpha,), 0, 0, 0, 0, 0, 0)"
   ]
  },
  {
   "cell_type": "markdown",
   "id": "ad710f83-b928-4a70-af19-3150f02db372",
   "metadata": {},
   "source": [
    "# Geometric Interpretation of the Continued Fractions"
   ]
  },
  {
   "cell_type": "code",
   "execution_count": null,
   "id": "9ce96f5b-613a-4021-8441-43d4858361cb",
   "metadata": {},
   "outputs": [],
   "source": [
    "plot_size = 20\n",
    "\n",
    "alpha = sqrt(7)\n",
    "cf = continued_fraction(alpha)\n",
    "terms = [cf[:i+1].value() for i in range(40)]\n",
    "points = [(term.denominator(), term.numerator()) for term in terms]\n",
    "\n",
    "basis = [(0, 1), (1, 0)]\n",
    "points_even = [basis[1]] + points[0::2]\n",
    "points_odd = [basis[0]] + points[1::2]\n",
    "diff = basis + [(a[0] - b[0], a[1] - b[1]) for a, b in zip(points, points[1:])]\n",
    "\n",
    "lattice = point([(x, y) for x in range(plot_size + 1) for y in range(plot_size + 1)], color='gray')\n",
    "scene = [\n",
    "    lattice,\n",
    "    arrow((0, 0), (1, alpha), color='red'),\n",
    "    plot(alpha * x, (x, 0, 10), color='red'),\n",
    "    sum(arrow((0, 0), b, color='blue') for b in basis),\n",
    "    point(points_odd, color='red'),\n",
    "    line(points_odd, color='red'),\n",
    "    point(points_even, color='blue'),\n",
    "    line(points_even, color='blue'),\n",
    "]\n",
    "\n",
    "pretty_print(cf)\n",
    "pretty_print([abs(det(matrix([odd, even]))) for even, odd in zip(diff[:], diff[1:])])\n",
    "show(sum(scene), xmin=-0.5, xmax=plot_size, ymin=-0.5, ymax=plot_size)"
   ]
  },
  {
   "cell_type": "code",
   "execution_count": null,
   "id": "2f90200a-8bd2-4f7c-a9b3-209d9824c44b",
   "metadata": {},
   "outputs": [],
   "source": [
    "plot_size = 10\n",
    "\n",
    "alpha = sqrt(5)\n",
    "cf = continued_fraction(alpha)\n",
    "terms = [cf[:i+1].value() for i in range(40)]\n",
    "points = [(term.denominator(), term.numerator()) for term in terms]\n",
    "\n",
    "basis = [(0, 1), (1, 0)]\n",
    "points_even = [basis[1]] + points[0::2]\n",
    "points_odd = [basis[0]] + points[1::2]\n",
    "\n",
    "lattice = point([(x, y) for x in range(plot_size + 1) for y in range(plot_size + 1)], color='gray')\n",
    "lattice2 = point([(x, y * alpha) for x in range(plot_size + 1) for y in range(plot_size + 1)], color='red')\n",
    "scene = [\n",
    "    lattice,\n",
    "    #lattice2,\n",
    "    arrow((0, 0), (1, alpha), color='red'),\n",
    "    plot(x * alpha, (x, 0, 10), color='red'),\n",
    "    sum(arrow((0, 0), b, color='blue') for b in basis),\n",
    "    implicit_plot(x^2 - (1/alpha * y)^2 == 1, (x, 0, plot_size), (y, 0, plot_size)),\n",
    "    implicit_plot(-x^2 + (1/alpha * y)^2 == 1, (x, 0, plot_size), (y, 0, plot_size)),\n",
    "]\n",
    "\n",
    "pretty_print(cf)\n",
    "show(sum(scene), xmin=-0.5, xmax=plot_size, ymin=-0.5, ymax=plot_size, gridlines=1/2)"
   ]
  },
  {
   "cell_type": "code",
   "execution_count": null,
   "id": "d870ef8f-43ce-417f-bfc2-4552569936e3",
   "metadata": {},
   "outputs": [],
   "source": [
    "x, y = var('x, y')\n",
    "\n",
    "show(lattice + implicit_plot(sqrt(1/2*(x^2 - 1)) == y, (x, 0, 10), (y, 0, 10)),\n",
    "     xmin=-5, ymin=-5, xmax=5, ymax=5)"
   ]
  },
  {
   "cell_type": "code",
   "execution_count": null,
   "id": "24e1c6f7-a485-4eac-870f-d76101a739b8",
   "metadata": {},
   "outputs": [],
   "source": []
  },
  {
   "cell_type": "code",
   "execution_count": null,
   "id": "05b3b004-37f4-47ee-9d43-db32b6149cff",
   "metadata": {},
   "outputs": [],
   "source": [
    "def pivot_poly(p, *zs):\n",
    "    C, B, A = p.list()\n",
    "    for z in zs:\n",
    "        A, B, C = A*z^2 + B*z + C, 2*A*z + B, A\n",
    "    return A*x^2 + B*x + C\n",
    "\n",
    "p = pivot_poly(x^2 - 2, 1, 2, 2, 2, 2, 2, 2, 2, 2, 2, 2, 2, 2)\n",
    "p.list(), p.roots()"
   ]
  },
  {
   "cell_type": "markdown",
   "id": "a7ce77ba-03aa-4482-b753-3317a2067a00",
   "metadata": {
    "jp-MarkdownHeadingCollapsed": true
   },
   "source": [
    "# Equal Distance between Neighbors\n",
    "\n",
    "The first polynomial is the \"neighbor\" polynomial, which is derived from the following equation:\n",
    "$$\n",
    "  x_1 = \\frac{x_2}{x_1} - 1 = \\dots = \\frac{x_d}{x_{d-1}} - 1 = \\frac{1}{x_d} - 1.\n",
    "$$\n",
    "This results in the equation\n",
    "$$\n",
    "  x_d^{d+1} + x_d - 1 = 0, \\quad x_i = x_d^{d + 1 - i}\n",
    "$$"
   ]
  },
  {
   "cell_type": "code",
   "execution_count": null,
   "id": "d05f5763-46d9-459d-a79a-3a9361c5af4a",
   "metadata": {},
   "outputs": [],
   "source": [
    "def neighbor_distance(xs):\n",
    "    dist = []\n",
    "    for x, y in zip([*xs, 1], [1, *xs]):\n",
    "        if y == 0 or x == 0:\n",
    "            dist.append(1)\n",
    "        else:\n",
    "            dist.append(frac(x / y))\n",
    "    return dist\n",
    "\n",
    "def distance_matrix(xs):\n",
    "    D = [[0 for _ in xs] for _ in xs]\n",
    "    for i, x in enumerate(xs):\n",
    "        for j, y in enumerate(xs):\n",
    "            if x == 0 or y == 0:\n",
    "                D[i][j] = 1\n",
    "            elif i == j:\n",
    "                D[i][j] = frac(1 / x)\n",
    "            else:\n",
    "                D[i][j] = frac(x / y)\n",
    "    return D\n",
    "\n",
    "def real_distance_matrix(xs):\n",
    "    dist = distance_matrix(xs)\n",
    "    return [[RR(d) for d in row] for row in dist]\n",
    "\n",
    "# Indices are zero-based. An index of -1 indicates selecting nothing in the first iteration and selecting 0 in the next iteration.\n",
    "# Similarly, d - 1 indicates selecting d - 1 in the first iteration and nothing in the next iteration.\n",
    "def select(xs):\n",
    "    min_index = None\n",
    "    min_dist = 1\n",
    "    for i, dist in enumerate(neighbor_distance(xs)):\n",
    "        if min_dist > dist:\n",
    "            min_dist = dist\n",
    "            min_index = i - 1\n",
    "    return min_index"
   ]
  },
  {
   "cell_type": "code",
   "execution_count": null,
   "id": "8fea69c8-c05b-49e2-9d9b-3344cdd769cf",
   "metadata": {},
   "outputs": [],
   "source": [
    "def neighbor_poly(d):\n",
    "    return x ** (d+1) + x - 1\n",
    "neighbor_poly(5)"
   ]
  },
  {
   "cell_type": "markdown",
   "id": "ec814754-02be-426b-b5aa-b3badff9d0cf",
   "metadata": {},
   "source": [
    "The polynomial gives us the field $\\mathbb{Q}/ (x^{d+1} + x - 1)$."
   ]
  },
  {
   "cell_type": "code",
   "execution_count": null,
   "id": "f44037d6-f2aa-4e0c-b2dd-843cc04e9b43",
   "metadata": {},
   "outputs": [],
   "source": [
    "d = 3\n",
    "p = neighbor_poly(d)\n",
    "K.<psi> = NumberField(p, embedding=RR(0.5))\n",
    "K"
   ]
  },
  {
   "cell_type": "markdown",
   "id": "b178f796-e667-4b5a-8368-b7429ff4736f",
   "metadata": {},
   "source": [
    "For our input, we choose $x_i = \\psi^{d+1-i}$."
   ]
  },
  {
   "cell_type": "code",
   "execution_count": null,
   "id": "40294f8a-c002-4a84-aedb-2b2a0a01d345",
   "metadata": {},
   "outputs": [],
   "source": [
    "xs = tuple(sorted([psi^(d+1-i) for i in range(1,d+1)]))\n",
    "\n",
    "table([(i, x,RR(x)) for i, x in enumerate(xs)], header_row=[r'$i$', r'$x_i$'])"
   ]
  },
  {
   "cell_type": "markdown",
   "id": "7b8e6f2e-a1d6-4667-9307-6a4604c49907",
   "metadata": {},
   "source": [
    "The distance between neighbors is indeed the same."
   ]
  },
  {
   "cell_type": "code",
   "execution_count": null,
   "id": "0c8ad6fc-a36b-43c4-a30d-6dadc78b3fe6",
   "metadata": {},
   "outputs": [],
   "source": [
    "dist = neighbor_distance(xs)\n",
    "\n",
    "table([dist, [round(RR(d), 3) for d in dist]])"
   ]
  },
  {
   "cell_type": "markdown",
   "id": "746085a8-9e80-416f-b827-cb5d3c62d8b6",
   "metadata": {},
   "source": [
    "Therefore, we can expect a decrease of at least $\\psi^3$ over two iterations. However, this condition does not hold up after those two iterations when choosing any element to pivot with. It only holds up if we choose the maximum $x_d$ of those elements. Choosing any other pivot, destroys this solution."
   ]
  },
  {
   "cell_type": "code",
   "execution_count": null,
   "id": "2bba46fd-dc20-45ca-891f-c9032c299727",
   "metadata": {},
   "outputs": [],
   "source": [
    "n = 50\n",
    "d = len(xs)\n",
    "\n",
    "ys = xs\n",
    "rows = [[\n",
    "    *[f'$x_{i+1}$' for i in range(d)], \n",
    "    *[fr'$\\{{x_{{{i+2}}}/x_{{{i+1}}}\\}}$' for i in range(-1, d)], \n",
    "    r'$\\ell_1$', \n",
    "    r'$\\ell_2$',\n",
    "]]\n",
    "\n",
    "for i in range(n):\n",
    "    # select pivot\n",
    "    l = select(ys)\n",
    "    \n",
    "    # Add row to the output\n",
    "    dist   = [round(RR(d), 3) for d in neighbor_distance(ys)]\n",
    "    values = [round(RR(y), 3) for y in ys]\n",
    "    rows.append([*values, *dist, '-' if l == -1 else l, '-' if l == d - 1 else l + 1])\n",
    "\n",
    "    # pivot\n",
    "    if l == -1:\n",
    "        ys, _ = pivot(ys, 0)\n",
    "    elif l == d - 1:\n",
    "        ys, _ = pivot(ys, d - 1)\n",
    "    else:\n",
    "        ys, _ = pivot(ys, l, l + 1)\n",
    "    \n",
    "table(rows, header_row=True, align='center')"
   ]
  },
  {
   "cell_type": "markdown",
   "id": "d06edb6c-4450-4631-af47-c08322d9fa3c",
   "metadata": {
    "jp-MarkdownHeadingCollapsed": true
   },
   "source": [
    "## Other polynomials\n",
    "\n",
    "$$\n",
    "    x^{d+1} + \\sum_{k=1}^d k x^{d-k} = 1\n",
    "$$"
   ]
  },
  {
   "cell_type": "code",
   "execution_count": null,
   "id": "e609c30d-1dc6-4e92-afbf-4ba8896dec6f",
   "metadata": {},
   "outputs": [],
   "source": [
    "xs = (1, 4^(1/3), 16^(1/3))\n",
    "indices = [1, 2] + [2]*20\n",
    "table([[RR(x) for x in pivot(xs, *indices[:i+1])] for i in range(len(indices))])"
   ]
  },
  {
   "cell_type": "code",
   "execution_count": null,
   "id": "a9128ce2-9b4b-48c5-b106-43f1b272e1ed",
   "metadata": {},
   "outputs": [],
   "source": []
  },
  {
   "cell_type": "markdown",
   "id": "fd99e36d-098e-4438-bfbc-726b0ff63edd",
   "metadata": {
    "jp-MarkdownHeadingCollapsed": true
   },
   "source": [
    "# $d$-bonacci Numbers\n"
   ]
  },
  {
   "cell_type": "code",
   "execution_count": null,
   "id": "4aa3e4a7-5c36-4d9a-96ab-3a6b3759fd2b",
   "metadata": {},
   "outputs": [],
   "source": [
    "def nbonacci_poly(d):\n",
    "    i = var('i')\n",
    "    return x^(d+1) + sum(x^i, i, 1, d) - 1\n",
    "nbonacci_poly(3), *[r[0] for r in nbonacci_poly(1).roots()]"
   ]
  },
  {
   "cell_type": "code",
   "execution_count": null,
   "id": "a4a27c85-f6a5-480c-a97c-ae85dd2c98d5",
   "metadata": {},
   "outputs": [],
   "source": [
    "y = polygen(RR, 'y')\n",
    "d = 5\n",
    "\n",
    "p = nbonacci_poly(d)\n",
    "psi_real = find_root(p, 0, 1)\n",
    "K.<psi> = NumberField(p, embedding=RR(psi_real))"
   ]
  },
  {
   "cell_type": "code",
   "execution_count": null,
   "id": "58aaa3a2-01d4-4e7f-81b5-ddd7b240816f",
   "metadata": {},
   "outputs": [],
   "source": [
    "xs = tuple(sum(psi^i for i in range(1, k+1)) for k in range(1, d + 1))\n",
    "xs"
   ]
  },
  {
   "cell_type": "code",
   "execution_count": null,
   "id": "4d5821e8-55c0-4fe5-818b-c20a691c86cb",
   "metadata": {},
   "outputs": [],
   "source": [
    "ys = pivot(xs, 0)\n",
    "argmin(ys), ys"
   ]
  },
  {
   "cell_type": "code",
   "execution_count": null,
   "id": "45b4e22a-625b-4c59-9fad-e02fc1df1960",
   "metadata": {},
   "outputs": [],
   "source": [
    "q = factor(-x^6 * p(x=1/x))\n",
    "phi_real = find_root(q, 1, 2)\n",
    "L.<phi> = NumberField(q, embedding=RR(phi_real))\n",
    "q.list()"
   ]
  },
  {
   "cell_type": "markdown",
   "id": "55169f2f-ad25-4873-8d2c-42814477b6ec",
   "metadata": {
    "jp-MarkdownHeadingCollapsed": true
   },
   "source": [
    "# Worst-Case Analysis"
   ]
  },
  {
   "cell_type": "code",
   "execution_count": null,
   "id": "f89b568e-bd94-442e-8793-d5e954814c56",
   "metadata": {},
   "outputs": [],
   "source": [
    "d = 3\n",
    "xs = tuple(i / (d + 1) for i in range(1, d + 1))\n",
    "pivot(xs, 0)"
   ]
  },
  {
   "cell_type": "code",
   "execution_count": null,
   "id": "749b05cd-c18c-4490-ba0c-8f018ea476e1",
   "metadata": {},
   "outputs": [],
   "source": [
    "def unpivot(y, values, indices):\n",
    "    for a, l in zip(values, indices):\n",
    "        x = [0] * len(ys)\n",
    "        for i, (yi, ai) in enumerate(zip(y, a)):\n",
    "            if i == l:\n",
    "                x[i] = frac(1 / (ai + yi))\n",
    "            else:\n",
    "                x[i] = frac((ai + yi) / (a[l] + y[l]))\n",
    "        y = x\n",
    "    return y"
   ]
  },
  {
   "cell_type": "code",
   "execution_count": null,
   "id": "ba40be70-6e69-4465-937a-2ea688c08227",
   "metadata": {},
   "outputs": [],
   "source": [
    "ys = tuple(sorted(unpivot(xs, [(2, 1, 1)] * 5, [0] * 5)))\n",
    "table(distance_matrix(ys), header_row=ys, header_column=['', *ys])"
   ]
  },
  {
   "cell_type": "code",
   "execution_count": null,
   "id": "25eae55e-b1ce-4e3c-9903-e38c6361c655",
   "metadata": {},
   "outputs": [],
   "source": [
    "pivot(ys, 0, 1, 2)"
   ]
  },
  {
   "cell_type": "code",
   "execution_count": null,
   "id": "c8085c81-fe94-4d0b-a0db-6db1c9cd41b1",
   "metadata": {},
   "outputs": [],
   "source": [
    "K.<phi> = NumberField(x^3 - x - 1, embedding=RR(2))\n",
    "psi = 1/phi\n",
    "\n",
    "A = matrix([[1, phi, phi^2], [1, -psi]]).transpose()\n",
    "b = vector([1, 1])\n",
    "xs = A.solve_right(b)\n",
    "pivot(xs, 1, 1, *[1]*10)"
   ]
  },
  {
   "cell_type": "code",
   "execution_count": null,
   "id": "01720014-c65a-46a0-8152-bedb954945ff",
   "metadata": {},
   "outputs": [],
   "source": [
    "def min_pivot(xs, n):\n",
    "    coeffs = []\n",
    "    for _ in range(n):\n",
    "        l = None\n",
    "        for i, xi in enumerate(xs):\n",
    "            if (l is None or frac(xs[l]) > frac(xi)) and frac(xi) != 0:\n",
    "                l = i\n",
    "        if l is None:\n",
    "            break\n",
    "            \n",
    "        xs, c = pivot(xs, l)\n",
    "        coeffs += c\n",
    "    return xs, coeffs"
   ]
  }
 ],
 "metadata": {
  "kernelspec": {
   "display_name": "SageMath 10.5",
   "language": "sage",
   "name": "sagemath"
  },
  "language_info": {
   "codemirror_mode": {
    "name": "ipython",
    "version": 3
   },
   "file_extension": ".py",
   "mimetype": "text/x-python",
   "name": "python",
   "nbconvert_exporter": "python",
   "pygments_lexer": "ipython3",
   "version": "3.13.2"
  }
 },
 "nbformat": 4,
 "nbformat_minor": 5
}
