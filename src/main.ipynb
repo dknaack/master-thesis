{
 "cells": [
  {
   "cell_type": "code",
   "execution_count": 1,
   "id": "50144a0e-af61-4b8f-8913-588c30c8f10d",
   "metadata": {},
   "outputs": [],
   "source": [
    "%display latex"
   ]
  },
  {
   "cell_type": "markdown",
   "id": "caa40164-ed5f-49fb-b644-b48d4a2446e5",
   "metadata": {},
   "source": [
    "The modified update rule does not use a negative for the other indices.\n",
    "$$\n",
    "  x_i = \n",
    "  \\begin{cases}\n",
    "    \\frac{1}{x_i}, & \\text{ if } i = \\ell, \\\\\n",
    "    \\frac{x_i}{x_\\ell}, & \\text{ otherwise.} \\\\\n",
    "  \\end{cases}\n",
    "$$"
   ]
  },
  {
   "cell_type": "code",
   "execution_count": 15,
   "id": "d687cd04-12fb-4ef1-8eb1-a75ec536bbc9",
   "metadata": {},
   "outputs": [],
   "source": [
    "def frac(x):\n",
    "    return x - floor(RR(x))\n",
    "\n",
    "def pivot(xs, *indices):\n",
    "    coeffs = []\n",
    "    for l in indices:\n",
    "        a = [0] * len(xs)\n",
    "        ys = [0] * len(xs)\n",
    "        xl = xs[l]\n",
    "        assert xl != 0, \"xl cannot be zero\"\n",
    "        for i, xi in enumerate(xs):\n",
    "            if i == l:\n",
    "                a[i] = floor(RR(1 / xi))\n",
    "                ys[i] = frac(1 / xi)\n",
    "            else:\n",
    "                a[i] = floor(RR(xi / xl))\n",
    "                ys[i] = frac(xi / xl)\n",
    "        xs = tuple(ys)\n",
    "        coeffs.append(tuple(a))\n",
    "    return xs, coeffs\n",
    "\n",
    "def argmin(xs):\n",
    "    j = None\n",
    "    for i in range(len(xs)):\n",
    "        if j == None or xs[i] < xs[j]:\n",
    "            j = i\n",
    "    return j"
   ]
  },
  {
   "cell_type": "markdown",
   "id": "a7ce77ba-03aa-4482-b753-3317a2067a00",
   "metadata": {},
   "source": [
    "# Equal Distance between Neighbors\n",
    "\n",
    "The first polynomial is the \"neighbor\" polynomial, which is derived from the following equation:\n",
    "$$\n",
    "  x_1 = \\frac{x_2}{x_1} - 1 = \\dots = \\frac{x_d}{x_{d-1}} - 1 = \\frac{1}{x_d} - 1.\n",
    "$$\n",
    "This results in the equation\n",
    "$$\n",
    "  x_d^{d+1} + x_d - 1 = 0, \\quad x_i = x_d^{d + 1 - i}\n",
    "$$"
   ]
  },
  {
   "cell_type": "code",
   "execution_count": 2,
   "id": "d05f5763-46d9-459d-a79a-3a9361c5af4a",
   "metadata": {},
   "outputs": [],
   "source": [
    "def neighbor_distance(xs):\n",
    "    dist = []\n",
    "    for x, y in zip([*xs, 1], [1, *xs]):\n",
    "        if y == 0 or x == 0:\n",
    "            dist.append(1)\n",
    "        else:\n",
    "            dist.append(frac(x / y))\n",
    "    return dist\n",
    "\n",
    "def distance_matrix(xs):\n",
    "    D = [[0 for _ in xs] for _ in xs]\n",
    "    for i, x in enumerate(xs):\n",
    "        for j, y in enumerate(xs):\n",
    "            if x == 0 or y == 0:\n",
    "                D[i][j] = 1\n",
    "            elif i == j:\n",
    "                D[i][j] = frac(1 / x)\n",
    "            else:\n",
    "                D[i][j] = frac(x / y)\n",
    "    return D\n",
    "\n",
    "# Indices are zero-based. An index of -1 indicates selecting nothing in the first iteration and selecting 0 in the next iteration.\n",
    "# Similarly, d - 1 indicates selecting d - 1 in the first iteration and nothing in the next iteration.\n",
    "def select(xs):\n",
    "    min_index = None\n",
    "    min_dist = 1\n",
    "    for i, dist in enumerate(neighbor_distance(xs)):\n",
    "        if min_dist > dist:\n",
    "            min_dist = dist\n",
    "            min_index = i - 1\n",
    "    return min_index"
   ]
  },
  {
   "cell_type": "code",
   "execution_count": 3,
   "id": "8fea69c8-c05b-49e2-9d9b-3344cdd769cf",
   "metadata": {},
   "outputs": [
    {
     "data": {
      "text/plain": [
       "x^6 + x - 1"
      ]
     },
     "execution_count": 3,
     "metadata": {},
     "output_type": "execute_result"
    }
   ],
   "source": [
    "def neighbor_poly(d):\n",
    "    return x ** (d+1) + x - 1\n",
    "neighbor_poly(5)"
   ]
  },
  {
   "cell_type": "markdown",
   "id": "ec814754-02be-426b-b5aa-b3badff9d0cf",
   "metadata": {},
   "source": [
    "The polynomial gives us the field $\\mathbb{Q}/ (x^{d+1} + x - 1)$."
   ]
  },
  {
   "cell_type": "code",
   "execution_count": 5,
   "id": "f44037d6-f2aa-4e0c-b2dd-843cc04e9b43",
   "metadata": {},
   "outputs": [
    {
     "data": {
      "text/html": [
       "<html>\\(\\displaystyle \\newcommand{\\Bold}[1]{\\mathbf{#1}}\\Bold{Q}[\\psi]/(\\psi^{3} - 2)\\)</html>"
      ],
      "text/latex": [
       "$\\displaystyle \\newcommand{\\Bold}[1]{\\mathbf{#1}}\\Bold{Q}[\\psi]/(\\psi^{3} - 2)$"
      ],
      "text/plain": [
       "Number Field in psi with defining polynomial x^3 - 2 with psi = 1.259921049894873?"
      ]
     },
     "execution_count": 5,
     "metadata": {},
     "output_type": "execute_result"
    }
   ],
   "source": [
    "p = x^3 - 2\n",
    "d = p.degree(x)\n",
    "K.<psi> = NumberField(p, embedding=RR(0.5))\n",
    "K"
   ]
  },
  {
   "cell_type": "markdown",
   "id": "b178f796-e667-4b5a-8368-b7429ff4736f",
   "metadata": {},
   "source": [
    "For our input, we choose $x_i = \\psi^{d+1-i}$."
   ]
  },
  {
   "cell_type": "code",
   "execution_count": 6,
   "id": "40294f8a-c002-4a84-aedb-2b2a0a01d345",
   "metadata": {},
   "outputs": [
    {
     "data": {
      "text/html": [
       "<div class=\"notruncate\">\n",
       "<table  class=\"table_form\">\n",
       "<tbody>\n",
       "<tr>\n",
       "<th style=\"text-align:left\">\\(i\\)</th>\n",
       "<th style=\"text-align:left\">\\(x_i\\)</th>\n",
       "</tr>\n",
       "<tr class =\"row-a\">\n",
       "<td style=\"text-align:left\">\\(0\\)</td>\n",
       "<td style=\"text-align:left\">\\(\\psi\\)</td>\n",
       "<td style=\"text-align:left\">\\(1.25992104989487\\)</td>\n",
       "</tr>\n",
       "<tr class =\"row-b\">\n",
       "<td style=\"text-align:left\">\\(1\\)</td>\n",
       "<td style=\"text-align:left\">\\(\\psi^{2}\\)</td>\n",
       "<td style=\"text-align:left\">\\(1.58740105196820\\)</td>\n",
       "</tr>\n",
       "<tr class =\"row-a\">\n",
       "<td style=\"text-align:left\">\\(2\\)</td>\n",
       "<td style=\"text-align:left\">\\(2\\)</td>\n",
       "<td style=\"text-align:left\">\\(2.00000000000000\\)</td>\n",
       "</tr>\n",
       "</tbody>\n",
       "</table>\n",
       "</div>"
      ],
      "text/plain": [
       "  $i$   $x_i$\n",
       "├─────┼───────┤\n",
       "  0     psi\n",
       "  1     psi^2\n",
       "  2     2"
      ]
     },
     "execution_count": 6,
     "metadata": {},
     "output_type": "execute_result"
    }
   ],
   "source": [
    "xs = [psi^(i+1) for i in range(d)]\n",
    "\n",
    "table([(i, x,RR(x)) for i, x in enumerate(xs)], header_row=[r'$i$', r'$x_i$'])"
   ]
  },
  {
   "cell_type": "markdown",
   "id": "7b8e6f2e-a1d6-4667-9307-6a4604c49907",
   "metadata": {},
   "source": [
    "The distance between neighbors is indeed the same."
   ]
  },
  {
   "cell_type": "code",
   "execution_count": 7,
   "id": "0c8ad6fc-a36b-43c4-a30d-6dadc78b3fe6",
   "metadata": {},
   "outputs": [
    {
     "data": {
      "text/html": [
       "<div class=\"notruncate\">\n",
       "<table  class=\"table_form\">\n",
       "<tbody>\n",
       "<tr>\n",
       "<th class=\"ch\"{style_attr}></th>\n",
       "<th style=\"text-align:left\">\\(x_{0}\\)</th>\n",
       "<th style=\"text-align:left\">\\(x_{1}\\)</th>\n",
       "<th style=\"text-align:left\">\\(x_{2}\\)</th>\n",
       "</tr>\n",
       "<tr class =\"row-a\">\n",
       "<td class=\"ch\"{style_attr}>\\(x_{0}\\)</td>\n",
       "<td style=\"text-align:left\">\\(\\frac{1}{2} \\psi^{2}\\)</td>\n",
       "<td style=\"text-align:left\">\\(\\frac{1}{2} \\psi^{2}\\)</td>\n",
       "<td style=\"text-align:left\">\\(\\frac{1}{2} \\psi\\)</td>\n",
       "</tr>\n",
       "<tr class =\"row-b\">\n",
       "<td class=\"ch\"{style_attr}>\\(x_{1}\\)</td>\n",
       "<td style=\"text-align:left\">\\(\\psi - 1\\)</td>\n",
       "<td style=\"text-align:left\">\\(\\frac{1}{2} \\psi\\)</td>\n",
       "<td style=\"text-align:left\">\\(\\frac{1}{2} \\psi^{2}\\)</td>\n",
       "</tr>\n",
       "<tr class =\"row-a\">\n",
       "<td class=\"ch\"{style_attr}>\\(x_{2}\\)</td>\n",
       "<td style=\"text-align:left\">\\(\\psi^{2} - 1\\)</td>\n",
       "<td style=\"text-align:left\">\\(\\psi - 1\\)</td>\n",
       "<td style=\"text-align:left\">\\(\\frac{1}{2}\\)</td>\n",
       "</tr>\n",
       "</tbody>\n",
       "</table>\n",
       "</div>"
      ],
      "text/plain": [
       "          │ $x_{0}$     $x_{1}$     $x_{2}$\n",
       "├─────────┼───────────┼───────────┼───────────┤\n",
       "  $x_{0}$ │ 1/2*psi^2   1/2*psi^2   1/2*psi\n",
       "  $x_{1}$ │ psi - 1     1/2*psi     1/2*psi^2\n",
       "  $x_{2}$ │ psi^2 - 1   psi - 1     1/2"
      ]
     },
     "execution_count": 7,
     "metadata": {},
     "output_type": "execute_result"
    }
   ],
   "source": [
    "dist = distance_matrix(xs)\n",
    "\n",
    "header = [''] + [rf'$x_{{{i}}}$' for i in range(len(dist))]\n",
    "table(dist, header_row=header[1:], header_column=header)"
   ]
  },
  {
   "cell_type": "markdown",
   "id": "746085a8-9e80-416f-b827-cb5d3c62d8b6",
   "metadata": {},
   "source": [
    "Therefore, we can expect a decrease of at least $\\psi^3$ over two iterations. However, this condition does not hold up after those two iterations when choosing any element to pivot with. It only holds up if we choose the maximum $x_d$ of those elements. Choosing any other pivot, destroys this solution."
   ]
  },
  {
   "cell_type": "code",
   "execution_count": 8,
   "id": "2bba46fd-dc20-45ca-891f-c9032c299727",
   "metadata": {},
   "outputs": [
    {
     "ename": "TypeError",
     "evalue": "unsupported operand parent(s) for /: '<class 'tuple'>' and 'Integer Ring'",
     "output_type": "error",
     "traceback": [
      "\u001b[0;31m---------------------------------------------------------------------------\u001b[0m",
      "\u001b[0;31mTypeError\u001b[0m                                 Traceback (most recent call last)",
      "Cell \u001b[0;32mIn[8], line 14\u001b[0m\n\u001b[1;32m      5\u001b[0m rows \u001b[38;5;241m=\u001b[39m [[\n\u001b[1;32m      6\u001b[0m     \u001b[38;5;241m*\u001b[39m[\u001b[38;5;124mf\u001b[39m\u001b[38;5;124m'\u001b[39m\u001b[38;5;124m$x_\u001b[39m\u001b[38;5;132;01m{\u001b[39;00mi\u001b[38;5;241m+\u001b[39mInteger(\u001b[38;5;241m1\u001b[39m)\u001b[38;5;132;01m}\u001b[39;00m\u001b[38;5;124m$\u001b[39m\u001b[38;5;124m'\u001b[39m \u001b[38;5;28;01mfor\u001b[39;00m i \u001b[38;5;129;01min\u001b[39;00m \u001b[38;5;28mrange\u001b[39m(d)], \n\u001b[1;32m      7\u001b[0m     \u001b[38;5;241m*\u001b[39m[\u001b[38;5;124mfr\u001b[39m\u001b[38;5;124m'\u001b[39m\u001b[38;5;124m$\u001b[39m\u001b[38;5;124m\\\u001b[39m\u001b[38;5;130;01m{{\u001b[39;00m\u001b[38;5;124mx_\u001b[39m\u001b[38;5;130;01m{{\u001b[39;00m\u001b[38;5;132;01m{\u001b[39;00mi\u001b[38;5;241m+\u001b[39mInteger(\u001b[38;5;241m2\u001b[39m)\u001b[38;5;132;01m}\u001b[39;00m\u001b[38;5;130;01m}}\u001b[39;00m\u001b[38;5;124m/x_\u001b[39m\u001b[38;5;130;01m{{\u001b[39;00m\u001b[38;5;132;01m{\u001b[39;00mi\u001b[38;5;241m+\u001b[39mInteger(\u001b[38;5;241m1\u001b[39m)\u001b[38;5;132;01m}\u001b[39;00m\u001b[38;5;130;01m}}\u001b[39;00m\u001b[38;5;124m\\\u001b[39m\u001b[38;5;130;01m}}\u001b[39;00m\u001b[38;5;124m$\u001b[39m\u001b[38;5;124m'\u001b[39m \u001b[38;5;28;01mfor\u001b[39;00m i \u001b[38;5;129;01min\u001b[39;00m \u001b[38;5;28mrange\u001b[39m(\u001b[38;5;241m-\u001b[39mInteger(\u001b[38;5;241m1\u001b[39m), d)], \n\u001b[1;32m      8\u001b[0m     \u001b[38;5;124mr\u001b[39m\u001b[38;5;124m'\u001b[39m\u001b[38;5;124m$\u001b[39m\u001b[38;5;124m\\\u001b[39m\u001b[38;5;124mell_1$\u001b[39m\u001b[38;5;124m'\u001b[39m, \n\u001b[1;32m      9\u001b[0m     \u001b[38;5;124mr\u001b[39m\u001b[38;5;124m'\u001b[39m\u001b[38;5;124m$\u001b[39m\u001b[38;5;124m\\\u001b[39m\u001b[38;5;124mell_2$\u001b[39m\u001b[38;5;124m'\u001b[39m,\n\u001b[1;32m     10\u001b[0m ]]\n\u001b[1;32m     12\u001b[0m \u001b[38;5;28;01mfor\u001b[39;00m i \u001b[38;5;129;01min\u001b[39;00m \u001b[38;5;28mrange\u001b[39m(n):\n\u001b[1;32m     13\u001b[0m     \u001b[38;5;66;03m# select pivot\u001b[39;00m\n\u001b[0;32m---> 14\u001b[0m     l \u001b[38;5;241m=\u001b[39m \u001b[43mselect\u001b[49m\u001b[43m(\u001b[49m\u001b[43mys\u001b[49m\u001b[43m)\u001b[49m\n\u001b[1;32m     16\u001b[0m     \u001b[38;5;66;03m# Add row to the output\u001b[39;00m\n\u001b[1;32m     17\u001b[0m     dist   \u001b[38;5;241m=\u001b[39m [\u001b[38;5;28mround\u001b[39m(RR(d), Integer(\u001b[38;5;241m3\u001b[39m)) \u001b[38;5;28;01mfor\u001b[39;00m d \u001b[38;5;129;01min\u001b[39;00m neighbor_distance(ys)]\n",
      "Cell \u001b[0;32mIn[3], line 27\u001b[0m, in \u001b[0;36mselect\u001b[0;34m(xs)\u001b[0m\n\u001b[1;32m     25\u001b[0m min_index \u001b[38;5;241m=\u001b[39m \u001b[38;5;28;01mNone\u001b[39;00m\n\u001b[1;32m     26\u001b[0m min_dist \u001b[38;5;241m=\u001b[39m Integer(\u001b[38;5;241m1\u001b[39m)\n\u001b[0;32m---> 27\u001b[0m \u001b[38;5;28;01mfor\u001b[39;00m i, dist \u001b[38;5;129;01min\u001b[39;00m \u001b[38;5;28menumerate\u001b[39m(\u001b[43mneighbor_distance\u001b[49m\u001b[43m(\u001b[49m\u001b[43mxs\u001b[49m\u001b[43m)\u001b[49m):\n\u001b[1;32m     28\u001b[0m     \u001b[38;5;28;01mif\u001b[39;00m min_dist \u001b[38;5;241m>\u001b[39m dist:\n\u001b[1;32m     29\u001b[0m         min_dist \u001b[38;5;241m=\u001b[39m dist\n",
      "Cell \u001b[0;32mIn[3], line 7\u001b[0m, in \u001b[0;36mneighbor_distance\u001b[0;34m(xs)\u001b[0m\n\u001b[1;32m      5\u001b[0m         dist\u001b[38;5;241m.\u001b[39mappend(Integer(\u001b[38;5;241m1\u001b[39m))\n\u001b[1;32m      6\u001b[0m     \u001b[38;5;28;01melse\u001b[39;00m:\n\u001b[0;32m----> 7\u001b[0m         dist\u001b[38;5;241m.\u001b[39mappend(frac(\u001b[43mx\u001b[49m\u001b[43m \u001b[49m\u001b[38;5;241;43m/\u001b[39;49m\u001b[43m \u001b[49m\u001b[43my\u001b[49m))\n\u001b[1;32m      8\u001b[0m \u001b[38;5;28;01mreturn\u001b[39;00m dist\n",
      "File \u001b[0;32m/usr/lib/python3.13/site-packages/sage/rings/integer.pyx:2042\u001b[0m, in \u001b[0;36msage.rings.integer.Integer.__truediv__ (build/cythonized/sage/rings/integer.c:24491)\u001b[0;34m()\u001b[0m\n\u001b[1;32m   2040\u001b[0m         return y\n\u001b[1;32m   2041\u001b[0m \n\u001b[0;32m-> 2042\u001b[0m     return coercion_model.bin_op(left, right, operator.truediv)\n\u001b[1;32m   2043\u001b[0m \n\u001b[1;32m   2044\u001b[0m cpdef _div_(self, right):\n",
      "File \u001b[0;32m/usr/lib/python3.13/site-packages/sage/structure/coerce.pyx:1282\u001b[0m, in \u001b[0;36msage.structure.coerce.CoercionModel.bin_op (build/cythonized/sage/structure/coerce.c:16906)\u001b[0;34m()\u001b[0m\n\u001b[1;32m   1280\u001b[0m     # We should really include the underlying error.\n\u001b[1;32m   1281\u001b[0m     # This causes so much headache.\n\u001b[0;32m-> 1282\u001b[0m     raise bin_op_exception(op, x, y)\n\u001b[1;32m   1283\u001b[0m \n\u001b[1;32m   1284\u001b[0m cpdef canonical_coercion(self, x, y):\n",
      "\u001b[0;31mTypeError\u001b[0m: unsupported operand parent(s) for /: '<class 'tuple'>' and 'Integer Ring'"
     ]
    }
   ],
   "source": [
    "n = 50\n",
    "d = len(xs)\n",
    "\n",
    "ys = xs\n",
    "rows = [[\n",
    "    *[f'$x_{i+1}$' for i in range(d)], \n",
    "    *[fr'$\\{{x_{{{i+2}}}/x_{{{i+1}}}\\}}$' for i in range(-1, d)], \n",
    "    r'$\\ell_1$', \n",
    "    r'$\\ell_2$',\n",
    "]]\n",
    "\n",
    "for i in range(n):\n",
    "    # select pivot\n",
    "    l = select(ys)\n",
    "    \n",
    "    # Add row to the output\n",
    "    dist   = [round(RR(d), 3) for d in neighbor_distance(ys)]\n",
    "    values = [round(RR(y), 3) for y in ys]\n",
    "    rows.append([*values, *dist, '-' if l == -1 else l, '-' if l == d - 1 else l + 1])\n",
    "\n",
    "    # pivot\n",
    "    if l == -1:\n",
    "        ys = pivot(ys, 0)\n",
    "    elif l == d - 1:\n",
    "        ys = pivot(ys, d - 1)\n",
    "    else:\n",
    "        ys = pivot(ys, l, l + 1)\n",
    "    \n",
    "table(rows, header_row=True, align='center')"
   ]
  },
  {
   "cell_type": "markdown",
   "id": "d06edb6c-4450-4631-af47-c08322d9fa3c",
   "metadata": {},
   "source": [
    "## Other polynomials\n",
    "\n",
    "$$\n",
    "    x^{d+1} + \\sum_{k=1}^d k x^{d-k} = 1\n",
    "$$"
   ]
  },
  {
   "cell_type": "code",
   "execution_count": 9,
   "id": "e609c30d-1dc6-4e92-afbf-4ba8896dec6f",
   "metadata": {},
   "outputs": [
    {
     "ename": "TypeError",
     "evalue": "unable to convert '(1/4*4^(2/3),1/4*4^(2/3),1/2*4^(2/3)*2^(1/3)-1)' to a real number",
     "output_type": "error",
     "traceback": [
      "\u001b[0;31m---------------------------------------------------------------------------\u001b[0m",
      "\u001b[0;31mTypeError\u001b[0m                                 Traceback (most recent call last)",
      "Cell \u001b[0;32mIn[9], line 3\u001b[0m\n\u001b[1;32m      1\u001b[0m xs \u001b[38;5;241m=\u001b[39m (Integer(\u001b[38;5;241m1\u001b[39m), Integer(\u001b[38;5;241m4\u001b[39m)\u001b[38;5;241m*\u001b[39m\u001b[38;5;241m*\u001b[39m(Integer(\u001b[38;5;241m1\u001b[39m)\u001b[38;5;241m/\u001b[39mInteger(\u001b[38;5;241m3\u001b[39m)), Integer(\u001b[38;5;241m16\u001b[39m)\u001b[38;5;241m*\u001b[39m\u001b[38;5;241m*\u001b[39m(Integer(\u001b[38;5;241m1\u001b[39m)\u001b[38;5;241m/\u001b[39mInteger(\u001b[38;5;241m3\u001b[39m)))\n\u001b[1;32m      2\u001b[0m indices \u001b[38;5;241m=\u001b[39m [Integer(\u001b[38;5;241m1\u001b[39m), Integer(\u001b[38;5;241m2\u001b[39m)] \u001b[38;5;241m+\u001b[39m [Integer(\u001b[38;5;241m2\u001b[39m)]\u001b[38;5;241m*\u001b[39mInteger(\u001b[38;5;241m20\u001b[39m)\n\u001b[0;32m----> 3\u001b[0m table([[\u001b[43mRR\u001b[49m\u001b[43m(\u001b[49m\u001b[43mx\u001b[49m\u001b[43m)\u001b[49m \u001b[38;5;28;01mfor\u001b[39;00m x \u001b[38;5;129;01min\u001b[39;00m pivot(xs, \u001b[38;5;241m*\u001b[39mindices[:i\u001b[38;5;241m+\u001b[39mInteger(\u001b[38;5;241m1\u001b[39m)])] \u001b[38;5;28;01mfor\u001b[39;00m i \u001b[38;5;129;01min\u001b[39;00m \u001b[38;5;28mrange\u001b[39m(\u001b[38;5;28mlen\u001b[39m(indices))])\n",
      "File \u001b[0;32m/usr/lib/python3.13/site-packages/sage/structure/parent.pyx:901\u001b[0m, in \u001b[0;36msage.structure.parent.Parent.__call__ (build/cythonized/sage/structure/parent.c:12763)\u001b[0;34m()\u001b[0m\n\u001b[1;32m    899\u001b[0m if mor is not None:\n\u001b[1;32m    900\u001b[0m     if no_extra_args:\n\u001b[0;32m--> 901\u001b[0m         return mor._call_(x)\n\u001b[1;32m    902\u001b[0m     else:\n\u001b[1;32m    903\u001b[0m         return mor._call_with_args(x, args, kwds)\n",
      "File \u001b[0;32m/usr/lib/python3.13/site-packages/sage/structure/coerce_maps.pyx:164\u001b[0m, in \u001b[0;36msage.structure.coerce_maps.DefaultConvertMap_unique._call_ (build/cythonized/sage/structure/coerce_maps.c:6980)\u001b[0;34m()\u001b[0m\n\u001b[1;32m    162\u001b[0m             print(type(C), C)\n\u001b[1;32m    163\u001b[0m             print(type(C._element_constructor), C._element_constructor)\n\u001b[0;32m--> 164\u001b[0m         raise\n\u001b[1;32m    165\u001b[0m \n\u001b[1;32m    166\u001b[0m cpdef Element _call_with_args(self, x, args=(), kwds={}):\n",
      "File \u001b[0;32m/usr/lib/python3.13/site-packages/sage/structure/coerce_maps.pyx:159\u001b[0m, in \u001b[0;36msage.structure.coerce_maps.DefaultConvertMap_unique._call_ (build/cythonized/sage/structure/coerce_maps.c:6872)\u001b[0;34m()\u001b[0m\n\u001b[1;32m    157\u001b[0m cdef Parent C = self._codomain\n\u001b[1;32m    158\u001b[0m try:\n\u001b[0;32m--> 159\u001b[0m     return C._element_constructor(x)\n\u001b[1;32m    160\u001b[0m except Exception:\n\u001b[1;32m    161\u001b[0m     if print_warnings:\n",
      "File \u001b[0;32m/usr/lib/python3.13/site-packages/sage/rings/real_mpfr.pyx:684\u001b[0m, in \u001b[0;36msage.rings.real_mpfr.RealField_class._element_constructor_ (build/cythonized/sage/rings/real_mpfr.c:16047)\u001b[0;34m()\u001b[0m\n\u001b[1;32m    682\u001b[0m cdef RealNumber z\n\u001b[1;32m    683\u001b[0m z = self._new()\n\u001b[0;32m--> 684\u001b[0m z._set(x, base)\n\u001b[1;32m    685\u001b[0m return z\n\u001b[1;32m    686\u001b[0m \n",
      "File \u001b[0;32m/usr/lib/python3.13/site-packages/sage/rings/real_mpfr.pyx:1531\u001b[0m, in \u001b[0;36msage.rings.real_mpfr.RealNumber._set (build/cythonized/sage/rings/real_mpfr.c:23289)\u001b[0;34m()\u001b[0m\n\u001b[1;32m   1529\u001b[0m             mpfr_set_inf(self.value, -1)\n\u001b[1;32m   1530\u001b[0m         else:\n\u001b[0;32m-> 1531\u001b[0m             raise TypeError(\"unable to convert {!r} to a real number\".format(s))\n\u001b[1;32m   1532\u001b[0m \n\u001b[1;32m   1533\u001b[0m def __reduce__(self):\n",
      "\u001b[0;31mTypeError\u001b[0m: unable to convert '(1/4*4^(2/3),1/4*4^(2/3),1/2*4^(2/3)*2^(1/3)-1)' to a real number"
     ]
    }
   ],
   "source": [
    "xs = (1, 4^(1/3), 16^(1/3))\n",
    "indices = [1, 2] + [2]*20\n",
    "table([[RR(x) for x in pivot(xs, *indices[:i+1])] for i in range(len(indices))])"
   ]
  },
  {
   "cell_type": "markdown",
   "id": "fd99e36d-098e-4438-bfbc-726b0ff63edd",
   "metadata": {},
   "source": [
    "# $d$-bonacci Numbers\n"
   ]
  },
  {
   "cell_type": "code",
   "execution_count": 145,
   "id": "4aa3e4a7-5c36-4d9a-96ab-3a6b3759fd2b",
   "metadata": {},
   "outputs": [
    {
     "data": {
      "text/html": [
       "<html>\\(\\displaystyle \\left(x^{4} + x^{3} + x^{2} + x - 1, -\\frac{1}{2} \\, \\sqrt{5} - \\frac{1}{2}, \\frac{1}{2} \\, \\sqrt{5} - \\frac{1}{2}\\right)\\)</html>"
      ],
      "text/latex": [
       "$\\displaystyle \\left(x^{4} + x^{3} + x^{2} + x - 1, -\\frac{1}{2} \\, \\sqrt{5} - \\frac{1}{2}, \\frac{1}{2} \\, \\sqrt{5} - \\frac{1}{2}\\right)$"
      ],
      "text/plain": [
       "(x^4 + x^3 + x^2 + x - 1, -1/2*sqrt(5) - 1/2, 1/2*sqrt(5) - 1/2)"
      ]
     },
     "execution_count": 145,
     "metadata": {},
     "output_type": "execute_result"
    }
   ],
   "source": [
    "def nbonacci_poly(d):\n",
    "    i = var('i')\n",
    "    return x^(d+1) + sum(x^i, i, 1, d) - 1\n",
    "nbonacci_poly(3), *[r[0] for r in nbonacci_poly(1).roots()]"
   ]
  },
  {
   "cell_type": "code",
   "execution_count": 242,
   "id": "a4a27c85-f6a5-480c-a97c-ae85dd2c98d5",
   "metadata": {},
   "outputs": [],
   "source": [
    "y = polygen(RR, 'y')\n",
    "d = 5\n",
    "\n",
    "p = nbonacci_poly(d)\n",
    "psi_real = find_root(p, 0, 1)\n",
    "K.<psi> = NumberField(p, embedding=RR(psi_real))"
   ]
  },
  {
   "cell_type": "code",
   "execution_count": 168,
   "id": "58aaa3a2-01d4-4e7f-81b5-ddd7b240816f",
   "metadata": {},
   "outputs": [
    {
     "data": {
      "text/html": [
       "<html>\\(\\displaystyle \\left(\\psi, \\psi^{2} + \\psi, \\psi^{3} + \\psi^{2} + \\psi, \\psi^{4} + \\psi^{3} + \\psi^{2} + \\psi, \\psi^{5} + \\psi^{4} + \\psi^{3} + \\psi^{2} + \\psi\\right)\\)</html>"
      ],
      "text/latex": [
       "$\\displaystyle \\left(\\psi, \\psi^{2} + \\psi, \\psi^{3} + \\psi^{2} + \\psi, \\psi^{4} + \\psi^{3} + \\psi^{2} + \\psi, \\psi^{5} + \\psi^{4} + \\psi^{3} + \\psi^{2} + \\psi\\right)$"
      ],
      "text/plain": [
       "(psi,\n",
       " psi^2 + psi,\n",
       " psi^3 + psi^2 + psi,\n",
       " psi^4 + psi^3 + psi^2 + psi,\n",
       " psi^5 + psi^4 + psi^3 + psi^2 + psi)"
      ]
     },
     "execution_count": 168,
     "metadata": {},
     "output_type": "execute_result"
    }
   ],
   "source": [
    "xs = tuple(sum(psi^i for i in range(1, k+1)) for k in range(1, d + 1))\n",
    "xs"
   ]
  },
  {
   "cell_type": "code",
   "execution_count": 216,
   "id": "4d5821e8-55c0-4fe5-818b-c20a691c86cb",
   "metadata": {},
   "outputs": [
    {
     "data": {
      "text/html": [
       "<html>\\(\\displaystyle \\left(1, \\left(\\psi^{5} + \\psi^{4} + \\psi^{3} + \\psi^{2} + \\psi, \\psi, \\psi^{2} + \\psi, \\psi^{3} + \\psi^{2} + \\psi, \\psi^{4} + \\psi^{3} + \\psi^{2} + \\psi\\right)\\right)\\)</html>"
      ],
      "text/latex": [
       "$\\displaystyle \\left(1, \\left(\\psi^{5} + \\psi^{4} + \\psi^{3} + \\psi^{2} + \\psi, \\psi, \\psi^{2} + \\psi, \\psi^{3} + \\psi^{2} + \\psi, \\psi^{4} + \\psi^{3} + \\psi^{2} + \\psi\\right)\\right)$"
      ],
      "text/plain": [
       "(1,\n",
       " (psi^5 + psi^4 + psi^3 + psi^2 + psi,\n",
       "  psi,\n",
       "  psi^2 + psi,\n",
       "  psi^3 + psi^2 + psi,\n",
       "  psi^4 + psi^3 + psi^2 + psi))"
      ]
     },
     "execution_count": 216,
     "metadata": {},
     "output_type": "execute_result"
    }
   ],
   "source": [
    "ys = pivot(xs, 0)\n",
    "argmin(ys), ys"
   ]
  },
  {
   "cell_type": "code",
   "execution_count": 254,
   "id": "45b4e22a-625b-4c59-9fad-e02fc1df1960",
   "metadata": {},
   "outputs": [
    {
     "data": {
      "text/html": [
       "<html>\\(\\displaystyle \\left[-1, -1, -1, -1, -1, -1, 1\\right]\\)</html>"
      ],
      "text/latex": [
       "$\\displaystyle \\left[-1, -1, -1, -1, -1, -1, 1\\right]$"
      ],
      "text/plain": [
       "[-1, -1, -1, -1, -1, -1, 1]"
      ]
     },
     "execution_count": 254,
     "metadata": {},
     "output_type": "execute_result"
    }
   ],
   "source": [
    "q = factor(-x^6 * p(x=1/x))\n",
    "phi_real = find_root(q, 1, 2)\n",
    "L.<phi> = NumberField(q, embedding=RR(phi_real))\n",
    "q.list()"
   ]
  },
  {
   "cell_type": "markdown",
   "id": "55169f2f-ad25-4873-8d2c-42814477b6ec",
   "metadata": {},
   "source": [
    "# Worst-Case Analysis"
   ]
  },
  {
   "cell_type": "code",
   "execution_count": 60,
   "id": "f89b568e-bd94-442e-8793-d5e954814c56",
   "metadata": {},
   "outputs": [
    {
     "data": {
      "text/html": [
       "<html>\\(\\displaystyle \\left(0, 0, 0\\right)\\)</html>"
      ],
      "text/latex": [
       "$\\displaystyle \\left(0, 0, 0\\right)$"
      ],
      "text/plain": [
       "(0, 0, 0)"
      ]
     },
     "execution_count": 60,
     "metadata": {},
     "output_type": "execute_result"
    }
   ],
   "source": [
    "d = 3\n",
    "xs = tuple(i / (d + 1) for i in range(1, d + 1))\n",
    "pivot(xs, 0)"
   ]
  },
  {
   "cell_type": "code",
   "execution_count": 133,
   "id": "749b05cd-c18c-4490-ba0c-8f018ea476e1",
   "metadata": {},
   "outputs": [],
   "source": [
    "def unpivot(y, values, indices):\n",
    "    for a, l in zip(values, indices):\n",
    "        x = [0] * len(ys)\n",
    "        for i, (yi, ai) in enumerate(zip(y, a)):\n",
    "            if i == l:\n",
    "                x[i] = frac(1 / (ai + yi))\n",
    "            else:\n",
    "                x[i] = frac((ai + yi) / (a[l] + y[l]))\n",
    "        y = x\n",
    "    return y"
   ]
  },
  {
   "cell_type": "code",
   "execution_count": 165,
   "id": "ba40be70-6e69-4465-937a-2ea688c08227",
   "metadata": {},
   "outputs": [
    {
     "data": {
      "text/html": [
       "<div class=\"notruncate\">\n",
       "<table  class=\"table_form\">\n",
       "<tbody>\n",
       "<tr>\n",
       "<th class=\"ch\"{style_attr}></th>\n",
       "<th style=\"text-align:left\">\\(\\frac{128}{309}\\)</th>\n",
       "<th style=\"text-align:left\">\\(\\frac{218}{309}\\)</th>\n",
       "<th style=\"text-align:left\">\\(\\frac{73}{103}\\)</th>\n",
       "</tr>\n",
       "<tr class =\"row-a\">\n",
       "<td class=\"ch\"{style_attr}>\\(\\frac{128}{309}\\)</td>\n",
       "<td style=\"text-align:left\">\\(\\frac{53}{128}\\)</td>\n",
       "<td style=\"text-align:left\">\\(\\frac{64}{109}\\)</td>\n",
       "<td style=\"text-align:left\">\\(\\frac{128}{219}\\)</td>\n",
       "</tr>\n",
       "<tr class =\"row-b\">\n",
       "<td class=\"ch\"{style_attr}>\\(\\frac{218}{309}\\)</td>\n",
       "<td style=\"text-align:left\">\\(\\frac{45}{64}\\)</td>\n",
       "<td style=\"text-align:left\">\\(\\frac{91}{218}\\)</td>\n",
       "<td style=\"text-align:left\">\\(\\frac{218}{219}\\)</td>\n",
       "</tr>\n",
       "<tr class =\"row-a\">\n",
       "<td class=\"ch\"{style_attr}>\\(\\frac{73}{103}\\)</td>\n",
       "<td style=\"text-align:left\">\\(\\frac{91}{128}\\)</td>\n",
       "<td style=\"text-align:left\">\\(\\frac{1}{218}\\)</td>\n",
       "<td style=\"text-align:left\">\\(\\frac{30}{73}\\)</td>\n",
       "</tr>\n",
       "</tbody>\n",
       "</table>\n",
       "</div>"
      ],
      "text/plain": [
       "          │ 128/309   218/309   73/103\n",
       "├─────────┼─────────┼─────────┼─────────┤\n",
       "  128/309 │ 53/128    64/109    128/219\n",
       "  218/309 │ 45/64     91/218    218/219\n",
       "  73/103  │ 91/128    1/218     30/73"
      ]
     },
     "execution_count": 165,
     "metadata": {},
     "output_type": "execute_result"
    }
   ],
   "source": [
    "ys = tuple(sorted(unpivot(xs, [(2, 1, 1)] * 5, [0] * 5)))\n",
    "table(distance_matrix(ys), header_row=ys, header_column=['', *ys])"
   ]
  },
  {
   "cell_type": "code",
   "execution_count": 163,
   "id": "25eae55e-b1ce-4e3c-9903-e38c6361c655",
   "metadata": {},
   "outputs": [
    {
     "data": {
      "text/html": [
       "<html>\\(\\displaystyle \\left(0, 0, 0\\right)\\)</html>"
      ],
      "text/latex": [
       "$\\displaystyle \\left(0, 0, 0\\right)$"
      ],
      "text/plain": [
       "(0, 0, 0)"
      ]
     },
     "execution_count": 163,
     "metadata": {},
     "output_type": "execute_result"
    }
   ],
   "source": [
    "pivot(ys, 0, 1, 2)"
   ]
  },
  {
   "cell_type": "code",
   "execution_count": 16,
   "id": "c8085c81-fe94-4d0b-a0db-6db1c9cd41b1",
   "metadata": {},
   "outputs": [
    {
     "data": {
      "text/html": [
       "<html>\\(\\displaystyle \\left(0, \\phi - 1\\right)\\)</html>"
      ],
      "text/latex": [
       "$\\displaystyle \\left(0, \\phi - 1\\right)$"
      ],
      "text/plain": [
       "(0, phi - 1)"
      ]
     },
     "execution_count": 16,
     "metadata": {},
     "output_type": "execute_result"
    }
   ],
   "source": [
    "K.<phi> = NumberField(x^3 - x - 1, embedding=RR(2))\n",
    "psi = 1/phi\n",
    "\n",
    "A = matrix([[1, phi, phi^2], [1, -psi]]).transpose()\n",
    "b = vector([1, 1])\n",
    "xs = A.solve_right(b)\n",
    "pivot(xs, 1, 1, *[1]*10)"
   ]
  },
  {
   "cell_type": "code",
   "execution_count": 77,
   "id": "01720014-c65a-46a0-8152-bedb954945ff",
   "metadata": {},
   "outputs": [],
   "source": [
    "def min_pivot(xs, n):\n",
    "    coeffs = []\n",
    "    for _ in range(n):\n",
    "        l = None\n",
    "        for i, xi in enumerate(xs):\n",
    "            if (l is None or frac(xs[l]) > frac(xi)) and frac(xi) != 0:\n",
    "                l = i\n",
    "        if l is None:\n",
    "            break\n",
    "            \n",
    "        xs, c = pivot(xs, l)\n",
    "        coeffs += c\n",
    "    return xs, coeffs"
   ]
  },
  {
   "cell_type": "markdown",
   "id": "a07e3823-df27-4e1f-b272-8b213636f355",
   "metadata": {},
   "source": [
    "# Brute-Force Search"
   ]
  },
  {
   "cell_type": "code",
   "execution_count": 16,
   "id": "ddf7622b-688a-4b3a-8110-746ba1afab46",
   "metadata": {},
   "outputs": [],
   "source": [
    "def brute_force(xs, max_depth, prev=[]):\n",
    "    if max_depth == 0:\n",
    "        return []\n",
    "\n",
    "    # Try single pivot first to make list as short as possible\n",
    "    for l, xl in enumerate(xs):\n",
    "        if frac(xl) != 0:\n",
    "            ys, coeffs = pivot(xs, l)\n",
    "            if ys in prev:\n",
    "                return [l]\n",
    "                \n",
    "    for l, xl in enumerate(xs):\n",
    "        if frac(xl) != 0:\n",
    "            ys, coeffs = pivot(xs, l)\n",
    "            result = brute_force(ys, max_depth - 1, prev + [xs])\n",
    "            if result:\n",
    "                return [l] + result\n",
    "    return []"
   ]
  },
  {
   "cell_type": "code",
   "execution_count": 26,
   "id": "fbba6175-3f37-4354-b771-e5ada41020eb",
   "metadata": {},
   "outputs": [
    {
     "data": {
      "text/plain": [
       "((1, psi, psi^2), [1, 0, 0, 0, 0, 0, 2, 0, 0, 2, 2, 0, 2, 0, 2, 0, 2, 0])"
      ]
     },
     "execution_count": 26,
     "metadata": {},
     "output_type": "execute_result"
    }
   ],
   "source": [
    "d = 3\n",
    "p = x^d - 13\n",
    "K.<psi> = NumberField(p, embedding=RR(1))\n",
    "\n",
    "xs = tuple(psi^i for i in range(d))\n",
    "indices = brute_force(xs, 20)\n",
    "xs, indices[:-1]"
   ]
  },
  {
   "cell_type": "code",
   "execution_count": 19,
   "id": "15044042-e0d9-4d11-b001-000e2edcf698",
   "metadata": {},
   "outputs": [
    {
     "data": {
      "text/html": [
       "<div class=\"notruncate\">\n",
       "<table  class=\"table_form\">\n",
       "<tbody>\n",
       "<tr>\n",
       "<th style=\"text-align:left\">\\(i\\)</th>\n",
       "<th style=\"text-align:left\">\\(x_1\\)</th>\n",
       "<th style=\"text-align:left\">\\(x_2\\)</th>\n",
       "<th style=\"text-align:left\">\\(x_3\\)</th>\n",
       "</tr>\n",
       "<tr class =\"row-a\">\n",
       "<td style=\"text-align:left\">\\(0\\)</td>\n",
       "<td style=\"text-align:left\">\\(1\\)</td>\n",
       "<td style=\"text-align:left\">\\(\\psi\\)</td>\n",
       "<td style=\"text-align:left\">\\(\\psi^{2}\\)</td>\n",
       "<td style=\"text-align:left\">\\(0\\)</td>\n",
       "<td style=\"text-align:left\">\\(0\\)</td>\n",
       "<td style=\"text-align:left\">\\(0\\)</td>\n",
       "</tr>\n",
       "<tr class =\"row-b\">\n",
       "<td style=\"text-align:left\">\\(1\\)</td>\n",
       "<td style=\"text-align:left\">\\(\\frac{1}{4} \\psi^{2}\\)</td>\n",
       "<td style=\"text-align:left\">\\(\\frac{1}{4} \\psi^{2}\\)</td>\n",
       "<td style=\"text-align:left\">\\(\\psi - 1\\)</td>\n",
       "<td style=\"text-align:left\">\\(0\\)</td>\n",
       "<td style=\"text-align:left\">\\(0\\)</td>\n",
       "<td style=\"text-align:left\">\\(1\\)</td>\n",
       "</tr>\n",
       "<tr class =\"row-a\">\n",
       "<td style=\"text-align:left\">\\(2\\)</td>\n",
       "<td style=\"text-align:left\">\\(\\psi - 1\\)</td>\n",
       "<td style=\"text-align:left\">\\(0\\)</td>\n",
       "<td style=\"text-align:left\">\\(\\psi^{2} - \\psi\\)</td>\n",
       "<td style=\"text-align:left\">\\(1\\)</td>\n",
       "<td style=\"text-align:left\">\\(1\\)</td>\n",
       "<td style=\"text-align:left\">\\(0\\)</td>\n",
       "</tr>\n",
       "<tr class =\"row-b\">\n",
       "<td style=\"text-align:left\">\\(3\\)</td>\n",
       "<td style=\"text-align:left\">\\(\\frac{1}{3} \\psi^{2} + \\frac{1}{3} \\psi - \\frac{2}{3}\\)</td>\n",
       "<td style=\"text-align:left\">\\(0\\)</td>\n",
       "<td style=\"text-align:left\">\\(\\psi - 1\\)</td>\n",
       "<td style=\"text-align:left\">\\(1\\)</td>\n",
       "<td style=\"text-align:left\">\\(0\\)</td>\n",
       "<td style=\"text-align:left\">\\(1\\)</td>\n",
       "</tr>\n",
       "<tr class =\"row-a\">\n",
       "<td style=\"text-align:left\">\\(4\\)</td>\n",
       "<td style=\"text-align:left\">\\(\\frac{1}{3} \\psi - \\frac{1}{3}\\)</td>\n",
       "<td style=\"text-align:left\">\\(0\\)</td>\n",
       "<td style=\"text-align:left\">\\(\\frac{1}{3} \\psi^{2} + \\frac{1}{3} \\psi - \\frac{2}{3}\\)</td>\n",
       "<td style=\"text-align:left\">\\(1\\)</td>\n",
       "<td style=\"text-align:left\">\\(0\\)</td>\n",
       "<td style=\"text-align:left\">\\(1\\)</td>\n",
       "</tr>\n",
       "<tr class =\"row-b\">\n",
       "<td style=\"text-align:left\">\\(5\\)</td>\n",
       "<td style=\"text-align:left\">\\(\\psi^{2} + \\psi - 4\\)</td>\n",
       "<td style=\"text-align:left\">\\(0\\)</td>\n",
       "<td style=\"text-align:left\">\\(\\psi - 1\\)</td>\n",
       "<td style=\"text-align:left\">\\(5\\)</td>\n",
       "<td style=\"text-align:left\">\\(0\\)</td>\n",
       "<td style=\"text-align:left\">\\(3\\)</td>\n",
       "</tr>\n",
       "<tr class =\"row-a\">\n",
       "<td style=\"text-align:left\">\\(6\\)</td>\n",
       "<td style=\"text-align:left\">\\(-\\frac{2}{3} \\psi^{2} + \\frac{1}{3} \\psi + \\frac{4}{3}\\)</td>\n",
       "<td style=\"text-align:left\">\\(0\\)</td>\n",
       "<td style=\"text-align:left\">\\(\\frac{1}{3} \\psi^{2} + \\frac{1}{3} \\psi - \\frac{2}{3}\\)</td>\n",
       "<td style=\"text-align:left\">\\(0\\)</td>\n",
       "<td style=\"text-align:left\">\\(0\\)</td>\n",
       "<td style=\"text-align:left\">\\(1\\)</td>\n",
       "</tr>\n",
       "<tr class =\"row-b\">\n",
       "<td style=\"text-align:left\">\\(7\\)</td>\n",
       "<td style=\"text-align:left\">\\(\\frac{1}{2} \\psi^{2} - 1\\)</td>\n",
       "<td style=\"text-align:left\">\\(0\\)</td>\n",
       "<td style=\"text-align:left\">\\(\\frac{1}{4} \\psi^{2} + \\frac{1}{2} \\psi - 1\\)</td>\n",
       "<td style=\"text-align:left\">\\(0\\)</td>\n",
       "<td style=\"text-align:left\">\\(0\\)</td>\n",
       "<td style=\"text-align:left\">\\(1\\)</td>\n",
       "</tr>\n",
       "<tr class =\"row-a\">\n",
       "<td style=\"text-align:left\">\\(8\\)</td>\n",
       "<td style=\"text-align:left\">\\(-\\frac{1}{5} \\psi^{2} + \\frac{1}{5} \\psi + \\frac{4}{5}\\)</td>\n",
       "<td style=\"text-align:left\">\\(0\\)</td>\n",
       "<td style=\"text-align:left\">\\(\\frac{2}{5} \\psi^{2} + \\frac{3}{5} \\psi - \\frac{8}{5}\\)</td>\n",
       "<td style=\"text-align:left\">\\(0\\)</td>\n",
       "<td style=\"text-align:left\">\\(0\\)</td>\n",
       "<td style=\"text-align:left\">\\(2\\)</td>\n",
       "</tr>\n",
       "<tr class =\"row-b\">\n",
       "<td style=\"text-align:left\">\\(9\\)</td>\n",
       "<td style=\"text-align:left\">\\(\\frac{1}{4} \\psi^{2}\\)</td>\n",
       "<td style=\"text-align:left\">\\(0\\)</td>\n",
       "<td style=\"text-align:left\">\\(\\psi - 1\\)</td>\n",
       "<td style=\"text-align:left\">\\(1\\)</td>\n",
       "<td style=\"text-align:left\">\\(0\\)</td>\n",
       "<td style=\"text-align:left\">\\(0\\)</td>\n",
       "</tr>\n",
       "<tr class =\"row-a\">\n",
       "<td style=\"text-align:left\">\\(10\\)</td>\n",
       "<td style=\"text-align:left\">\\(\\psi - 1\\)</td>\n",
       "<td style=\"text-align:left\">\\(0\\)</td>\n",
       "<td style=\"text-align:left\">\\(\\psi^{2} - \\psi\\)</td>\n",
       "<td style=\"text-align:left\">\\(1\\)</td>\n",
       "<td style=\"text-align:left\">\\(0\\)</td>\n",
       "<td style=\"text-align:left\">\\(0\\)</td>\n",
       "</tr>\n",
       "</tbody>\n",
       "</table>\n",
       "</div>"
      ],
      "text/plain": [
       "  $i$   $x_1$                        $x_2$       $x_3$\n",
       "├─────┼────────────────────────────┼───────────┼───────────────────────────┤\n",
       "  0     1                            psi         psi^2\n",
       "  1     1/4*psi^2                    1/4*psi^2   psi - 1\n",
       "  2     psi - 1                      0           psi^2 - psi\n",
       "  3     1/3*psi^2 + 1/3*psi - 2/3    0           psi - 1\n",
       "  4     1/3*psi - 1/3                0           1/3*psi^2 + 1/3*psi - 2/3\n",
       "  5     psi^2 + psi - 4              0           psi - 1\n",
       "  6     -2/3*psi^2 + 1/3*psi + 4/3   0           1/3*psi^2 + 1/3*psi - 2/3\n",
       "  7     1/2*psi^2 - 1                0           1/4*psi^2 + 1/2*psi - 1\n",
       "  8     -1/5*psi^2 + 1/5*psi + 4/5   0           2/5*psi^2 + 3/5*psi - 8/5\n",
       "  9     1/4*psi^2                    0           psi - 1\n",
       "  10    psi - 1                      0           psi^2 - psi"
      ]
     },
     "execution_count": 19,
     "metadata": {},
     "output_type": "execute_result"
    }
   ],
   "source": [
    "rows = []\n",
    "for i in range(len(indices) + 1):\n",
    "    ys, coeffs = pivot(xs, *indices[:i])\n",
    "    coeffs.insert(0, (0, 0, 0))\n",
    "    rows.append((i, *ys, *coeffs[-1]))\n",
    "table(rows, header_row=['$i$', '$x_1$', '$x_2$', '$x_3$'])"
   ]
  },
  {
   "cell_type": "code",
   "execution_count": 130,
   "id": "69520e2e-12a3-4171-baa0-d4477b43be66",
   "metadata": {},
   "outputs": [
    {
     "data": {
      "text/html": [
       "<html>\\(\\displaystyle \\left(2, 8\\right)\\)</html>"
      ],
      "text/latex": [
       "$\\displaystyle \\left(2, 8\\right)$"
      ],
      "text/plain": [
       "(2, 8)"
      ]
     },
     "execution_count": 130,
     "metadata": {},
     "output_type": "execute_result"
    }
   ],
   "source": [
    "ys = xs\n",
    "index = {ys: 0}\n",
    "for i, l in enumerate(indices):\n",
    "    ys = pivot(ys, l)[0]\n",
    "    if ys in index:\n",
    "        period_start, period_end = index[ys], i + 1\n",
    "        break\n",
    "    index[ys] = i + 1\n",
    "period_start, period_end"
   ]
  },
  {
   "cell_type": "markdown",
   "id": "b87950d8-ce50-4da0-a8f8-391f162185e4",
   "metadata": {},
   "source": [
    "Why are the alternatives worse?"
   ]
  },
  {
   "cell_type": "code",
   "execution_count": 133,
   "id": "913f8f66-8025-466b-884c-a34bb9d392d0",
   "metadata": {},
   "outputs": [
    {
     "data": {
      "text/html": [
       "<div class=\"notruncate\">\n",
       "<table  class=\"table_form\">\n",
       "<tbody>\n",
       "<tr>\n",
       "<th style=\"text-align:left\">\\(\\ell\\)</th>\n",
       "<th style=\"text-align:left\">\\(x\\)</th>\n",
       "<th style=\"text-align:left\">\\(x^{(0)}\\)</th>\n",
       "<th style=\"text-align:left\">\\(x^{(1)}\\)</th>\n",
       "<th style=\"text-align:left\">\\(x^{(2)}\\)</th>\n",
       "</tr>\n",
       "<tr class =\"row-a\">\n",
       "<td style=\"text-align:left\">\\(0\\)</td>\n",
       "<td style=\"text-align:left\">\\(\\left(3.65930571002297, 1.00000000000000, 1.91293118277239\\right)\\)</td>\n",
       "<td style=\"text-align:left\">\\(\\left(0, 0, 0\\right)\\)</td>\n",
       "<td style=\"text-align:left\">\\(\\left(0, 0, 0\\right)\\)</td>\n",
       "<td style=\"text-align:left\">\\(\\left(1, 0, 0\\right)\\)</td>\n",
       "</tr>\n",
       "<tr class =\"row-b\">\n",
       "<td style=\"text-align:left\">\\(0\\)</td>\n",
       "<td style=\"text-align:left\">\\(\\left(0.273275883253198, 0.273275883253198, 0.522757958574710\\right)\\)</td>\n",
       "<td style=\"text-align:left\">\\(\\left(3, 1, 1\\right)\\)</td>\n",
       "<td style=\"text-align:left\">\\(\\left(1, 3, 1\\right)\\)</td>\n",
       "<td style=\"text-align:left\">\\(\\left(0, 0, 1\\right)\\)</td>\n",
       "</tr>\n",
       "<tr class =\"row-a\">\n",
       "<td style=\"text-align:left\">\\(2\\)</td>\n",
       "<td style=\"text-align:left\">\\(\\left(0.659305710022972, 0.000000000000000, 0.912931182772389\\right)\\)</td>\n",
       "<td style=\"text-align:left\">\\(\\left(1, 0, 1\\right)\\)</td>\n",
       "<td style=\"text-align:left\">\\(\\left(0, 0, 0\\right)\\)</td>\n",
       "<td style=\"text-align:left\">\\(\\left(0, 0, 1\\right)\\)</td>\n",
       "</tr>\n",
       "<tr class =\"row-b\">\n",
       "<td style=\"text-align:left\">\\(0\\)</td>\n",
       "<td style=\"text-align:left\">\\(\\left(0.722185551840602, 0.000000000000000, 0.0953728154658935\\right)\\)</td>\n",
       "<td style=\"text-align:left\">\\(\\left(1, 0, 0\\right)\\)</td>\n",
       "<td style=\"text-align:left\">\\(\\left(0, 0, 0\\right)\\)</td>\n",
       "<td style=\"text-align:left\">\\(\\left(7, 0, 10\\right)\\)</td>\n",
       "</tr>\n",
       "<tr class =\"row-a\">\n",
       "<td style=\"text-align:left\">\\(2\\)</td>\n",
       "<td style=\"text-align:left\">\\(\\left(0.384685691165303, 0.000000000000000, 0.132061372901772\\right)\\)</td>\n",
       "<td style=\"text-align:left\">\\(\\left(2, 0, 0\\right)\\)</td>\n",
       "<td style=\"text-align:left\">\\(\\left(0, 0, 0\\right)\\)</td>\n",
       "<td style=\"text-align:left\">\\(\\left(2, 0, 7\\right)\\)</td>\n",
       "</tr>\n",
       "<tr class =\"row-b\">\n",
       "<td style=\"text-align:left\">\\(2\\)</td>\n",
       "<td style=\"text-align:left\">\\(\\left(0.912931182772389, 0.000000000000000, 0.572236892795360\\right)\\)</td>\n",
       "<td style=\"text-align:left\">\\(\\left(1, 0, 0\\right)\\)</td>\n",
       "<td style=\"text-align:left\">\\(\\left(0, 0, 0\\right)\\)</td>\n",
       "<td style=\"text-align:left\">\\(\\left(1, 0, 1\\right)\\)</td>\n",
       "</tr>\n",
       "<tr class =\"row-a\">\n",
       "<td style=\"text-align:left\">\\(0\\)</td>\n",
       "<td style=\"text-align:left\">\\(\\left(0.595372815465893, 0.000000000000000, 0.747528012594625\\right)\\)</td>\n",
       "<td style=\"text-align:left\">\\(\\left(1, 0, 1\\right)\\)</td>\n",
       "<td style=\"text-align:left\">\\(\\left(0, 0, 0\\right)\\)</td>\n",
       "<td style=\"text-align:left\">\\(\\left(0, 0, 1\\right)\\)</td>\n",
       "</tr>\n",
       "<tr class =\"row-b\">\n",
       "<td style=\"text-align:left\">\\(2\\)</td>\n",
       "<td style=\"text-align:left\">\\(\\left(0.679619851668028, 0.000000000000000, 0.255562889631880\\right)\\)</td>\n",
       "<td style=\"text-align:left\">\\(\\left(1, 0, 0\\right)\\)</td>\n",
       "<td style=\"text-align:left\">\\(\\left(0, 0, 0\\right)\\)</td>\n",
       "<td style=\"text-align:left\">\\(\\left(2, 0, 3\\right)\\)</td>\n",
       "</tr>\n",
       "</tbody>\n",
       "</table>\n",
       "</div>"
      ],
      "text/plain": [
       "  $\\ell$   $x$                                                          $x^{(0)}$   $x^{(1)}$   $x^{(2)}\n",
       "├────────┼────────────────────────────────────────────────────────────┼───────────┼───────────┼────────────┤\n",
       "  0        (3.65930571002297, 1.00000000000000, 1.91293118277239)       (0, 0, 0)   (0, 0, 0)   (1, 0, 0)\n",
       "  0        (0.273275883253198, 0.273275883253198, 0.522757958574710)    (3, 1, 1)   (1, 3, 1)   (0, 0, 1)\n",
       "  2        (0.659305710022972, 0.000000000000000, 0.912931182772389)    (1, 0, 1)   (0, 0, 0)   (0, 0, 1)\n",
       "  0        (0.722185551840602, 0.000000000000000, 0.0953728154658935)   (1, 0, 0)   (0, 0, 0)   (7, 0, 10)\n",
       "  2        (0.384685691165303, 0.000000000000000, 0.132061372901772)    (2, 0, 0)   (0, 0, 0)   (2, 0, 7)\n",
       "  2        (0.912931182772389, 0.000000000000000, 0.572236892795360)    (1, 0, 0)   (0, 0, 0)   (1, 0, 1)\n",
       "  0        (0.595372815465893, 0.000000000000000, 0.747528012594625)    (1, 0, 1)   (0, 0, 0)   (0, 0, 1)\n",
       "  2        (0.679619851668028, 0.000000000000000, 0.255562889631880)    (1, 0, 0)   (0, 0, 0)   (2, 0, 3)"
      ]
     },
     "execution_count": 133,
     "metadata": {},
     "output_type": "execute_result"
    }
   ],
   "source": [
    "ys = xs\n",
    "rows = []\n",
    "for i, l in enumerate(indices):\n",
    "    row = [l, tuple(RR(y) for y in ys)]\n",
    "    for k in range(len(ys)):\n",
    "        if frac(ys[k]) != 0:\n",
    "            _, zs = pivot(ys, k)\n",
    "            row += zs\n",
    "        else:\n",
    "            row.append((0, 0, 0))\n",
    "    ys, _ = pivot(ys, l)\n",
    "    rows.append(row)\n",
    "table(rows, header_row=[r'$\\ell$', '$x$', '$x^{(0)}$', '$x^{(1)}$', '$x^{(2)}'])"
   ]
  },
  {
   "cell_type": "code",
   "execution_count": null,
   "id": "a9128ce2-9b4b-48c5-b106-43f1b272e1ed",
   "metadata": {},
   "outputs": [],
   "source": []
  }
 ],
 "metadata": {
  "kernelspec": {
   "display_name": "SageMath 10.5",
   "language": "sage",
   "name": "sagemath"
  },
  "language_info": {
   "codemirror_mode": {
    "name": "ipython",
    "version": 3
   },
   "file_extension": ".py",
   "mimetype": "text/x-python",
   "name": "python",
   "nbconvert_exporter": "python",
   "pygments_lexer": "ipython3",
   "version": "3.13.1"
  }
 },
 "nbformat": 4,
 "nbformat_minor": 5
}
