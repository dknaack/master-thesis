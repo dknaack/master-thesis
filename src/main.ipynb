{
 "cells": [
  {
   "cell_type": "code",
   "execution_count": 135,
   "id": "50144a0e-af61-4b8f-8913-588c30c8f10d",
   "metadata": {},
   "outputs": [],
   "source": [
    "%display latex\n",
    "from utils import *"
   ]
  },
  {
   "cell_type": "markdown",
   "id": "caa40164-ed5f-49fb-b644-b48d4a2446e5",
   "metadata": {},
   "source": [
    "The modified update rule does not use a negative for the other indices.\n",
    "$$\n",
    "  x_i = \n",
    "  \\begin{cases}\n",
    "    \\frac{1}{x_i}, & \\text{ if } i = \\ell, \\\\\n",
    "    \\frac{x_i}{x_\\ell}, & \\text{ otherwise.} \\\\\n",
    "  \\end{cases}\n",
    "$$"
   ]
  },
  {
   "cell_type": "markdown",
   "id": "a07e3823-df27-4e1f-b272-8b213636f355",
   "metadata": {},
   "source": [
    "# Brute-Force Search\n",
    "\n",
    "The brute-force search is done in a breadth-first fashion.\n",
    "We try every list of length $n$ and then every list of length $n + 1$,\n",
    "until we find a period in the representation."
   ]
  },
  {
   "cell_type": "code",
   "execution_count": 136,
   "id": "ddf7622b-688a-4b3a-8110-746ba1afab46",
   "metadata": {},
   "outputs": [],
   "source": [
    "def brute_force(xs, max_depth, exhaustive=False):\n",
    "    indices = [0]\n",
    "    result = None\n",
    "    d = len(xs)\n",
    "    while indices:\n",
    "        init, repeat = get_period(xs, indices[1:])\n",
    "        if repeat:\n",
    "            if not exhaustive:\n",
    "                return init, repeat\n",
    "            if not result:\n",
    "                result = []\n",
    "            result.append((init, repeat))\n",
    "        indices = increment_nary(indices, d, max_depth + 1)\n",
    "    return result\n",
    "\n",
    "def brute_force_2d(xs, max_depth, exhaustive=False):\n",
    "    def get_indices_list(indices_value):\n",
    "        result = []\n",
    "        while indices_value > 0:\n",
    "            if indices_value & 1 != 0:\n",
    "                result.append(1)\n",
    "            else:\n",
    "                result.append(0)\n",
    "            indices_value >>= 1\n",
    "        return result[:-1]\n",
    "        \n",
    "    indices = 0\n",
    "    result = None\n",
    "    d = len(xs)\n",
    "    while indices < (2 << max_depth):\n",
    "        init, repeat = get_period(xs, get_indices_list(indices))\n",
    "        if repeat:\n",
    "            if not exhaustive:\n",
    "                return init, repeat\n",
    "            if not result:\n",
    "                result = []\n",
    "            result.append((init, repeat))\n",
    "        indices += 1\n",
    "    return result"
   ]
  },
  {
   "cell_type": "markdown",
   "id": "f2ef6d7b-7928-4564-b60c-48d97a99a390",
   "metadata": {},
   "source": [
    "Here is, for example, the period for $\\sqrt[3]{4}$. Notably, this value likely doesn't have a periodic representation in the Jacobi-Perron algorithm. First, the pivots which lead to a period are shown. The period is marked with a line over the pivots. The actual representation of $\\sqrt[3]{4}$ is shown in the next block."
   ]
  },
  {
   "cell_type": "code",
   "execution_count": 137,
   "id": "fbba6175-3f37-4354-b771-e5ada41020eb",
   "metadata": {},
   "outputs": [
    {
     "data": {
      "text/html": [
       "<html>\\(\\displaystyle [0, \\overline{1, 0, 0, 1, 0, 0, 0}]\\)</html>"
      ],
      "text/latex": [
       "$\\displaystyle [0, \\overline{1, 0, 0, 1, 0, 0, 0}]$"
      ],
      "text/plain": [
       "[0, \\overline{1, 0, 0, 1, 0, 0, 0}]"
      ]
     },
     "metadata": {},
     "output_type": "display_data"
    },
    {
     "data": {
      "text/html": [
       "<html>\\(\\displaystyle \\left[\\left(1, 3\\right), \\left(1, 0\\right), \\left(0, 1\\right), \\left(7, 2\\right), \\left(1, 1\\right), \\left(1, 1\\right), \\left(3, 2\\right), \\left(1, 0\\right)\\right]\\)</html>"
      ],
      "text/latex": [
       "$\\displaystyle \\left[\\left(1, 3\\right), \\left(1, 0\\right), \\left(0, 1\\right), \\left(7, 2\\right), \\left(1, 1\\right), \\left(1, 1\\right), \\left(3, 2\\right), \\left(1, 0\\right)\\right]$"
      ],
      "text/plain": [
       "[(1, 3), (1, 0), (0, 1), (7, 2), (1, 1), (1, 1), (3, 2), (1, 0)]"
      ]
     },
     "metadata": {},
     "output_type": "display_data"
    },
    {
     "data": {
      "text/html": [
       "<html>\\(\\displaystyle 0.000660066869158871\\)</html>"
      ],
      "text/latex": [
       "$\\displaystyle 0.000660066869158871$"
      ],
      "text/plain": [
       "0.000660066869158871"
      ]
     },
     "metadata": {},
     "output_type": "display_data"
    }
   ],
   "source": [
    "d = 2\n",
    "p = x^3 - 7\n",
    "K.<alpha> = NumberField(p, embedding=RR(1))\n",
    "\n",
    "xs = (alpha, alpha^2)\n",
    "init, repeat = brute_force_2d(xs, 15)\n",
    "pretty_print(pretty_continued_fraction(init, repeat))\n",
    "pretty_print(list(get_coeffs(xs, *init, *repeat)))\n",
    "pretty_print(RR(get_decrease(xs, *init, *repeat)))"
   ]
  },
  {
   "cell_type": "code",
   "execution_count": 4,
   "id": "15044042-e0d9-4d11-b001-000e2edcf698",
   "metadata": {},
   "outputs": [
    {
     "ename": "TypeError",
     "evalue": "tuple indices must be integers or slices, not list",
     "output_type": "error",
     "traceback": [
      "\u001b[0;31m---------------------------------------------------------------------------\u001b[0m",
      "\u001b[0;31mTypeError\u001b[0m                                 Traceback (most recent call last)",
      "Cell \u001b[0;32mIn[4], line 1\u001b[0m\n\u001b[0;32m----> 1\u001b[0m \u001b[43mperiodic_pivot_table\u001b[49m\u001b[43m(\u001b[49m\u001b[43mxs\u001b[49m\u001b[43m,\u001b[49m\u001b[43m \u001b[49m\u001b[43minit\u001b[49m\u001b[43m,\u001b[49m\u001b[43m \u001b[49m\u001b[43mrepeat\u001b[49m\u001b[43m)\u001b[49m\n",
      "Cell \u001b[0;32mIn[2], line 33\u001b[0m, in \u001b[0;36mperiodic_pivot_table\u001b[0;34m(xs, init, repeat)\u001b[0m\n\u001b[1;32m     32\u001b[0m \u001b[38;5;28;01mdef\u001b[39;00m\u001b[38;5;250m \u001b[39m\u001b[38;5;21mperiodic_pivot_table\u001b[39m(xs, init, repeat):\n\u001b[0;32m---> 33\u001b[0m     \u001b[38;5;28;01mreturn\u001b[39;00m \u001b[43mpivot_table\u001b[49m\u001b[43m(\u001b[49m\u001b[43mxs\u001b[49m\u001b[43m,\u001b[49m\u001b[43m \u001b[49m\u001b[43minit\u001b[49m\u001b[43m \u001b[49m\u001b[38;5;241;43m+\u001b[39;49m\u001b[43m \u001b[49m\u001b[43mrepeat\u001b[49m\u001b[43m \u001b[49m\u001b[38;5;241;43m+\u001b[39;49m\u001b[43m \u001b[49m\u001b[43m[\u001b[49m\u001b[43mrepeat\u001b[49m\u001b[43m[\u001b[49m\u001b[43mInteger\u001b[49m\u001b[43m(\u001b[49m\u001b[38;5;241;43m0\u001b[39;49m\u001b[43m)\u001b[49m\u001b[43m]\u001b[49m\u001b[43m]\u001b[49m\u001b[43m)\u001b[49m\n",
      "File \u001b[0;32m~/docs/20 Uni/ws24/thesis/src/utils.py:115\u001b[0m, in \u001b[0;36mpivot_table\u001b[0;34m(xs, indices)\u001b[0m\n\u001b[1;32m    113\u001b[0m values \u001b[38;5;241m=\u001b[39m get_values(xs, indices)\n\u001b[1;32m    114\u001b[0m coeffs \u001b[38;5;241m=\u001b[39m get_coeffs(xs, indices)\n\u001b[0;32m--> 115\u001b[0m \u001b[43m\u001b[49m\u001b[38;5;28;43;01mfor\u001b[39;49;00m\u001b[43m \u001b[49m\u001b[43ml\u001b[49m\u001b[43m,\u001b[49m\u001b[43m \u001b[49m\u001b[43mxs\u001b[49m\u001b[43m,\u001b[49m\u001b[43m \u001b[49m\u001b[43mc\u001b[49m\u001b[43m \u001b[49m\u001b[38;5;129;43;01min\u001b[39;49;00m\u001b[43m \u001b[49m\u001b[38;5;28;43mzip\u001b[39;49m\u001b[43m(\u001b[49m\u001b[43mindices\u001b[49m\u001b[43m,\u001b[49m\u001b[43m \u001b[49m\u001b[43mvalues\u001b[49m\u001b[43m,\u001b[49m\u001b[43m \u001b[49m\u001b[43mcoeffs\u001b[49m\u001b[43m)\u001b[49m\u001b[43m:\u001b[49m\n\u001b[1;32m    116\u001b[0m \u001b[43m    \u001b[49m\u001b[43mrows\u001b[49m\u001b[38;5;241;43m.\u001b[39;49m\u001b[43mappend\u001b[49m\u001b[43m(\u001b[49m\u001b[38;5;28;43mtuple\u001b[39;49m\u001b[43m(\u001b[49m\u001b[43m[\u001b[49m\u001b[43ml\u001b[49m\u001b[43m,\u001b[49m\u001b[43m \u001b[49m\u001b[38;5;241;43m*\u001b[39;49m\u001b[43mxs\u001b[49m\u001b[43m,\u001b[49m\u001b[43m \u001b[49m\u001b[38;5;241;43m*\u001b[39;49m\u001b[43mc\u001b[49m\u001b[43m]\u001b[49m\u001b[43m)\u001b[49m\u001b[43m)\u001b[49m\n\u001b[1;32m    118\u001b[0m header_row \u001b[38;5;241m=\u001b[39m [\u001b[38;5;124mr\u001b[39m\u001b[38;5;124m'\u001b[39m\u001b[38;5;124m$\u001b[39m\u001b[38;5;124m\\\u001b[39m\u001b[38;5;124mell$\u001b[39m\u001b[38;5;124m'\u001b[39m, \u001b[38;5;124m'\u001b[39m\u001b[38;5;124m$x_1$\u001b[39m\u001b[38;5;124m'\u001b[39m, \u001b[38;5;124m'\u001b[39m\u001b[38;5;124m$x_2$\u001b[39m\u001b[38;5;124m'\u001b[39m, \u001b[38;5;124m'\u001b[39m\u001b[38;5;124m$x_1$\u001b[39m\u001b[38;5;124m'\u001b[39m, \u001b[38;5;124m'\u001b[39m\u001b[38;5;124m$x_2$\u001b[39m\u001b[38;5;124m'\u001b[39m, \u001b[38;5;124m'\u001b[39m\u001b[38;5;124m$a_1$\u001b[39m\u001b[38;5;124m'\u001b[39m, \u001b[38;5;124m'\u001b[39m\u001b[38;5;124m$a_2$\u001b[39m\u001b[38;5;124m'\u001b[39m]\n",
      "File \u001b[0;32m~/docs/20 Uni/ws24/thesis/src/utils.py:31\u001b[0m, in \u001b[0;36mget_coeffs\u001b[0;34m(xs, *indices)\u001b[0m\n\u001b[1;32m     27\u001b[0m \u001b[38;5;28;01mdef\u001b[39;00m\u001b[38;5;250m \u001b[39m\u001b[38;5;21mget_coeffs\u001b[39m(xs, \u001b[38;5;241m*\u001b[39mindices):\n\u001b[1;32m     28\u001b[0m \u001b[38;5;250m    \u001b[39m\u001b[38;5;124;03m\"\"\"\u001b[39;00m\n\u001b[1;32m     29\u001b[0m \u001b[38;5;124;03m    Returns a list of coefficients from each iteration.\u001b[39;00m\n\u001b[1;32m     30\u001b[0m \u001b[38;5;124;03m    \"\"\"\u001b[39;00m\n\u001b[0;32m---> 31\u001b[0m \u001b[43m    \u001b[49m\u001b[38;5;28;43;01mfor\u001b[39;49;00m\u001b[43m \u001b[49m\u001b[43mxs\u001b[49m\u001b[43m \u001b[49m\u001b[38;5;129;43;01min\u001b[39;49;00m\u001b[43m \u001b[49m\u001b[43mget_values\u001b[49m\u001b[43m(\u001b[49m\u001b[43mxs\u001b[49m\u001b[43m,\u001b[49m\u001b[43m \u001b[49m\u001b[43mindices\u001b[49m\u001b[43m)\u001b[49m\u001b[43m:\u001b[49m\n\u001b[1;32m     32\u001b[0m \u001b[43m        \u001b[49m\u001b[38;5;28;43;01myield\u001b[39;49;00m\u001b[43m \u001b[49m\u001b[38;5;28;43mtuple\u001b[39;49m\u001b[43m(\u001b[49m\u001b[43mfloor\u001b[49m\u001b[43m(\u001b[49m\u001b[43mRR\u001b[49m\u001b[43m(\u001b[49m\u001b[43mxi\u001b[49m\u001b[43m)\u001b[49m\u001b[43m)\u001b[49m\u001b[43m \u001b[49m\u001b[38;5;28;43;01mfor\u001b[39;49;00m\u001b[43m \u001b[49m\u001b[43mxi\u001b[49m\u001b[43m \u001b[49m\u001b[38;5;129;43;01min\u001b[39;49;00m\u001b[43m \u001b[49m\u001b[43mxs\u001b[49m\u001b[43m)\u001b[49m\n",
      "File \u001b[0;32m~/docs/20 Uni/ws24/thesis/src/utils.py:25\u001b[0m, in \u001b[0;36mget_values\u001b[0;34m(xs, indices)\u001b[0m\n\u001b[1;32m     23\u001b[0m \u001b[38;5;28;01mfor\u001b[39;00m l \u001b[38;5;129;01min\u001b[39;00m indices:\n\u001b[1;32m     24\u001b[0m     \u001b[38;5;28;01myield\u001b[39;00m xs\n\u001b[0;32m---> 25\u001b[0m     xs \u001b[38;5;241m=\u001b[39m \u001b[43mpivot\u001b[49m\u001b[43m(\u001b[49m\u001b[43mxs\u001b[49m\u001b[43m,\u001b[49m\u001b[43m \u001b[49m\u001b[43ml\u001b[49m\u001b[43m)\u001b[49m\n",
      "File \u001b[0;32m~/docs/20 Uni/ws24/thesis/src/utils.py:12\u001b[0m, in \u001b[0;36mpivot\u001b[0;34m(xs, *indices)\u001b[0m\n\u001b[1;32m     10\u001b[0m \u001b[38;5;28;01mfor\u001b[39;00m l \u001b[38;5;129;01min\u001b[39;00m indices:\n\u001b[1;32m     11\u001b[0m     ys \u001b[38;5;241m=\u001b[39m [\u001b[38;5;241m0\u001b[39m] \u001b[38;5;241m*\u001b[39m \u001b[38;5;28mlen\u001b[39m(xs)\n\u001b[0;32m---> 12\u001b[0m     xl \u001b[38;5;241m=\u001b[39m \u001b[43mxs\u001b[49m\u001b[43m[\u001b[49m\u001b[43ml\u001b[49m\u001b[43m]\u001b[49m\n\u001b[1;32m     13\u001b[0m     \u001b[38;5;28;01massert\u001b[39;00m frac(xl) \u001b[38;5;241m!=\u001b[39m \u001b[38;5;241m0\u001b[39m, \u001b[38;5;124m\"\u001b[39m\u001b[38;5;124mxl cannot be zero\u001b[39m\u001b[38;5;124m\"\u001b[39m\n\u001b[1;32m     14\u001b[0m     \u001b[38;5;28;01mfor\u001b[39;00m i, xi \u001b[38;5;129;01min\u001b[39;00m \u001b[38;5;28menumerate\u001b[39m(xs):\n",
      "\u001b[0;31mTypeError\u001b[0m: tuple indices must be integers or slices, not list"
     ]
    }
   ],
   "source": [
    "periodic_pivot_table(xs, init, repeat)"
   ]
  },
  {
   "cell_type": "code",
   "execution_count": 179,
   "id": "ed825ba0-aff1-448c-9173-69d6cf2bcf8f",
   "metadata": {},
   "outputs": [
    {
     "data": {
      "text/html": [
       "<div class=\"notruncate\">\n",
       "<table  class=\"table_form\">\n",
       "<tbody>\n",
       "<tr class =\"row-a\">\n",
       "<td style=\"text-align:left\">\\(0\\)</td>\n",
       "<td style=\"text-align:left\">\\(\\alpha\\)</td>\n",
       "<td style=\"text-align:left\">\\(\\alpha^{2} - \\alpha\\)</td>\n",
       "<td style=\"text-align:left\">\\(3.8473\\)</td>\n",
       "<td style=\"text-align:left\">\\(1.2599\\)</td>\n",
       "<td style=\"text-align:left\">\\(0.7937\\)</td>\n",
       "<td style=\"text-align:left\">\\(3.0536\\)</td>\n",
       "<td style=\"text-align:left\">\\(\\alpha^{2} + \\alpha + 1\\)</td>\n",
       "<td style=\"text-align:left\">\\(\\alpha\\)</td>\n",
       "<td style=\"text-align:left\">\\(\\frac{1}{2} \\alpha^{2}\\)</td>\n",
       "<td style=\"text-align:left\">\\(\\frac{1}{2} \\alpha^{2} + \\alpha + 1\\)</td>\n",
       "</tr>\n",
       "<tr class =\"row-b\">\n",
       "<td style=\"text-align:left\">\\(1\\)</td>\n",
       "<td style=\"text-align:left\">\\(\\alpha^{2} + \\alpha + 1\\)</td>\n",
       "<td style=\"text-align:left\">\\(\\alpha\\)</td>\n",
       "<td style=\"text-align:left\">\\(1.1802\\)</td>\n",
       "<td style=\"text-align:left\">\\(0.3068\\)</td>\n",
       "<td style=\"text-align:left\">\\(3.2599\\)</td>\n",
       "<td style=\"text-align:left\">\\(3.8473\\)</td>\n",
       "<td style=\"text-align:left\">\\(\\frac{3}{10} \\alpha^{2} + \\frac{2}{5} \\alpha + \\frac{1}{5}\\)</td>\n",
       "<td style=\"text-align:left\">\\(\\frac{1}{10} \\alpha^{2} - \\frac{1}{5} \\alpha + \\frac{2}{5}\\)</td>\n",
       "<td style=\"text-align:left\">\\(\\alpha + 2\\)</td>\n",
       "<td style=\"text-align:left\">\\(\\alpha^{2} + \\alpha + 1\\)</td>\n",
       "</tr>\n",
       "<tr class =\"row-a\">\n",
       "<td style=\"text-align:left\">\\(0\\)</td>\n",
       "<td style=\"text-align:left\">\\(\\alpha + 2\\)</td>\n",
       "<td style=\"text-align:left\">\\(\\alpha^{2} + \\alpha + 1\\)</td>\n",
       "<td style=\"text-align:left\">\\(3.8473\\)</td>\n",
       "<td style=\"text-align:left\">\\(3.2599\\)</td>\n",
       "<td style=\"text-align:left\">\\(0.3068\\)</td>\n",
       "<td style=\"text-align:left\">\\(1.1802\\)</td>\n",
       "<td style=\"text-align:left\">\\(\\alpha^{2} + \\alpha + 1\\)</td>\n",
       "<td style=\"text-align:left\">\\(\\alpha + 2\\)</td>\n",
       "<td style=\"text-align:left\">\\(\\frac{1}{10} \\alpha^{2} - \\frac{1}{5} \\alpha + \\frac{2}{5}\\)</td>\n",
       "<td style=\"text-align:left\">\\(\\frac{3}{10} \\alpha^{2} + \\frac{2}{5} \\alpha + \\frac{1}{5}\\)</td>\n",
       "</tr>\n",
       "<tr class =\"row-b\">\n",
       "<td style=\"text-align:left\">\\(1\\)</td>\n",
       "<td style=\"text-align:left\">\\(\\alpha^{2} + \\alpha + 1\\)</td>\n",
       "<td style=\"text-align:left\">\\(\\alpha + 2\\)</td>\n",
       "<td style=\"text-align:left\">\\(1.1802\\)</td>\n",
       "<td style=\"text-align:left\">\\(0.3068\\)</td>\n",
       "<td style=\"text-align:left\">\\(3.2599\\)</td>\n",
       "<td style=\"text-align:left\">\\(3.8473\\)</td>\n",
       "<td style=\"text-align:left\">\\(\\frac{3}{10} \\alpha^{2} + \\frac{2}{5} \\alpha + \\frac{1}{5}\\)</td>\n",
       "<td style=\"text-align:left\">\\(\\frac{1}{10} \\alpha^{2} - \\frac{1}{5} \\alpha + \\frac{2}{5}\\)</td>\n",
       "<td style=\"text-align:left\">\\(\\alpha + 2\\)</td>\n",
       "<td style=\"text-align:left\">\\(\\alpha^{2} + \\alpha + 1\\)</td>\n",
       "</tr>\n",
       "</tbody>\n",
       "</table>\n",
       "</div>"
      ],
      "text/plain": [
       "  0   alpha                 alpha^2 - alpha       3.8473   1.2599   0.7937   3.0536   alpha^2 + alpha + 1              alpha                            1/2*alpha^2                      1/2*alpha^2 + alpha + 1\n",
       "  1   alpha^2 + alpha + 1   alpha                 1.1802   0.3068   3.2599   3.8473   3/10*alpha^2 + 2/5*alpha + 1/5   1/10*alpha^2 - 1/5*alpha + 2/5   alpha + 2                        alpha^2 + alpha + 1\n",
       "  0   alpha + 2             alpha^2 + alpha + 1   3.8473   3.2599   0.3068   1.1802   alpha^2 + alpha + 1              alpha + 2                        1/10*alpha^2 - 1/5*alpha + 2/5   3/10*alpha^2 + 2/5*alpha + 1/5\n",
       "  1   alpha^2 + alpha + 1   alpha + 2             1.1802   0.3068   3.2599   3.8473   3/10*alpha^2 + 2/5*alpha + 1/5   1/10*alpha^2 - 1/5*alpha + 2/5   alpha + 2                        alpha^2 + alpha + 1"
      ]
     },
     "execution_count": 179,
     "metadata": {},
     "output_type": "execute_result"
    }
   ],
   "source": [
    "ys = xs\n",
    "rows = []\n",
    "for i in init + repeat:\n",
    "    def f(zs):\n",
    "        return frac(prod([z**d for z in zs]))\n",
    "    choices = [pivot(ys, l)[0] for l in range(d)]\n",
    "    row = [zs for l, zs in enumerate(choices)]\n",
    "    rows.append([i, *ys] + real_list(flatten(row)) + flatten(row))\n",
    "    ys, _ = pivot(ys, i)\n",
    "\n",
    "table(rows)"
   ]
  },
  {
   "cell_type": "markdown",
   "id": "5fb1d8d0-0987-4582-a52b-bdff315792a6",
   "metadata": {},
   "source": [
    "Period lengths for the first 28 numbers:"
   ]
  },
  {
   "cell_type": "code",
   "execution_count": 260,
   "id": "490e9a6a-77a6-4b5e-aceb-96d132c32903",
   "metadata": {},
   "outputs": [
    {
     "name": "stdout",
     "output_type": "stream",
     "text": [
      "2 2\n",
      "3 2\n",
      "4 8\n",
      "5 6\n",
      "6 8\n",
      "7 6\n",
      "9 2\n",
      "10 4\n",
      "11 6\n",
      "12 10\n",
      "13 6\n",
      "14 4\n",
      "15 6\n",
      "16 14\n",
      "17 8\n",
      "18 6\n",
      "19 6\n"
     ]
    }
   ],
   "source": [
    "for i in range(2, 20):\n",
    "    try:\n",
    "        K.<alpha> = NumberField(x^(d+1) - i, embedding=RR(1))\n",
    "        xs = tuple(sum(alpha^j for j in range(1, i + 1)) for i in range(1, d + 1))\n",
    "        init, repeat = brute_force(xs, 20)[0]\n",
    "        print(i, len(repeat))\n",
    "    except KeyboardInterrupt:\n",
    "        break\n",
    "    except:\n",
    "        pass"
   ]
  },
  {
   "cell_type": "markdown",
   "id": "ad710f83-b928-4a70-af19-3150f02db372",
   "metadata": {},
   "source": [
    "# Geometric Interpretation of the Continued Fractions"
   ]
  },
  {
   "cell_type": "code",
   "execution_count": 15,
   "id": "9ce96f5b-613a-4021-8441-43d4858361cb",
   "metadata": {},
   "outputs": [
    {
     "data": {
      "text/html": [
       "<html>\\(\\displaystyle 2\n",
       "+ \\frac{\\displaystyle 1}{\\displaystyle 1\n",
       "+ \\frac{\\displaystyle 1}{\\displaystyle 1\n",
       "+ \\frac{\\displaystyle 1}{\\displaystyle 1\n",
       "+ \\frac{\\displaystyle 1}{\\displaystyle 4\n",
       "+ \\frac{\\displaystyle 1}{\\displaystyle 1\n",
       "+ \\frac{\\displaystyle 1}{\\displaystyle 1\n",
       "+ \\frac{\\displaystyle 1}{\\displaystyle 1\n",
       "+ \\frac{\\displaystyle 1}{\\displaystyle 4\n",
       "+ \\frac{\\displaystyle 1}{\\displaystyle 1\n",
       "+ \\frac{\\displaystyle 1}{\\displaystyle \\dots}}}}}}}}}}\\)</html>"
      ],
      "text/latex": [
       "$\\displaystyle 2\n",
       "+ \\frac{\\displaystyle 1}{\\displaystyle 1\n",
       "+ \\frac{\\displaystyle 1}{\\displaystyle 1\n",
       "+ \\frac{\\displaystyle 1}{\\displaystyle 1\n",
       "+ \\frac{\\displaystyle 1}{\\displaystyle 4\n",
       "+ \\frac{\\displaystyle 1}{\\displaystyle 1\n",
       "+ \\frac{\\displaystyle 1}{\\displaystyle 1\n",
       "+ \\frac{\\displaystyle 1}{\\displaystyle 1\n",
       "+ \\frac{\\displaystyle 1}{\\displaystyle 4\n",
       "+ \\frac{\\displaystyle 1}{\\displaystyle 1\n",
       "+ \\frac{\\displaystyle 1}{\\displaystyle \\dots}}}}}}}}}}$"
      ],
      "text/plain": [
       "[2; 1, 1, 1, 4, 1, 1, 1, 4, 1, 1, 1, 4, 1, 1, 1, 4, 1, 1, 1, ...]"
      ]
     },
     "metadata": {},
     "output_type": "display_data"
    },
    {
     "data": {
      "text/html": [
       "<html>\\(\\displaystyle \\left[1, 1, 1, 1, 4, 1, 1, 1, 4, 1, 1, 1, 4, 1, 1, 1, 4, 1, 1, 1, 4, 1, 1, 1, 4, 1, 1, 1, 4, 1, 1, 1, 4, 1, 1, 1, 4, 1, 1, 1\\right]\\)</html>"
      ],
      "text/latex": [
       "$\\displaystyle \\left[1, 1, 1, 1, 4, 1, 1, 1, 4, 1, 1, 1, 4, 1, 1, 1, 4, 1, 1, 1, 4, 1, 1, 1, 4, 1, 1, 1, 4, 1, 1, 1, 4, 1, 1, 1, 4, 1, 1, 1\\right]$"
      ],
      "text/plain": [
       "[1,\n",
       " 1,\n",
       " 1,\n",
       " 1,\n",
       " 4,\n",
       " 1,\n",
       " 1,\n",
       " 1,\n",
       " 4,\n",
       " 1,\n",
       " 1,\n",
       " 1,\n",
       " 4,\n",
       " 1,\n",
       " 1,\n",
       " 1,\n",
       " 4,\n",
       " 1,\n",
       " 1,\n",
       " 1,\n",
       " 4,\n",
       " 1,\n",
       " 1,\n",
       " 1,\n",
       " 4,\n",
       " 1,\n",
       " 1,\n",
       " 1,\n",
       " 4,\n",
       " 1,\n",
       " 1,\n",
       " 1,\n",
       " 4,\n",
       " 1,\n",
       " 1,\n",
       " 1,\n",
       " 4,\n",
       " 1,\n",
       " 1,\n",
       " 1]"
      ]
     },
     "metadata": {},
     "output_type": "display_data"
    },
    {
     "data": {
      "image/png": "[encoded data removed]",
      "text/plain": [
       "Graphics object consisting of 9 graphics primitives"
      ]
     },
     "metadata": {},
     "output_type": "display_data"
    }
   ],
   "source": [
    "plot_size = 20\n",
    "\n",
    "alpha = sqrt(7)\n",
    "cf = continued_fraction(alpha)\n",
    "terms = [cf[:i+1].value() for i in range(40)]\n",
    "points = [(term.denominator(), term.numerator()) for term in terms]\n",
    "\n",
    "basis = [(0, 1), (1, 0)]\n",
    "points_even = [basis[1]] + points[0::2]\n",
    "points_odd = [basis[0]] + points[1::2]\n",
    "diff = basis + [(a[0] - b[0], a[1] - b[1]) for a, b in zip(points, points[1:])]\n",
    "\n",
    "lattice = point([(x, y) for x in range(plot_size + 1) for y in range(plot_size + 1)], color='gray')\n",
    "scene = [\n",
    "    lattice,\n",
    "    arrow((0, 0), (1, alpha), color='red'),\n",
    "    plot(alpha * x, (x, 0, 10), color='red'),\n",
    "    sum(arrow((0, 0), b, color='blue') for b in basis),\n",
    "    point(points_odd, color='red'),\n",
    "    line(points_odd, color='red'),\n",
    "    point(points_even, color='blue'),\n",
    "    line(points_even, color='blue'),\n",
    "]\n",
    "\n",
    "pretty_print(cf)\n",
    "pretty_print([abs(det(matrix([odd, even]))) for even, odd in zip(diff[:], diff[1:])])\n",
    "show(sum(scene), xmin=-0.5, xmax=plot_size, ymin=-0.5, ymax=plot_size)"
   ]
  },
  {
   "cell_type": "code",
   "execution_count": 36,
   "id": "d870ef8f-43ce-417f-bfc2-4552569936e3",
   "metadata": {},
   "outputs": [
    {
     "data": {
      "image/png": "[encoded data removed]",
      "text/plain": [
       "Graphics object consisting of 2 graphics primitives"
      ]
     },
     "metadata": {},
     "output_type": "display_data"
    }
   ],
   "source": [
    "x, y = var('x, y')\n",
    "\n",
    "show(lattice + implicit_plot(x^2 - 3 * y^2 == 1, (x, -10, 10), (y, -10, 10)),\n",
    "     xmin=-5, ymin=-5, xmax=5, ymax=5)"
   ]
  },
  {
   "cell_type": "markdown",
   "id": "a7ce77ba-03aa-4482-b753-3317a2067a00",
   "metadata": {
    "jp-MarkdownHeadingCollapsed": true
   },
   "source": [
    "# Equal Distance between Neighbors\n",
    "\n",
    "The first polynomial is the \"neighbor\" polynomial, which is derived from the following equation:\n",
    "$$\n",
    "  x_1 = \\frac{x_2}{x_1} - 1 = \\dots = \\frac{x_d}{x_{d-1}} - 1 = \\frac{1}{x_d} - 1.\n",
    "$$\n",
    "This results in the equation\n",
    "$$\n",
    "  x_d^{d+1} + x_d - 1 = 0, \\quad x_i = x_d^{d + 1 - i}\n",
    "$$"
   ]
  },
  {
   "cell_type": "code",
   "execution_count": 80,
   "id": "d05f5763-46d9-459d-a79a-3a9361c5af4a",
   "metadata": {},
   "outputs": [],
   "source": [
    "def neighbor_distance(xs):\n",
    "    dist = []\n",
    "    for x, y in zip([*xs, 1], [1, *xs]):\n",
    "        if y == 0 or x == 0:\n",
    "            dist.append(1)\n",
    "        else:\n",
    "            dist.append(frac(x / y))\n",
    "    return dist\n",
    "\n",
    "def distance_matrix(xs):\n",
    "    D = [[0 for _ in xs] for _ in xs]\n",
    "    for i, x in enumerate(xs):\n",
    "        for j, y in enumerate(xs):\n",
    "            if x == 0 or y == 0:\n",
    "                D[i][j] = 1\n",
    "            elif i == j:\n",
    "                D[i][j] = frac(1 / x)\n",
    "            else:\n",
    "                D[i][j] = frac(x / y)\n",
    "    return D\n",
    "\n",
    "def real_distance_matrix(xs):\n",
    "    dist = distance_matrix(xs)\n",
    "    return [[RR(d) for d in row] for row in dist]\n",
    "\n",
    "# Indices are zero-based. An index of -1 indicates selecting nothing in the first iteration and selecting 0 in the next iteration.\n",
    "# Similarly, d - 1 indicates selecting d - 1 in the first iteration and nothing in the next iteration.\n",
    "def select(xs):\n",
    "    min_index = None\n",
    "    min_dist = 1\n",
    "    for i, dist in enumerate(neighbor_distance(xs)):\n",
    "        if min_dist > dist:\n",
    "            min_dist = dist\n",
    "            min_index = i - 1\n",
    "    return min_index"
   ]
  },
  {
   "cell_type": "code",
   "execution_count": 160,
   "id": "8fea69c8-c05b-49e2-9d9b-3344cdd769cf",
   "metadata": {},
   "outputs": [
    {
     "data": {
      "text/html": [
       "<html>\\(\\displaystyle x^{6} + x - 1\\)</html>"
      ],
      "text/latex": [
       "$\\displaystyle x^{6} + x - 1$"
      ],
      "text/plain": [
       "x^6 + x - 1"
      ]
     },
     "execution_count": 160,
     "metadata": {},
     "output_type": "execute_result"
    }
   ],
   "source": [
    "def neighbor_poly(d):\n",
    "    return x ** (d+1) + x - 1\n",
    "neighbor_poly(5)"
   ]
  },
  {
   "cell_type": "markdown",
   "id": "ec814754-02be-426b-b5aa-b3badff9d0cf",
   "metadata": {},
   "source": [
    "The polynomial gives us the field $\\mathbb{Q}/ (x^{d+1} + x - 1)$."
   ]
  },
  {
   "cell_type": "code",
   "execution_count": 195,
   "id": "f44037d6-f2aa-4e0c-b2dd-843cc04e9b43",
   "metadata": {},
   "outputs": [
    {
     "data": {
      "text/html": [
       "<html>\\(\\displaystyle \\newcommand{\\Bold}[1]{\\mathbf{#1}}\\Bold{Q}[\\psi]/(\\psi^{4} + \\psi - 1)\\)</html>"
      ],
      "text/latex": [
       "$\\displaystyle \\newcommand{\\Bold}[1]{\\mathbf{#1}}\\Bold{Q}[\\psi]/(\\psi^{4} + \\psi - 1)$"
      ],
      "text/plain": [
       "Number Field in psi with defining polynomial x^4 + x - 1 with psi = 0.7244919590005156?"
      ]
     },
     "execution_count": 195,
     "metadata": {},
     "output_type": "execute_result"
    }
   ],
   "source": [
    "d = 3\n",
    "p = neighbor_poly(d)\n",
    "K.<psi> = NumberField(p, embedding=RR(0.5))\n",
    "K"
   ]
  },
  {
   "cell_type": "markdown",
   "id": "b178f796-e667-4b5a-8368-b7429ff4736f",
   "metadata": {},
   "source": [
    "For our input, we choose $x_i = \\psi^{d+1-i}$."
   ]
  },
  {
   "cell_type": "code",
   "execution_count": 196,
   "id": "40294f8a-c002-4a84-aedb-2b2a0a01d345",
   "metadata": {},
   "outputs": [
    {
     "data": {
      "text/html": [
       "<div class=\"notruncate\">\n",
       "<table  class=\"table_form\">\n",
       "<tbody>\n",
       "<tr>\n",
       "<th style=\"text-align:left\">\\(i\\)</th>\n",
       "<th style=\"text-align:left\">\\(x_i\\)</th>\n",
       "</tr>\n",
       "<tr class =\"row-a\">\n",
       "<td style=\"text-align:left\">\\(0\\)</td>\n",
       "<td style=\"text-align:left\">\\(\\psi^{3}\\)</td>\n",
       "<td style=\"text-align:left\">\\(0.380277569097614\\)</td>\n",
       "</tr>\n",
       "<tr class =\"row-b\">\n",
       "<td style=\"text-align:left\">\\(1\\)</td>\n",
       "<td style=\"text-align:left\">\\(\\psi^{2}\\)</td>\n",
       "<td style=\"text-align:left\">\\(0.524888598656405\\)</td>\n",
       "</tr>\n",
       "<tr class =\"row-a\">\n",
       "<td style=\"text-align:left\">\\(2\\)</td>\n",
       "<td style=\"text-align:left\">\\(\\psi\\)</td>\n",
       "<td style=\"text-align:left\">\\(0.724491959000516\\)</td>\n",
       "</tr>\n",
       "</tbody>\n",
       "</table>\n",
       "</div>"
      ],
      "text/plain": [
       "  $i$   $x_i$\n",
       "├─────┼───────┤\n",
       "  0     psi^3\n",
       "  1     psi^2\n",
       "  2     psi"
      ]
     },
     "execution_count": 196,
     "metadata": {},
     "output_type": "execute_result"
    }
   ],
   "source": [
    "xs = tuple(sorted([psi^(d+1-i) for i in range(1,d+1)]))\n",
    "\n",
    "table([(i, x,RR(x)) for i, x in enumerate(xs)], header_row=[r'$i$', r'$x_i$'])"
   ]
  },
  {
   "cell_type": "markdown",
   "id": "7b8e6f2e-a1d6-4667-9307-6a4604c49907",
   "metadata": {},
   "source": [
    "The distance between neighbors is indeed the same."
   ]
  },
  {
   "cell_type": "code",
   "execution_count": 197,
   "id": "0c8ad6fc-a36b-43c4-a30d-6dadc78b3fe6",
   "metadata": {},
   "outputs": [
    {
     "data": {
      "text/html": [
       "<div class=\"notruncate\">\n",
       "<table  class=\"table_form\">\n",
       "<tbody>\n",
       "<tr class =\"row-a\">\n",
       "<td style=\"text-align:left\">\\(\\psi^{3}\\)</td>\n",
       "<td style=\"text-align:left\">\\(\\psi^{3}\\)</td>\n",
       "<td style=\"text-align:left\">\\(\\psi^{3}\\)</td>\n",
       "<td style=\"text-align:left\">\\(\\psi^{3}\\)</td>\n",
       "</tr>\n",
       "<tr class =\"row-b\">\n",
       "<td style=\"text-align:left\">\\(0.38\\)</td>\n",
       "<td style=\"text-align:left\">\\(0.38\\)</td>\n",
       "<td style=\"text-align:left\">\\(0.38\\)</td>\n",
       "<td style=\"text-align:left\">\\(0.38\\)</td>\n",
       "</tr>\n",
       "</tbody>\n",
       "</table>\n",
       "</div>"
      ],
      "text/plain": [
       "  psi^3   psi^3   psi^3   psi^3\n",
       "  0.38    0.38    0.38    0.38"
      ]
     },
     "execution_count": 197,
     "metadata": {},
     "output_type": "execute_result"
    }
   ],
   "source": [
    "dist = neighbor_distance(xs)\n",
    "\n",
    "table([dist, [round(RR(d), 3) for d in dist]])"
   ]
  },
  {
   "cell_type": "markdown",
   "id": "746085a8-9e80-416f-b827-cb5d3c62d8b6",
   "metadata": {},
   "source": [
    "Therefore, we can expect a decrease of at least $\\psi^3$ over two iterations. However, this condition does not hold up after those two iterations when choosing any element to pivot with. It only holds up if we choose the maximum $x_d$ of those elements. Choosing any other pivot, destroys this solution."
   ]
  },
  {
   "cell_type": "code",
   "execution_count": 199,
   "id": "2bba46fd-dc20-45ca-891f-c9032c299727",
   "metadata": {},
   "outputs": [
    {
     "data": {
      "text/html": [
       "<div class=\"notruncate\">\n",
       "<table  class=\"table_form\">\n",
       "<tbody>\n",
       "<tr>\n",
       "<th style=\"text-align:center\">\\(x_1\\)</th>\n",
       "<th style=\"text-align:center\">\\(x_2\\)</th>\n",
       "<th style=\"text-align:center\">\\(x_3\\)</th>\n",
       "<th style=\"text-align:center\">\\(\\{x_{1}/x_{0}\\}\\)</th>\n",
       "<th style=\"text-align:center\">\\(\\{x_{2}/x_{1}\\}\\)</th>\n",
       "<th style=\"text-align:center\">\\(\\{x_{3}/x_{2}\\}\\)</th>\n",
       "<th style=\"text-align:center\">\\(\\{x_{4}/x_{3}\\}\\)</th>\n",
       "<th style=\"text-align:center\">\\(\\ell_1\\)</th>\n",
       "<th style=\"text-align:center\">\\(\\ell_2\\)</th>\n",
       "</tr>\n",
       "<tr class =\"row-a\">\n",
       "<td style=\"text-align:center\">\\(0.38\\)</td>\n",
       "<td style=\"text-align:center\">\\(0.525\\)</td>\n",
       "<td style=\"text-align:center\">\\(0.724\\)</td>\n",
       "<td style=\"text-align:center\">\\(0.38\\)</td>\n",
       "<td style=\"text-align:center\">\\(0.38\\)</td>\n",
       "<td style=\"text-align:center\">\\(0.38\\)</td>\n",
       "<td style=\"text-align:center\">\\(0.38\\)</td>\n",
       "<td style=\"text-align:center\">-</td>\n",
       "<td style=\"text-align:center\">\\(0\\)</td>\n",
       "</tr>\n",
       "<tr class =\"row-b\">\n",
       "<td style=\"text-align:center\">\\(2.63\\)</td>\n",
       "<td style=\"text-align:center\">\\(1.38\\)</td>\n",
       "<td style=\"text-align:center\">\\(1.905\\)</td>\n",
       "<td style=\"text-align:center\">\\(0.63\\)</td>\n",
       "<td style=\"text-align:center\">\\(0.525\\)</td>\n",
       "<td style=\"text-align:center\">\\(0.38\\)</td>\n",
       "<td style=\"text-align:center\">\\(0.525\\)</td>\n",
       "<td style=\"text-align:center\">\\(1\\)</td>\n",
       "<td style=\"text-align:center\">\\(2\\)</td>\n",
       "</tr>\n",
       "<tr class =\"row-a\">\n",
       "<td style=\"text-align:center\">\\(1.724\\)</td>\n",
       "<td style=\"text-align:center\">\\(1.656\\)</td>\n",
       "<td style=\"text-align:center\">\\(2.63\\)</td>\n",
       "<td style=\"text-align:center\">\\(0.724\\)</td>\n",
       "<td style=\"text-align:center\">\\(0.96\\)</td>\n",
       "<td style=\"text-align:center\">\\(0.588\\)</td>\n",
       "<td style=\"text-align:center\">\\(0.38\\)</td>\n",
       "<td style=\"text-align:center\">\\(2\\)</td>\n",
       "<td style=\"text-align:center\">-</td>\n",
       "</tr>\n",
       "<tr class =\"row-b\">\n",
       "<td style=\"text-align:center\">\\(1.151\\)</td>\n",
       "<td style=\"text-align:center\">\\(1.041\\)</td>\n",
       "<td style=\"text-align:center\">\\(1.588\\)</td>\n",
       "<td style=\"text-align:center\">\\(0.151\\)</td>\n",
       "<td style=\"text-align:center\">\\(0.905\\)</td>\n",
       "<td style=\"text-align:center\">\\(0.525\\)</td>\n",
       "<td style=\"text-align:center\">\\(0.63\\)</td>\n",
       "<td style=\"text-align:center\">-</td>\n",
       "<td style=\"text-align:center\">\\(0\\)</td>\n",
       "</tr>\n",
       "<tr class =\"row-a\">\n",
       "<td style=\"text-align:center\">\\(6.64\\)</td>\n",
       "<td style=\"text-align:center\">\\(0.276\\)</td>\n",
       "<td style=\"text-align:center\">\\(3.905\\)</td>\n",
       "<td style=\"text-align:center\">\\(0.64\\)</td>\n",
       "<td style=\"text-align:center\">\\(0.041\\)</td>\n",
       "<td style=\"text-align:center\">\\(0.174\\)</td>\n",
       "<td style=\"text-align:center\">\\(0.256\\)</td>\n",
       "<td style=\"text-align:center\">\\(0\\)</td>\n",
       "<td style=\"text-align:center\">\\(1\\)</td>\n",
       "</tr>\n",
       "<tr class =\"row-b\">\n",
       "<td style=\"text-align:center\">\\(1.308\\)</td>\n",
       "<td style=\"text-align:center\">\\(2.322\\)</td>\n",
       "<td style=\"text-align:center\">\\(0.964\\)</td>\n",
       "<td style=\"text-align:center\">\\(0.308\\)</td>\n",
       "<td style=\"text-align:center\">\\(0.775\\)</td>\n",
       "<td style=\"text-align:center\">\\(0.415\\)</td>\n",
       "<td style=\"text-align:center\">\\(0.037\\)</td>\n",
       "<td style=\"text-align:center\">\\(2\\)</td>\n",
       "<td style=\"text-align:center\">-</td>\n",
       "</tr>\n",
       "<tr class =\"row-a\">\n",
       "<td style=\"text-align:center\">\\(0.32\\)</td>\n",
       "<td style=\"text-align:center\">\\(0.334\\)</td>\n",
       "<td style=\"text-align:center\">\\(1.037\\)</td>\n",
       "<td style=\"text-align:center\">\\(0.32\\)</td>\n",
       "<td style=\"text-align:center\">\\(0.043\\)</td>\n",
       "<td style=\"text-align:center\">\\(0.11\\)</td>\n",
       "<td style=\"text-align:center\">\\(0.964\\)</td>\n",
       "<td style=\"text-align:center\">\\(0\\)</td>\n",
       "<td style=\"text-align:center\">\\(1\\)</td>\n",
       "</tr>\n",
       "<tr class =\"row-b\">\n",
       "<td style=\"text-align:center\">\\(2.956\\)</td>\n",
       "<td style=\"text-align:center\">\\(23.073\\)</td>\n",
       "<td style=\"text-align:center\">\\(2.7\\)</td>\n",
       "<td style=\"text-align:center\">\\(0.956\\)</td>\n",
       "<td style=\"text-align:center\">\\(0.805\\)</td>\n",
       "<td style=\"text-align:center\">\\(0.117\\)</td>\n",
       "<td style=\"text-align:center\">\\(0.37\\)</td>\n",
       "<td style=\"text-align:center\">\\(1\\)</td>\n",
       "<td style=\"text-align:center\">\\(2\\)</td>\n",
       "</tr>\n",
       "<tr class =\"row-a\">\n",
       "<td style=\"text-align:center\">\\(0.26\\)</td>\n",
       "<td style=\"text-align:center\">\\(1.199\\)</td>\n",
       "<td style=\"text-align:center\">\\(1.56\\)</td>\n",
       "<td style=\"text-align:center\">\\(0.26\\)</td>\n",
       "<td style=\"text-align:center\">\\(0.606\\)</td>\n",
       "<td style=\"text-align:center\">\\(0.3\\)</td>\n",
       "<td style=\"text-align:center\">\\(0.641\\)</td>\n",
       "<td style=\"text-align:center\">-</td>\n",
       "<td style=\"text-align:center\">\\(0\\)</td>\n",
       "</tr>\n",
       "<tr class =\"row-b\">\n",
       "<td style=\"text-align:center\">\\(3.84\\)</td>\n",
       "<td style=\"text-align:center\">\\(0.766\\)</td>\n",
       "<td style=\"text-align:center\">\\(2.15\\)</td>\n",
       "<td style=\"text-align:center\">\\(0.84\\)</td>\n",
       "<td style=\"text-align:center\">\\(0.199\\)</td>\n",
       "<td style=\"text-align:center\">\\(0.808\\)</td>\n",
       "<td style=\"text-align:center\">\\(0.465\\)</td>\n",
       "<td style=\"text-align:center\">\\(0\\)</td>\n",
       "<td style=\"text-align:center\">\\(1\\)</td>\n",
       "</tr>\n",
       "<tr class =\"row-a\">\n",
       "<td style=\"text-align:center\">\\(0.209\\)</td>\n",
       "<td style=\"text-align:center\">\\(1.097\\)</td>\n",
       "<td style=\"text-align:center\">\\(0.196\\)</td>\n",
       "<td style=\"text-align:center\">\\(0.209\\)</td>\n",
       "<td style=\"text-align:center\">\\(0.261\\)</td>\n",
       "<td style=\"text-align:center\">\\(0.178\\)</td>\n",
       "<td style=\"text-align:center\">\\(0.115\\)</td>\n",
       "<td style=\"text-align:center\">\\(2\\)</td>\n",
       "<td style=\"text-align:center\">-</td>\n",
       "</tr>\n",
       "<tr class =\"row-b\">\n",
       "<td style=\"text-align:center\">\\(1.067\\)</td>\n",
       "<td style=\"text-align:center\">\\(0.499\\)</td>\n",
       "<td style=\"text-align:center\">\\(5.115\\)</td>\n",
       "<td style=\"text-align:center\">\\(0.067\\)</td>\n",
       "<td style=\"text-align:center\">\\(0.467\\)</td>\n",
       "<td style=\"text-align:center\">\\(0.257\\)</td>\n",
       "<td style=\"text-align:center\">\\(0.196\\)</td>\n",
       "<td style=\"text-align:center\">-</td>\n",
       "<td style=\"text-align:center\">\\(0\\)</td>\n",
       "</tr>\n",
       "<tr class =\"row-a\">\n",
       "<td style=\"text-align:center\">\\(14.95\\)</td>\n",
       "<td style=\"text-align:center\">\\(7.454\\)</td>\n",
       "<td style=\"text-align:center\">\\(1.715\\)</td>\n",
       "<td style=\"text-align:center\">\\(0.95\\)</td>\n",
       "<td style=\"text-align:center\">\\(0.499\\)</td>\n",
       "<td style=\"text-align:center\">\\(0.23\\)</td>\n",
       "<td style=\"text-align:center\">\\(0.583\\)</td>\n",
       "<td style=\"text-align:center\">\\(1\\)</td>\n",
       "<td style=\"text-align:center\">\\(2\\)</td>\n",
       "</tr>\n",
       "<tr class =\"row-b\">\n",
       "<td style=\"text-align:center\">\\(0.157\\)</td>\n",
       "<td style=\"text-align:center\">\\(0.351\\)</td>\n",
       "<td style=\"text-align:center\">\\(1.746\\)</td>\n",
       "<td style=\"text-align:center\">\\(0.157\\)</td>\n",
       "<td style=\"text-align:center\">\\(0.232\\)</td>\n",
       "<td style=\"text-align:center\">\\(0.978\\)</td>\n",
       "<td style=\"text-align:center\">\\(0.573\\)</td>\n",
       "<td style=\"text-align:center\">-</td>\n",
       "<td style=\"text-align:center\">\\(0\\)</td>\n",
       "</tr>\n",
       "<tr class =\"row-a\">\n",
       "<td style=\"text-align:center\">\\(6.362\\)</td>\n",
       "<td style=\"text-align:center\">\\(2.232\\)</td>\n",
       "<td style=\"text-align:center\">\\(4.746\\)</td>\n",
       "<td style=\"text-align:center\">\\(0.362\\)</td>\n",
       "<td style=\"text-align:center\">\\(0.351\\)</td>\n",
       "<td style=\"text-align:center\">\\(0.127\\)</td>\n",
       "<td style=\"text-align:center\">\\(0.211\\)</td>\n",
       "<td style=\"text-align:center\">\\(1\\)</td>\n",
       "<td style=\"text-align:center\">\\(2\\)</td>\n",
       "</tr>\n",
       "<tr class =\"row-b\">\n",
       "<td style=\"text-align:center\">\\(2.535\\)</td>\n",
       "<td style=\"text-align:center\">\\(1.43\\)</td>\n",
       "<td style=\"text-align:center\">\\(4.493\\)</td>\n",
       "<td style=\"text-align:center\">\\(0.535\\)</td>\n",
       "<td style=\"text-align:center\">\\(0.564\\)</td>\n",
       "<td style=\"text-align:center\">\\(0.141\\)</td>\n",
       "<td style=\"text-align:center\">\\(0.223\\)</td>\n",
       "<td style=\"text-align:center\">\\(1\\)</td>\n",
       "<td style=\"text-align:center\">\\(2\\)</td>\n",
       "</tr>\n",
       "<tr class =\"row-a\">\n",
       "<td style=\"text-align:center\">\\(1.682\\)</td>\n",
       "<td style=\"text-align:center\">\\(2.232\\)</td>\n",
       "<td style=\"text-align:center\">\\(6.884\\)</td>\n",
       "<td style=\"text-align:center\">\\(0.682\\)</td>\n",
       "<td style=\"text-align:center\">\\(0.327\\)</td>\n",
       "<td style=\"text-align:center\">\\(0.084\\)</td>\n",
       "<td style=\"text-align:center\">\\(0.145\\)</td>\n",
       "<td style=\"text-align:center\">\\(1\\)</td>\n",
       "<td style=\"text-align:center\">\\(2\\)</td>\n",
       "</tr>\n",
       "<tr class =\"row-b\">\n",
       "<td style=\"text-align:center\">\\(1.168\\)</td>\n",
       "<td style=\"text-align:center\">\\(0.378\\)</td>\n",
       "<td style=\"text-align:center\">\\(1.246\\)</td>\n",
       "<td style=\"text-align:center\">\\(0.168\\)</td>\n",
       "<td style=\"text-align:center\">\\(0.324\\)</td>\n",
       "<td style=\"text-align:center\">\\(0.296\\)</td>\n",
       "<td style=\"text-align:center\">\\(0.802\\)</td>\n",
       "<td style=\"text-align:center\">-</td>\n",
       "<td style=\"text-align:center\">\\(0\\)</td>\n",
       "</tr>\n",
       "<tr class =\"row-a\">\n",
       "<td style=\"text-align:center\">\\(5.959\\)</td>\n",
       "<td style=\"text-align:center\">\\(2.254\\)</td>\n",
       "<td style=\"text-align:center\">\\(1.468\\)</td>\n",
       "<td style=\"text-align:center\">\\(0.959\\)</td>\n",
       "<td style=\"text-align:center\">\\(0.378\\)</td>\n",
       "<td style=\"text-align:center\">\\(0.651\\)</td>\n",
       "<td style=\"text-align:center\">\\(0.681\\)</td>\n",
       "<td style=\"text-align:center\">\\(0\\)</td>\n",
       "<td style=\"text-align:center\">\\(1\\)</td>\n",
       "</tr>\n",
       "<tr class =\"row-b\">\n",
       "<td style=\"text-align:center\">\\(0.163\\)</td>\n",
       "<td style=\"text-align:center\">\\(3.782\\)</td>\n",
       "<td style=\"text-align:center\">\\(1.846\\)</td>\n",
       "<td style=\"text-align:center\">\\(0.163\\)</td>\n",
       "<td style=\"text-align:center\">\\(0.263\\)</td>\n",
       "<td style=\"text-align:center\">\\(0.488\\)</td>\n",
       "<td style=\"text-align:center\">\\(0.542\\)</td>\n",
       "<td style=\"text-align:center\">-</td>\n",
       "<td style=\"text-align:center\">\\(0\\)</td>\n",
       "</tr>\n",
       "<tr class =\"row-a\">\n",
       "<td style=\"text-align:center\">\\(6.151\\)</td>\n",
       "<td style=\"text-align:center\">\\(4.811\\)</td>\n",
       "<td style=\"text-align:center\">\\(5.203\\)</td>\n",
       "<td style=\"text-align:center\">\\(0.151\\)</td>\n",
       "<td style=\"text-align:center\">\\(0.782\\)</td>\n",
       "<td style=\"text-align:center\">\\(0.082\\)</td>\n",
       "<td style=\"text-align:center\">\\(0.192\\)</td>\n",
       "<td style=\"text-align:center\">\\(1\\)</td>\n",
       "<td style=\"text-align:center\">\\(2\\)</td>\n",
       "</tr>\n",
       "<tr class =\"row-b\">\n",
       "<td style=\"text-align:center\">\\(0.741\\)</td>\n",
       "<td style=\"text-align:center\">\\(0.931\\)</td>\n",
       "<td style=\"text-align:center\">\\(3.988\\)</td>\n",
       "<td style=\"text-align:center\">\\(0.741\\)</td>\n",
       "<td style=\"text-align:center\">\\(0.257\\)</td>\n",
       "<td style=\"text-align:center\">\\(0.282\\)</td>\n",
       "<td style=\"text-align:center\">\\(0.251\\)</td>\n",
       "<td style=\"text-align:center\">\\(2\\)</td>\n",
       "<td style=\"text-align:center\">-</td>\n",
       "</tr>\n",
       "<tr class =\"row-a\">\n",
       "<td style=\"text-align:center\">\\(0.75\\)</td>\n",
       "<td style=\"text-align:center\">\\(0.943\\)</td>\n",
       "<td style=\"text-align:center\">\\(1.012\\)</td>\n",
       "<td style=\"text-align:center\">\\(0.75\\)</td>\n",
       "<td style=\"text-align:center\">\\(0.257\\)</td>\n",
       "<td style=\"text-align:center\">\\(0.074\\)</td>\n",
       "<td style=\"text-align:center\">\\(0.988\\)</td>\n",
       "<td style=\"text-align:center\">\\(1\\)</td>\n",
       "<td style=\"text-align:center\">\\(2\\)</td>\n",
       "</tr>\n",
       "<tr class =\"row-b\">\n",
       "<td style=\"text-align:center\">\\(62.641\\)</td>\n",
       "<td style=\"text-align:center\">\\(4.794\\)</td>\n",
       "<td style=\"text-align:center\">\\(78.738\\)</td>\n",
       "<td style=\"text-align:center\">\\(0.641\\)</td>\n",
       "<td style=\"text-align:center\">\\(0.077\\)</td>\n",
       "<td style=\"text-align:center\">\\(0.424\\)</td>\n",
       "<td style=\"text-align:center\">\\(0.013\\)</td>\n",
       "<td style=\"text-align:center\">\\(2\\)</td>\n",
       "<td style=\"text-align:center\">-</td>\n",
       "</tr>\n",
       "<tr class =\"row-a\">\n",
       "<td style=\"text-align:center\">\\(0.868\\)</td>\n",
       "<td style=\"text-align:center\">\\(1.076\\)</td>\n",
       "<td style=\"text-align:center\">\\(1.355\\)</td>\n",
       "<td style=\"text-align:center\">\\(0.868\\)</td>\n",
       "<td style=\"text-align:center\">\\(0.239\\)</td>\n",
       "<td style=\"text-align:center\">\\(0.259\\)</td>\n",
       "<td style=\"text-align:center\">\\(0.738\\)</td>\n",
       "<td style=\"text-align:center\">\\(0\\)</td>\n",
       "<td style=\"text-align:center\">\\(1\\)</td>\n",
       "</tr>\n",
       "<tr class =\"row-b\">\n",
       "<td style=\"text-align:center\">\\(1.732\\)</td>\n",
       "<td style=\"text-align:center\">\\(11.412\\)</td>\n",
       "<td style=\"text-align:center\">\\(4.669\\)</td>\n",
       "<td style=\"text-align:center\">\\(0.732\\)</td>\n",
       "<td style=\"text-align:center\">\\(0.587\\)</td>\n",
       "<td style=\"text-align:center\">\\(0.409\\)</td>\n",
       "<td style=\"text-align:center\">\\(0.214\\)</td>\n",
       "<td style=\"text-align:center\">\\(2\\)</td>\n",
       "<td style=\"text-align:center\">-</td>\n",
       "</tr>\n",
       "<tr class =\"row-a\">\n",
       "<td style=\"text-align:center\">\\(1.094\\)</td>\n",
       "<td style=\"text-align:center\">\\(0.616\\)</td>\n",
       "<td style=\"text-align:center\">\\(1.494\\)</td>\n",
       "<td style=\"text-align:center\">\\(0.094\\)</td>\n",
       "<td style=\"text-align:center\">\\(0.562\\)</td>\n",
       "<td style=\"text-align:center\">\\(0.427\\)</td>\n",
       "<td style=\"text-align:center\">\\(0.669\\)</td>\n",
       "<td style=\"text-align:center\">-</td>\n",
       "<td style=\"text-align:center\">\\(0\\)</td>\n",
       "</tr>\n",
       "<tr class =\"row-b\">\n",
       "<td style=\"text-align:center\">\\(10.592\\)</td>\n",
       "<td style=\"text-align:center\">\\(6.521\\)</td>\n",
       "<td style=\"text-align:center\">\\(5.234\\)</td>\n",
       "<td style=\"text-align:center\">\\(0.592\\)</td>\n",
       "<td style=\"text-align:center\">\\(0.616\\)</td>\n",
       "<td style=\"text-align:center\">\\(0.803\\)</td>\n",
       "<td style=\"text-align:center\">\\(0.191\\)</td>\n",
       "<td style=\"text-align:center\">\\(2\\)</td>\n",
       "<td style=\"text-align:center\">-</td>\n",
       "</tr>\n",
       "<tr class =\"row-a\">\n",
       "<td style=\"text-align:center\">\\(2.534\\)</td>\n",
       "<td style=\"text-align:center\">\\(2.227\\)</td>\n",
       "<td style=\"text-align:center\">\\(4.278\\)</td>\n",
       "<td style=\"text-align:center\">\\(0.534\\)</td>\n",
       "<td style=\"text-align:center\">\\(0.879\\)</td>\n",
       "<td style=\"text-align:center\">\\(0.921\\)</td>\n",
       "<td style=\"text-align:center\">\\(0.234\\)</td>\n",
       "<td style=\"text-align:center\">\\(2\\)</td>\n",
       "<td style=\"text-align:center\">-</td>\n",
       "</tr>\n",
       "<tr class =\"row-b\">\n",
       "<td style=\"text-align:center\">\\(1.919\\)</td>\n",
       "<td style=\"text-align:center\">\\(0.816\\)</td>\n",
       "<td style=\"text-align:center\">\\(3.591\\)</td>\n",
       "<td style=\"text-align:center\">\\(0.919\\)</td>\n",
       "<td style=\"text-align:center\">\\(0.425\\)</td>\n",
       "<td style=\"text-align:center\">\\(0.399\\)</td>\n",
       "<td style=\"text-align:center\">\\(0.278\\)</td>\n",
       "<td style=\"text-align:center\">\\(2\\)</td>\n",
       "<td style=\"text-align:center\">-</td>\n",
       "</tr>\n",
       "<tr class =\"row-a\">\n",
       "<td style=\"text-align:center\">\\(1.555\\)</td>\n",
       "<td style=\"text-align:center\">\\(1.381\\)</td>\n",
       "<td style=\"text-align:center\">\\(1.692\\)</td>\n",
       "<td style=\"text-align:center\">\\(0.555\\)</td>\n",
       "<td style=\"text-align:center\">\\(0.888\\)</td>\n",
       "<td style=\"text-align:center\">\\(0.225\\)</td>\n",
       "<td style=\"text-align:center\">\\(0.591\\)</td>\n",
       "<td style=\"text-align:center\">\\(1\\)</td>\n",
       "<td style=\"text-align:center\">\\(2\\)</td>\n",
       "</tr>\n",
       "<tr class =\"row-b\">\n",
       "<td style=\"text-align:center\">\\(0.56\\)</td>\n",
       "<td style=\"text-align:center\">\\(0.766\\)</td>\n",
       "<td style=\"text-align:center\">\\(1.225\\)</td>\n",
       "<td style=\"text-align:center\">\\(0.56\\)</td>\n",
       "<td style=\"text-align:center\">\\(0.369\\)</td>\n",
       "<td style=\"text-align:center\">\\(0.599\\)</td>\n",
       "<td style=\"text-align:center\">\\(0.816\\)</td>\n",
       "<td style=\"text-align:center\">\\(0\\)</td>\n",
       "<td style=\"text-align:center\">\\(1\\)</td>\n",
       "</tr>\n",
       "<tr class =\"row-a\">\n",
       "<td style=\"text-align:center\">\\(2.131\\)</td>\n",
       "<td style=\"text-align:center\">\\(2.71\\)</td>\n",
       "<td style=\"text-align:center\">\\(1.091\\)</td>\n",
       "<td style=\"text-align:center\">\\(0.131\\)</td>\n",
       "<td style=\"text-align:center\">\\(0.272\\)</td>\n",
       "<td style=\"text-align:center\">\\(0.403\\)</td>\n",
       "<td style=\"text-align:center\">\\(0.917\\)</td>\n",
       "<td style=\"text-align:center\">-</td>\n",
       "<td style=\"text-align:center\">\\(0\\)</td>\n",
       "</tr>\n",
       "<tr class =\"row-b\">\n",
       "<td style=\"text-align:center\">\\(7.651\\)</td>\n",
       "<td style=\"text-align:center\">\\(5.432\\)</td>\n",
       "<td style=\"text-align:center\">\\(0.695\\)</td>\n",
       "<td style=\"text-align:center\">\\(0.651\\)</td>\n",
       "<td style=\"text-align:center\">\\(0.71\\)</td>\n",
       "<td style=\"text-align:center\">\\(0.128\\)</td>\n",
       "<td style=\"text-align:center\">\\(0.439\\)</td>\n",
       "<td style=\"text-align:center\">\\(1\\)</td>\n",
       "<td style=\"text-align:center\">\\(2\\)</td>\n",
       "</tr>\n",
       "<tr class =\"row-a\">\n",
       "<td style=\"text-align:center\">\\(0.831\\)</td>\n",
       "<td style=\"text-align:center\">\\(0.517\\)</td>\n",
       "<td style=\"text-align:center\">\\(1.642\\)</td>\n",
       "<td style=\"text-align:center\">\\(0.831\\)</td>\n",
       "<td style=\"text-align:center\">\\(0.622\\)</td>\n",
       "<td style=\"text-align:center\">\\(0.175\\)</td>\n",
       "<td style=\"text-align:center\">\\(0.609\\)</td>\n",
       "<td style=\"text-align:center\">\\(1\\)</td>\n",
       "<td style=\"text-align:center\">\\(2\\)</td>\n",
       "</tr>\n",
       "<tr class =\"row-b\">\n",
       "<td style=\"text-align:center\">\\(2.518\\)</td>\n",
       "<td style=\"text-align:center\">\\(3.871\\)</td>\n",
       "<td style=\"text-align:center\">\\(4.145\\)</td>\n",
       "<td style=\"text-align:center\">\\(0.518\\)</td>\n",
       "<td style=\"text-align:center\">\\(0.537\\)</td>\n",
       "<td style=\"text-align:center\">\\(0.071\\)</td>\n",
       "<td style=\"text-align:center\">\\(0.241\\)</td>\n",
       "<td style=\"text-align:center\">\\(1\\)</td>\n",
       "<td style=\"text-align:center\">\\(2\\)</td>\n",
       "</tr>\n",
       "<tr class =\"row-a\">\n",
       "<td style=\"text-align:center\">\\(3.561\\)</td>\n",
       "<td style=\"text-align:center\">\\(0.89\\)</td>\n",
       "<td style=\"text-align:center\">\\(5.988\\)</td>\n",
       "<td style=\"text-align:center\">\\(0.561\\)</td>\n",
       "<td style=\"text-align:center\">\\(0.25\\)</td>\n",
       "<td style=\"text-align:center\">\\(0.725\\)</td>\n",
       "<td style=\"text-align:center\">\\(0.167\\)</td>\n",
       "<td style=\"text-align:center\">\\(2\\)</td>\n",
       "<td style=\"text-align:center\">-</td>\n",
       "</tr>\n",
       "<tr class =\"row-b\">\n",
       "<td style=\"text-align:center\">\\(0.568\\)</td>\n",
       "<td style=\"text-align:center\">\\(0.902\\)</td>\n",
       "<td style=\"text-align:center\">\\(1.013\\)</td>\n",
       "<td style=\"text-align:center\">\\(0.568\\)</td>\n",
       "<td style=\"text-align:center\">\\(0.586\\)</td>\n",
       "<td style=\"text-align:center\">\\(0.123\\)</td>\n",
       "<td style=\"text-align:center\">\\(0.988\\)</td>\n",
       "<td style=\"text-align:center\">\\(1\\)</td>\n",
       "<td style=\"text-align:center\">\\(2\\)</td>\n",
       "</tr>\n",
       "<tr class =\"row-a\">\n",
       "<td style=\"text-align:center\">\\(44.93\\)</td>\n",
       "<td style=\"text-align:center\">\\(7.776\\)</td>\n",
       "<td style=\"text-align:center\">\\(71.262\\)</td>\n",
       "<td style=\"text-align:center\">\\(0.93\\)</td>\n",
       "<td style=\"text-align:center\">\\(0.173\\)</td>\n",
       "<td style=\"text-align:center\">\\(0.165\\)</td>\n",
       "<td style=\"text-align:center\">\\(0.014\\)</td>\n",
       "<td style=\"text-align:center\">\\(2\\)</td>\n",
       "<td style=\"text-align:center\">-</td>\n",
       "</tr>\n",
       "<tr class =\"row-b\">\n",
       "<td style=\"text-align:center\">\\(3.549\\)</td>\n",
       "<td style=\"text-align:center\">\\(2.961\\)</td>\n",
       "<td style=\"text-align:center\">\\(3.817\\)</td>\n",
       "<td style=\"text-align:center\">\\(0.549\\)</td>\n",
       "<td style=\"text-align:center\">\\(0.834\\)</td>\n",
       "<td style=\"text-align:center\">\\(0.289\\)</td>\n",
       "<td style=\"text-align:center\">\\(0.262\\)</td>\n",
       "<td style=\"text-align:center\">\\(2\\)</td>\n",
       "<td style=\"text-align:center\">-</td>\n",
       "</tr>\n",
       "<tr class =\"row-a\">\n",
       "<td style=\"text-align:center\">\\(0.671\\)</td>\n",
       "<td style=\"text-align:center\">\\(1.176\\)</td>\n",
       "<td style=\"text-align:center\">\\(1.223\\)</td>\n",
       "<td style=\"text-align:center\">\\(0.671\\)</td>\n",
       "<td style=\"text-align:center\">\\(0.752\\)</td>\n",
       "<td style=\"text-align:center\">\\(0.04\\)</td>\n",
       "<td style=\"text-align:center\">\\(0.817\\)</td>\n",
       "<td style=\"text-align:center\">\\(1\\)</td>\n",
       "<td style=\"text-align:center\">\\(2\\)</td>\n",
       "</tr>\n",
       "<tr class =\"row-b\">\n",
       "<td style=\"text-align:center\">\\(3.027\\)</td>\n",
       "<td style=\"text-align:center\">\\(2.536\\)</td>\n",
       "<td style=\"text-align:center\">\\(3.713\\)</td>\n",
       "<td style=\"text-align:center\">\\(0.027\\)</td>\n",
       "<td style=\"text-align:center\">\\(0.838\\)</td>\n",
       "<td style=\"text-align:center\">\\(0.464\\)</td>\n",
       "<td style=\"text-align:center\">\\(0.269\\)</td>\n",
       "<td style=\"text-align:center\">-</td>\n",
       "<td style=\"text-align:center\">\\(0\\)</td>\n",
       "</tr>\n",
       "<tr class =\"row-a\">\n",
       "<td style=\"text-align:center\">\\(37.318\\)</td>\n",
       "<td style=\"text-align:center\">\\(20.019\\)</td>\n",
       "<td style=\"text-align:center\">\\(26.615\\)</td>\n",
       "<td style=\"text-align:center\">\\(0.318\\)</td>\n",
       "<td style=\"text-align:center\">\\(0.536\\)</td>\n",
       "<td style=\"text-align:center\">\\(0.329\\)</td>\n",
       "<td style=\"text-align:center\">\\(0.038\\)</td>\n",
       "<td style=\"text-align:center\">\\(2\\)</td>\n",
       "<td style=\"text-align:center\">-</td>\n",
       "</tr>\n",
       "<tr class =\"row-b\">\n",
       "<td style=\"text-align:center\">\\(0.517\\)</td>\n",
       "<td style=\"text-align:center\">\\(0.031\\)</td>\n",
       "<td style=\"text-align:center\">\\(1.626\\)</td>\n",
       "<td style=\"text-align:center\">\\(0.517\\)</td>\n",
       "<td style=\"text-align:center\">\\(0.059\\)</td>\n",
       "<td style=\"text-align:center\">\\(0.252\\)</td>\n",
       "<td style=\"text-align:center\">\\(0.615\\)</td>\n",
       "<td style=\"text-align:center\">\\(0\\)</td>\n",
       "<td style=\"text-align:center\">\\(1\\)</td>\n",
       "</tr>\n",
       "<tr class =\"row-a\">\n",
       "<td style=\"text-align:center\">\\(15.811\\)</td>\n",
       "<td style=\"text-align:center\">\\(16.937\\)</td>\n",
       "<td style=\"text-align:center\">\\(3.567\\)</td>\n",
       "<td style=\"text-align:center\">\\(0.811\\)</td>\n",
       "<td style=\"text-align:center\">\\(0.071\\)</td>\n",
       "<td style=\"text-align:center\">\\(0.211\\)</td>\n",
       "<td style=\"text-align:center\">\\(0.28\\)</td>\n",
       "<td style=\"text-align:center\">\\(0\\)</td>\n",
       "<td style=\"text-align:center\">\\(1\\)</td>\n",
       "</tr>\n",
       "<tr class =\"row-b\">\n",
       "<td style=\"text-align:center\">\\(1.498\\)</td>\n",
       "<td style=\"text-align:center\">\\(6.409\\)</td>\n",
       "<td style=\"text-align:center\">\\(4.485\\)</td>\n",
       "<td style=\"text-align:center\">\\(0.498\\)</td>\n",
       "<td style=\"text-align:center\">\\(0.279\\)</td>\n",
       "<td style=\"text-align:center\">\\(0.7\\)</td>\n",
       "<td style=\"text-align:center\">\\(0.223\\)</td>\n",
       "<td style=\"text-align:center\">\\(2\\)</td>\n",
       "<td style=\"text-align:center\">-</td>\n",
       "</tr>\n",
       "<tr class =\"row-a\">\n",
       "<td style=\"text-align:center\">\\(1.026\\)</td>\n",
       "<td style=\"text-align:center\">\\(0.842\\)</td>\n",
       "<td style=\"text-align:center\">\\(2.06\\)</td>\n",
       "<td style=\"text-align:center\">\\(0.026\\)</td>\n",
       "<td style=\"text-align:center\">\\(0.821\\)</td>\n",
       "<td style=\"text-align:center\">\\(0.445\\)</td>\n",
       "<td style=\"text-align:center\">\\(0.485\\)</td>\n",
       "<td style=\"text-align:center\">-</td>\n",
       "<td style=\"text-align:center\">\\(0\\)</td>\n",
       "</tr>\n",
       "<tr class =\"row-b\">\n",
       "<td style=\"text-align:center\">\\(39.071\\)</td>\n",
       "<td style=\"text-align:center\">\\(32.912\\)</td>\n",
       "<td style=\"text-align:center\">\\(2.341\\)</td>\n",
       "<td style=\"text-align:center\">\\(0.071\\)</td>\n",
       "<td style=\"text-align:center\">\\(0.842\\)</td>\n",
       "<td style=\"text-align:center\">\\(0.071\\)</td>\n",
       "<td style=\"text-align:center\">\\(0.427\\)</td>\n",
       "<td style=\"text-align:center\">-</td>\n",
       "<td style=\"text-align:center\">\\(0\\)</td>\n",
       "</tr>\n",
       "<tr class =\"row-a\">\n",
       "<td style=\"text-align:center\">\\(14.127\\)</td>\n",
       "<td style=\"text-align:center\">\\(12.887\\)</td>\n",
       "<td style=\"text-align:center\">\\(4.819\\)</td>\n",
       "<td style=\"text-align:center\">\\(0.127\\)</td>\n",
       "<td style=\"text-align:center\">\\(0.912\\)</td>\n",
       "<td style=\"text-align:center\">\\(0.374\\)</td>\n",
       "<td style=\"text-align:center\">\\(0.208\\)</td>\n",
       "<td style=\"text-align:center\">-</td>\n",
       "<td style=\"text-align:center\">\\(0\\)</td>\n",
       "</tr>\n",
       "<tr class =\"row-b\">\n",
       "<td style=\"text-align:center\">\\(7.867\\)</td>\n",
       "<td style=\"text-align:center\">\\(6.975\\)</td>\n",
       "<td style=\"text-align:center\">\\(6.44\\)</td>\n",
       "<td style=\"text-align:center\">\\(0.867\\)</td>\n",
       "<td style=\"text-align:center\">\\(0.887\\)</td>\n",
       "<td style=\"text-align:center\">\\(0.923\\)</td>\n",
       "<td style=\"text-align:center\">\\(0.155\\)</td>\n",
       "<td style=\"text-align:center\">\\(2\\)</td>\n",
       "<td style=\"text-align:center\">-</td>\n",
       "</tr>\n",
       "</tbody>\n",
       "</table>\n",
       "</div>"
      ],
      "text/plain": [
       "  $x_1$    $x_2$    $x_3$    $\\{x_{1}/x_{0}\\}$   $\\{x_{2}/x_{1}\\}$   $\\{x_{3}/x_{2}\\}$   $\\{x_{4}/x_{3}\\}$   $\\ell_1$   $\\ell_2$\n",
       "├────────┼────────┼────────┼───────────────────┼───────────────────┼───────────────────┼───────────────────┼──────────┼──────────┤\n",
       "   0.38    0.525    0.724          0.38                0.38                0.38                0.38             -          0\n",
       "   2.63     1.38    1.905          0.63                0.525               0.38                0.525            1          2\n",
       "  1.724    1.656     2.63          0.724               0.96                0.588               0.38             2          -\n",
       "  1.151    1.041    1.588          0.151               0.905               0.525               0.63             -          0\n",
       "   6.64    0.276    3.905          0.64                0.041               0.174               0.256            0          1\n",
       "  1.308    2.322    0.964          0.308               0.775               0.415               0.037            2          -\n",
       "   0.32    0.334    1.037          0.32                0.043               0.11                0.964            0          1\n",
       "  2.956    23.073    2.7           0.956               0.805               0.117               0.37             1          2\n",
       "   0.26    1.199     1.56          0.26                0.606                0.3                0.641            -          0\n",
       "   3.84    0.766     2.15          0.84                0.199               0.808               0.465            0          1\n",
       "  0.209    1.097    0.196          0.209               0.261               0.178               0.115            2          -\n",
       "  1.067    0.499    5.115          0.067               0.467               0.257               0.196            -          0\n",
       "  14.95    7.454    1.715          0.95                0.499               0.23                0.583            1          2\n",
       "  0.157    0.351    1.746          0.157               0.232               0.978               0.573            -          0\n",
       "  6.362    2.232    4.746          0.362               0.351               0.127               0.211            1          2\n",
       "  2.535     1.43    4.493          0.535               0.564               0.141               0.223            1          2\n",
       "  1.682    2.232    6.884          0.682               0.327               0.084               0.145            1          2\n",
       "  1.168    0.378    1.246          0.168               0.324               0.296               0.802            -          0\n",
       "  5.959    2.254    1.468          0.959               0.378               0.651               0.681            0          1\n",
       "  0.163    3.782    1.846          0.163               0.263               0.488               0.542            -          0\n",
       "  6.151    4.811    5.203          0.151               0.782               0.082               0.192            1          2\n",
       "  0.741    0.931    3.988          0.741               0.257               0.282               0.251            2          -\n",
       "   0.75    0.943    1.012          0.75                0.257               0.074               0.988            1          2\n",
       "  62.641   4.794    78.738         0.641               0.077               0.424               0.013            2          -\n",
       "  0.868    1.076    1.355          0.868               0.239               0.259               0.738            0          1\n",
       "  1.732    11.412   4.669          0.732               0.587               0.409               0.214            2          -\n",
       "  1.094    0.616    1.494          0.094               0.562               0.427               0.669            -          0\n",
       "  10.592   6.521    5.234          0.592               0.616               0.803               0.191            2          -\n",
       "  2.534    2.227    4.278          0.534               0.879               0.921               0.234            2          -\n",
       "  1.919    0.816    3.591          0.919               0.425               0.399               0.278            2          -\n",
       "  1.555    1.381    1.692          0.555               0.888               0.225               0.591            1          2\n",
       "   0.56    0.766    1.225          0.56                0.369               0.599               0.816            0          1\n",
       "  2.131     2.71    1.091          0.131               0.272               0.403               0.917            -          0\n",
       "  7.651    5.432    0.695          0.651               0.71                0.128               0.439            1          2\n",
       "  0.831    0.517    1.642          0.831               0.622               0.175               0.609            1          2\n",
       "  2.518    3.871    4.145          0.518               0.537               0.071               0.241            1          2\n",
       "  3.561     0.89    5.988          0.561               0.25                0.725               0.167            2          -\n",
       "  0.568    0.902    1.013          0.568               0.586               0.123               0.988            1          2\n",
       "  44.93    7.776    71.262         0.93                0.173               0.165               0.014            2          -\n",
       "  3.549    2.961    3.817          0.549               0.834               0.289               0.262            2          -\n",
       "  0.671    1.176    1.223          0.671               0.752               0.04                0.817            1          2\n",
       "  3.027    2.536    3.713          0.027               0.838               0.464               0.269            -          0\n",
       "  37.318   20.019   26.615         0.318               0.536               0.329               0.038            2          -\n",
       "  0.517    0.031    1.626          0.517               0.059               0.252               0.615            0          1\n",
       "  15.811   16.937   3.567          0.811               0.071               0.211               0.28             0          1\n",
       "  1.498    6.409    4.485          0.498               0.279                0.7                0.223            2          -\n",
       "  1.026    0.842     2.06          0.026               0.821               0.445               0.485            -          0\n",
       "  39.071   32.912   2.341          0.071               0.842               0.071               0.427            -          0\n",
       "  14.127   12.887   4.819          0.127               0.912               0.374               0.208            -          0\n",
       "  7.867    6.975     6.44          0.867               0.887               0.923               0.155            2          -"
      ]
     },
     "execution_count": 199,
     "metadata": {},
     "output_type": "execute_result"
    }
   ],
   "source": [
    "n = 50\n",
    "d = len(xs)\n",
    "\n",
    "ys = xs\n",
    "rows = [[\n",
    "    *[f'$x_{i+1}$' for i in range(d)], \n",
    "    *[fr'$\\{{x_{{{i+2}}}/x_{{{i+1}}}\\}}$' for i in range(-1, d)], \n",
    "    r'$\\ell_1$', \n",
    "    r'$\\ell_2$',\n",
    "]]\n",
    "\n",
    "for i in range(n):\n",
    "    # select pivot\n",
    "    l = select(ys)\n",
    "    \n",
    "    # Add row to the output\n",
    "    dist   = [round(RR(d), 3) for d in neighbor_distance(ys)]\n",
    "    values = [round(RR(y), 3) for y in ys]\n",
    "    rows.append([*values, *dist, '-' if l == -1 else l, '-' if l == d - 1 else l + 1])\n",
    "\n",
    "    # pivot\n",
    "    if l == -1:\n",
    "        ys, _ = pivot(ys, 0)\n",
    "    elif l == d - 1:\n",
    "        ys, _ = pivot(ys, d - 1)\n",
    "    else:\n",
    "        ys, _ = pivot(ys, l, l + 1)\n",
    "    \n",
    "table(rows, header_row=True, align='center')"
   ]
  },
  {
   "cell_type": "markdown",
   "id": "d06edb6c-4450-4631-af47-c08322d9fa3c",
   "metadata": {
    "jp-MarkdownHeadingCollapsed": true
   },
   "source": [
    "## Other polynomials\n",
    "\n",
    "$$\n",
    "    x^{d+1} + \\sum_{k=1}^d k x^{d-k} = 1\n",
    "$$"
   ]
  },
  {
   "cell_type": "code",
   "execution_count": 9,
   "id": "e609c30d-1dc6-4e92-afbf-4ba8896dec6f",
   "metadata": {},
   "outputs": [
    {
     "ename": "TypeError",
     "evalue": "unable to convert '(1/4*4^(2/3),1/4*4^(2/3),1/2*4^(2/3)*2^(1/3)-1)' to a real number",
     "output_type": "error",
     "traceback": [
      "\u001b[0;31m---------------------------------------------------------------------------\u001b[0m",
      "\u001b[0;31mTypeError\u001b[0m                                 Traceback (most recent call last)",
      "Cell \u001b[0;32mIn[9], line 3\u001b[0m\n\u001b[1;32m      1\u001b[0m xs \u001b[38;5;241m=\u001b[39m (Integer(\u001b[38;5;241m1\u001b[39m), Integer(\u001b[38;5;241m4\u001b[39m)\u001b[38;5;241m*\u001b[39m\u001b[38;5;241m*\u001b[39m(Integer(\u001b[38;5;241m1\u001b[39m)\u001b[38;5;241m/\u001b[39mInteger(\u001b[38;5;241m3\u001b[39m)), Integer(\u001b[38;5;241m16\u001b[39m)\u001b[38;5;241m*\u001b[39m\u001b[38;5;241m*\u001b[39m(Integer(\u001b[38;5;241m1\u001b[39m)\u001b[38;5;241m/\u001b[39mInteger(\u001b[38;5;241m3\u001b[39m)))\n\u001b[1;32m      2\u001b[0m indices \u001b[38;5;241m=\u001b[39m [Integer(\u001b[38;5;241m1\u001b[39m), Integer(\u001b[38;5;241m2\u001b[39m)] \u001b[38;5;241m+\u001b[39m [Integer(\u001b[38;5;241m2\u001b[39m)]\u001b[38;5;241m*\u001b[39mInteger(\u001b[38;5;241m20\u001b[39m)\n\u001b[0;32m----> 3\u001b[0m table([[\u001b[43mRR\u001b[49m\u001b[43m(\u001b[49m\u001b[43mx\u001b[49m\u001b[43m)\u001b[49m \u001b[38;5;28;01mfor\u001b[39;00m x \u001b[38;5;129;01min\u001b[39;00m pivot(xs, \u001b[38;5;241m*\u001b[39mindices[:i\u001b[38;5;241m+\u001b[39mInteger(\u001b[38;5;241m1\u001b[39m)])] \u001b[38;5;28;01mfor\u001b[39;00m i \u001b[38;5;129;01min\u001b[39;00m \u001b[38;5;28mrange\u001b[39m(\u001b[38;5;28mlen\u001b[39m(indices))])\n",
      "File \u001b[0;32m/usr/lib/python3.13/site-packages/sage/structure/parent.pyx:901\u001b[0m, in \u001b[0;36msage.structure.parent.Parent.__call__ (build/cythonized/sage/structure/parent.c:12763)\u001b[0;34m()\u001b[0m\n\u001b[1;32m    899\u001b[0m if mor is not None:\n\u001b[1;32m    900\u001b[0m     if no_extra_args:\n\u001b[0;32m--> 901\u001b[0m         return mor._call_(x)\n\u001b[1;32m    902\u001b[0m     else:\n\u001b[1;32m    903\u001b[0m         return mor._call_with_args(x, args, kwds)\n",
      "File \u001b[0;32m/usr/lib/python3.13/site-packages/sage/structure/coerce_maps.pyx:164\u001b[0m, in \u001b[0;36msage.structure.coerce_maps.DefaultConvertMap_unique._call_ (build/cythonized/sage/structure/coerce_maps.c:6980)\u001b[0;34m()\u001b[0m\n\u001b[1;32m    162\u001b[0m             print(type(C), C)\n\u001b[1;32m    163\u001b[0m             print(type(C._element_constructor), C._element_constructor)\n\u001b[0;32m--> 164\u001b[0m         raise\n\u001b[1;32m    165\u001b[0m \n\u001b[1;32m    166\u001b[0m cpdef Element _call_with_args(self, x, args=(), kwds={}):\n",
      "File \u001b[0;32m/usr/lib/python3.13/site-packages/sage/structure/coerce_maps.pyx:159\u001b[0m, in \u001b[0;36msage.structure.coerce_maps.DefaultConvertMap_unique._call_ (build/cythonized/sage/structure/coerce_maps.c:6872)\u001b[0;34m()\u001b[0m\n\u001b[1;32m    157\u001b[0m cdef Parent C = self._codomain\n\u001b[1;32m    158\u001b[0m try:\n\u001b[0;32m--> 159\u001b[0m     return C._element_constructor(x)\n\u001b[1;32m    160\u001b[0m except Exception:\n\u001b[1;32m    161\u001b[0m     if print_warnings:\n",
      "File \u001b[0;32m/usr/lib/python3.13/site-packages/sage/rings/real_mpfr.pyx:684\u001b[0m, in \u001b[0;36msage.rings.real_mpfr.RealField_class._element_constructor_ (build/cythonized/sage/rings/real_mpfr.c:16047)\u001b[0;34m()\u001b[0m\n\u001b[1;32m    682\u001b[0m cdef RealNumber z\n\u001b[1;32m    683\u001b[0m z = self._new()\n\u001b[0;32m--> 684\u001b[0m z._set(x, base)\n\u001b[1;32m    685\u001b[0m return z\n\u001b[1;32m    686\u001b[0m \n",
      "File \u001b[0;32m/usr/lib/python3.13/site-packages/sage/rings/real_mpfr.pyx:1531\u001b[0m, in \u001b[0;36msage.rings.real_mpfr.RealNumber._set (build/cythonized/sage/rings/real_mpfr.c:23289)\u001b[0;34m()\u001b[0m\n\u001b[1;32m   1529\u001b[0m             mpfr_set_inf(self.value, -1)\n\u001b[1;32m   1530\u001b[0m         else:\n\u001b[0;32m-> 1531\u001b[0m             raise TypeError(\"unable to convert {!r} to a real number\".format(s))\n\u001b[1;32m   1532\u001b[0m \n\u001b[1;32m   1533\u001b[0m def __reduce__(self):\n",
      "\u001b[0;31mTypeError\u001b[0m: unable to convert '(1/4*4^(2/3),1/4*4^(2/3),1/2*4^(2/3)*2^(1/3)-1)' to a real number"
     ]
    }
   ],
   "source": [
    "xs = (1, 4^(1/3), 16^(1/3))\n",
    "indices = [1, 2] + [2]*20\n",
    "table([[RR(x) for x in pivot(xs, *indices[:i+1])] for i in range(len(indices))])"
   ]
  },
  {
   "cell_type": "code",
   "execution_count": null,
   "id": "a9128ce2-9b4b-48c5-b106-43f1b272e1ed",
   "metadata": {},
   "outputs": [],
   "source": []
  },
  {
   "cell_type": "markdown",
   "id": "fd99e36d-098e-4438-bfbc-726b0ff63edd",
   "metadata": {
    "jp-MarkdownHeadingCollapsed": true
   },
   "source": [
    "# $d$-bonacci Numbers\n"
   ]
  },
  {
   "cell_type": "code",
   "execution_count": 145,
   "id": "4aa3e4a7-5c36-4d9a-96ab-3a6b3759fd2b",
   "metadata": {},
   "outputs": [
    {
     "data": {
      "text/html": [
       "<html>\\(\\displaystyle \\left(x^{4} + x^{3} + x^{2} + x - 1, -\\frac{1}{2} \\, \\sqrt{5} - \\frac{1}{2}, \\frac{1}{2} \\, \\sqrt{5} - \\frac{1}{2}\\right)\\)</html>"
      ],
      "text/latex": [
       "$\\displaystyle \\left(x^{4} + x^{3} + x^{2} + x - 1, -\\frac{1}{2} \\, \\sqrt{5} - \\frac{1}{2}, \\frac{1}{2} \\, \\sqrt{5} - \\frac{1}{2}\\right)$"
      ],
      "text/plain": [
       "(x^4 + x^3 + x^2 + x - 1, -1/2*sqrt(5) - 1/2, 1/2*sqrt(5) - 1/2)"
      ]
     },
     "execution_count": 145,
     "metadata": {},
     "output_type": "execute_result"
    }
   ],
   "source": [
    "def nbonacci_poly(d):\n",
    "    i = var('i')\n",
    "    return x^(d+1) + sum(x^i, i, 1, d) - 1\n",
    "nbonacci_poly(3), *[r[0] for r in nbonacci_poly(1).roots()]"
   ]
  },
  {
   "cell_type": "code",
   "execution_count": 242,
   "id": "a4a27c85-f6a5-480c-a97c-ae85dd2c98d5",
   "metadata": {},
   "outputs": [],
   "source": [
    "y = polygen(RR, 'y')\n",
    "d = 5\n",
    "\n",
    "p = nbonacci_poly(d)\n",
    "psi_real = find_root(p, 0, 1)\n",
    "K.<psi> = NumberField(p, embedding=RR(psi_real))"
   ]
  },
  {
   "cell_type": "code",
   "execution_count": 168,
   "id": "58aaa3a2-01d4-4e7f-81b5-ddd7b240816f",
   "metadata": {},
   "outputs": [
    {
     "data": {
      "text/html": [
       "<html>\\(\\displaystyle \\left(\\psi, \\psi^{2} + \\psi, \\psi^{3} + \\psi^{2} + \\psi, \\psi^{4} + \\psi^{3} + \\psi^{2} + \\psi, \\psi^{5} + \\psi^{4} + \\psi^{3} + \\psi^{2} + \\psi\\right)\\)</html>"
      ],
      "text/latex": [
       "$\\displaystyle \\left(\\psi, \\psi^{2} + \\psi, \\psi^{3} + \\psi^{2} + \\psi, \\psi^{4} + \\psi^{3} + \\psi^{2} + \\psi, \\psi^{5} + \\psi^{4} + \\psi^{3} + \\psi^{2} + \\psi\\right)$"
      ],
      "text/plain": [
       "(psi,\n",
       " psi^2 + psi,\n",
       " psi^3 + psi^2 + psi,\n",
       " psi^4 + psi^3 + psi^2 + psi,\n",
       " psi^5 + psi^4 + psi^3 + psi^2 + psi)"
      ]
     },
     "execution_count": 168,
     "metadata": {},
     "output_type": "execute_result"
    }
   ],
   "source": [
    "xs = tuple(sum(psi^i for i in range(1, k+1)) for k in range(1, d + 1))\n",
    "xs"
   ]
  },
  {
   "cell_type": "code",
   "execution_count": 216,
   "id": "4d5821e8-55c0-4fe5-818b-c20a691c86cb",
   "metadata": {},
   "outputs": [
    {
     "data": {
      "text/html": [
       "<html>\\(\\displaystyle \\left(1, \\left(\\psi^{5} + \\psi^{4} + \\psi^{3} + \\psi^{2} + \\psi, \\psi, \\psi^{2} + \\psi, \\psi^{3} + \\psi^{2} + \\psi, \\psi^{4} + \\psi^{3} + \\psi^{2} + \\psi\\right)\\right)\\)</html>"
      ],
      "text/latex": [
       "$\\displaystyle \\left(1, \\left(\\psi^{5} + \\psi^{4} + \\psi^{3} + \\psi^{2} + \\psi, \\psi, \\psi^{2} + \\psi, \\psi^{3} + \\psi^{2} + \\psi, \\psi^{4} + \\psi^{3} + \\psi^{2} + \\psi\\right)\\right)$"
      ],
      "text/plain": [
       "(1,\n",
       " (psi^5 + psi^4 + psi^3 + psi^2 + psi,\n",
       "  psi,\n",
       "  psi^2 + psi,\n",
       "  psi^3 + psi^2 + psi,\n",
       "  psi^4 + psi^3 + psi^2 + psi))"
      ]
     },
     "execution_count": 216,
     "metadata": {},
     "output_type": "execute_result"
    }
   ],
   "source": [
    "ys = pivot(xs, 0)\n",
    "argmin(ys), ys"
   ]
  },
  {
   "cell_type": "code",
   "execution_count": 254,
   "id": "45b4e22a-625b-4c59-9fad-e02fc1df1960",
   "metadata": {},
   "outputs": [
    {
     "data": {
      "text/html": [
       "<html>\\(\\displaystyle \\left[-1, -1, -1, -1, -1, -1, 1\\right]\\)</html>"
      ],
      "text/latex": [
       "$\\displaystyle \\left[-1, -1, -1, -1, -1, -1, 1\\right]$"
      ],
      "text/plain": [
       "[-1, -1, -1, -1, -1, -1, 1]"
      ]
     },
     "execution_count": 254,
     "metadata": {},
     "output_type": "execute_result"
    }
   ],
   "source": [
    "q = factor(-x^6 * p(x=1/x))\n",
    "phi_real = find_root(q, 1, 2)\n",
    "L.<phi> = NumberField(q, embedding=RR(phi_real))\n",
    "q.list()"
   ]
  },
  {
   "cell_type": "markdown",
   "id": "55169f2f-ad25-4873-8d2c-42814477b6ec",
   "metadata": {
    "jp-MarkdownHeadingCollapsed": true
   },
   "source": [
    "# Worst-Case Analysis"
   ]
  },
  {
   "cell_type": "code",
   "execution_count": 60,
   "id": "f89b568e-bd94-442e-8793-d5e954814c56",
   "metadata": {},
   "outputs": [
    {
     "data": {
      "text/html": [
       "<html>\\(\\displaystyle \\left(0, 0, 0\\right)\\)</html>"
      ],
      "text/latex": [
       "$\\displaystyle \\left(0, 0, 0\\right)$"
      ],
      "text/plain": [
       "(0, 0, 0)"
      ]
     },
     "execution_count": 60,
     "metadata": {},
     "output_type": "execute_result"
    }
   ],
   "source": [
    "d = 3\n",
    "xs = tuple(i / (d + 1) for i in range(1, d + 1))\n",
    "pivot(xs, 0)"
   ]
  },
  {
   "cell_type": "code",
   "execution_count": 133,
   "id": "749b05cd-c18c-4490-ba0c-8f018ea476e1",
   "metadata": {},
   "outputs": [],
   "source": [
    "def unpivot(y, values, indices):\n",
    "    for a, l in zip(values, indices):\n",
    "        x = [0] * len(ys)\n",
    "        for i, (yi, ai) in enumerate(zip(y, a)):\n",
    "            if i == l:\n",
    "                x[i] = frac(1 / (ai + yi))\n",
    "            else:\n",
    "                x[i] = frac((ai + yi) / (a[l] + y[l]))\n",
    "        y = x\n",
    "    return y"
   ]
  },
  {
   "cell_type": "code",
   "execution_count": 165,
   "id": "ba40be70-6e69-4465-937a-2ea688c08227",
   "metadata": {},
   "outputs": [
    {
     "data": {
      "text/html": [
       "<div class=\"notruncate\">\n",
       "<table  class=\"table_form\">\n",
       "<tbody>\n",
       "<tr>\n",
       "<th class=\"ch\"{style_attr}></th>\n",
       "<th style=\"text-align:left\">\\(\\frac{128}{309}\\)</th>\n",
       "<th style=\"text-align:left\">\\(\\frac{218}{309}\\)</th>\n",
       "<th style=\"text-align:left\">\\(\\frac{73}{103}\\)</th>\n",
       "</tr>\n",
       "<tr class =\"row-a\">\n",
       "<td class=\"ch\"{style_attr}>\\(\\frac{128}{309}\\)</td>\n",
       "<td style=\"text-align:left\">\\(\\frac{53}{128}\\)</td>\n",
       "<td style=\"text-align:left\">\\(\\frac{64}{109}\\)</td>\n",
       "<td style=\"text-align:left\">\\(\\frac{128}{219}\\)</td>\n",
       "</tr>\n",
       "<tr class =\"row-b\">\n",
       "<td class=\"ch\"{style_attr}>\\(\\frac{218}{309}\\)</td>\n",
       "<td style=\"text-align:left\">\\(\\frac{45}{64}\\)</td>\n",
       "<td style=\"text-align:left\">\\(\\frac{91}{218}\\)</td>\n",
       "<td style=\"text-align:left\">\\(\\frac{218}{219}\\)</td>\n",
       "</tr>\n",
       "<tr class =\"row-a\">\n",
       "<td class=\"ch\"{style_attr}>\\(\\frac{73}{103}\\)</td>\n",
       "<td style=\"text-align:left\">\\(\\frac{91}{128}\\)</td>\n",
       "<td style=\"text-align:left\">\\(\\frac{1}{218}\\)</td>\n",
       "<td style=\"text-align:left\">\\(\\frac{30}{73}\\)</td>\n",
       "</tr>\n",
       "</tbody>\n",
       "</table>\n",
       "</div>"
      ],
      "text/plain": [
       "          │ 128/309   218/309   73/103\n",
       "├─────────┼─────────┼─────────┼─────────┤\n",
       "  128/309 │ 53/128    64/109    128/219\n",
       "  218/309 │ 45/64     91/218    218/219\n",
       "  73/103  │ 91/128    1/218     30/73"
      ]
     },
     "execution_count": 165,
     "metadata": {},
     "output_type": "execute_result"
    }
   ],
   "source": [
    "ys = tuple(sorted(unpivot(xs, [(2, 1, 1)] * 5, [0] * 5)))\n",
    "table(distance_matrix(ys), header_row=ys, header_column=['', *ys])"
   ]
  },
  {
   "cell_type": "code",
   "execution_count": 163,
   "id": "25eae55e-b1ce-4e3c-9903-e38c6361c655",
   "metadata": {},
   "outputs": [
    {
     "data": {
      "text/html": [
       "<html>\\(\\displaystyle \\left(0, 0, 0\\right)\\)</html>"
      ],
      "text/latex": [
       "$\\displaystyle \\left(0, 0, 0\\right)$"
      ],
      "text/plain": [
       "(0, 0, 0)"
      ]
     },
     "execution_count": 163,
     "metadata": {},
     "output_type": "execute_result"
    }
   ],
   "source": [
    "pivot(ys, 0, 1, 2)"
   ]
  },
  {
   "cell_type": "code",
   "execution_count": 16,
   "id": "c8085c81-fe94-4d0b-a0db-6db1c9cd41b1",
   "metadata": {},
   "outputs": [
    {
     "data": {
      "text/html": [
       "<html>\\(\\displaystyle \\left(0, \\phi - 1\\right)\\)</html>"
      ],
      "text/latex": [
       "$\\displaystyle \\left(0, \\phi - 1\\right)$"
      ],
      "text/plain": [
       "(0, phi - 1)"
      ]
     },
     "execution_count": 16,
     "metadata": {},
     "output_type": "execute_result"
    }
   ],
   "source": [
    "K.<phi> = NumberField(x^3 - x - 1, embedding=RR(2))\n",
    "psi = 1/phi\n",
    "\n",
    "A = matrix([[1, phi, phi^2], [1, -psi]]).transpose()\n",
    "b = vector([1, 1])\n",
    "xs = A.solve_right(b)\n",
    "pivot(xs, 1, 1, *[1]*10)"
   ]
  },
  {
   "cell_type": "code",
   "execution_count": 77,
   "id": "01720014-c65a-46a0-8152-bedb954945ff",
   "metadata": {},
   "outputs": [],
   "source": [
    "def min_pivot(xs, n):\n",
    "    coeffs = []\n",
    "    for _ in range(n):\n",
    "        l = None\n",
    "        for i, xi in enumerate(xs):\n",
    "            if (l is None or frac(xs[l]) > frac(xi)) and frac(xi) != 0:\n",
    "                l = i\n",
    "        if l is None:\n",
    "            break\n",
    "            \n",
    "        xs, c = pivot(xs, l)\n",
    "        coeffs += c\n",
    "    return xs, coeffs"
   ]
  }
 ],
 "metadata": {
  "kernelspec": {
   "display_name": "SageMath 10.5",
   "language": "sage",
   "name": "sagemath"
  },
  "language_info": {
   "codemirror_mode": {
    "name": "ipython",
    "version": 3
   },
   "file_extension": ".py",
   "mimetype": "text/x-python",
   "name": "python",
   "nbconvert_exporter": "python",
   "pygments_lexer": "ipython3",
   "version": "3.13.2"
  }
 },
 "nbformat": 4,
 "nbformat_minor": 5
}
